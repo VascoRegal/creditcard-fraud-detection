{
 "cells": [
  {
   "cell_type": "markdown",
   "id": "62b4ab75",
   "metadata": {},
   "source": [
    "## Dependencies and data import"
   ]
  },
  {
   "cell_type": "code",
   "execution_count": 1,
   "id": "13ba003b",
   "metadata": {},
   "outputs": [
    {
     "data": {
      "text/html": [
       "<div>\n",
       "<style scoped>\n",
       "    .dataframe tbody tr th:only-of-type {\n",
       "        vertical-align: middle;\n",
       "    }\n",
       "\n",
       "    .dataframe tbody tr th {\n",
       "        vertical-align: top;\n",
       "    }\n",
       "\n",
       "    .dataframe thead th {\n",
       "        text-align: right;\n",
       "    }\n",
       "</style>\n",
       "<table border=\"1\" class=\"dataframe\">\n",
       "  <thead>\n",
       "    <tr style=\"text-align: right;\">\n",
       "      <th></th>\n",
       "      <th>Time</th>\n",
       "      <th>V1</th>\n",
       "      <th>V2</th>\n",
       "      <th>V3</th>\n",
       "      <th>V4</th>\n",
       "      <th>V5</th>\n",
       "      <th>V6</th>\n",
       "      <th>V7</th>\n",
       "      <th>V8</th>\n",
       "      <th>V9</th>\n",
       "      <th>...</th>\n",
       "      <th>V21</th>\n",
       "      <th>V22</th>\n",
       "      <th>V23</th>\n",
       "      <th>V24</th>\n",
       "      <th>V25</th>\n",
       "      <th>V26</th>\n",
       "      <th>V27</th>\n",
       "      <th>V28</th>\n",
       "      <th>Amount</th>\n",
       "      <th>Class</th>\n",
       "    </tr>\n",
       "  </thead>\n",
       "  <tbody>\n",
       "    <tr>\n",
       "      <th>0</th>\n",
       "      <td>0.0</td>\n",
       "      <td>-1.359807</td>\n",
       "      <td>-0.072781</td>\n",
       "      <td>2.536347</td>\n",
       "      <td>1.378155</td>\n",
       "      <td>-0.338321</td>\n",
       "      <td>0.462388</td>\n",
       "      <td>0.239599</td>\n",
       "      <td>0.098698</td>\n",
       "      <td>0.363787</td>\n",
       "      <td>...</td>\n",
       "      <td>-0.018307</td>\n",
       "      <td>0.277838</td>\n",
       "      <td>-0.110474</td>\n",
       "      <td>0.066928</td>\n",
       "      <td>0.128539</td>\n",
       "      <td>-0.189115</td>\n",
       "      <td>0.133558</td>\n",
       "      <td>-0.021053</td>\n",
       "      <td>149.62</td>\n",
       "      <td>0</td>\n",
       "    </tr>\n",
       "    <tr>\n",
       "      <th>1</th>\n",
       "      <td>0.0</td>\n",
       "      <td>1.191857</td>\n",
       "      <td>0.266151</td>\n",
       "      <td>0.166480</td>\n",
       "      <td>0.448154</td>\n",
       "      <td>0.060018</td>\n",
       "      <td>-0.082361</td>\n",
       "      <td>-0.078803</td>\n",
       "      <td>0.085102</td>\n",
       "      <td>-0.255425</td>\n",
       "      <td>...</td>\n",
       "      <td>-0.225775</td>\n",
       "      <td>-0.638672</td>\n",
       "      <td>0.101288</td>\n",
       "      <td>-0.339846</td>\n",
       "      <td>0.167170</td>\n",
       "      <td>0.125895</td>\n",
       "      <td>-0.008983</td>\n",
       "      <td>0.014724</td>\n",
       "      <td>2.69</td>\n",
       "      <td>0</td>\n",
       "    </tr>\n",
       "    <tr>\n",
       "      <th>2</th>\n",
       "      <td>1.0</td>\n",
       "      <td>-1.358354</td>\n",
       "      <td>-1.340163</td>\n",
       "      <td>1.773209</td>\n",
       "      <td>0.379780</td>\n",
       "      <td>-0.503198</td>\n",
       "      <td>1.800499</td>\n",
       "      <td>0.791461</td>\n",
       "      <td>0.247676</td>\n",
       "      <td>-1.514654</td>\n",
       "      <td>...</td>\n",
       "      <td>0.247998</td>\n",
       "      <td>0.771679</td>\n",
       "      <td>0.909412</td>\n",
       "      <td>-0.689281</td>\n",
       "      <td>-0.327642</td>\n",
       "      <td>-0.139097</td>\n",
       "      <td>-0.055353</td>\n",
       "      <td>-0.059752</td>\n",
       "      <td>378.66</td>\n",
       "      <td>0</td>\n",
       "    </tr>\n",
       "    <tr>\n",
       "      <th>3</th>\n",
       "      <td>1.0</td>\n",
       "      <td>-0.966272</td>\n",
       "      <td>-0.185226</td>\n",
       "      <td>1.792993</td>\n",
       "      <td>-0.863291</td>\n",
       "      <td>-0.010309</td>\n",
       "      <td>1.247203</td>\n",
       "      <td>0.237609</td>\n",
       "      <td>0.377436</td>\n",
       "      <td>-1.387024</td>\n",
       "      <td>...</td>\n",
       "      <td>-0.108300</td>\n",
       "      <td>0.005274</td>\n",
       "      <td>-0.190321</td>\n",
       "      <td>-1.175575</td>\n",
       "      <td>0.647376</td>\n",
       "      <td>-0.221929</td>\n",
       "      <td>0.062723</td>\n",
       "      <td>0.061458</td>\n",
       "      <td>123.50</td>\n",
       "      <td>0</td>\n",
       "    </tr>\n",
       "    <tr>\n",
       "      <th>4</th>\n",
       "      <td>2.0</td>\n",
       "      <td>-1.158233</td>\n",
       "      <td>0.877737</td>\n",
       "      <td>1.548718</td>\n",
       "      <td>0.403034</td>\n",
       "      <td>-0.407193</td>\n",
       "      <td>0.095921</td>\n",
       "      <td>0.592941</td>\n",
       "      <td>-0.270533</td>\n",
       "      <td>0.817739</td>\n",
       "      <td>...</td>\n",
       "      <td>-0.009431</td>\n",
       "      <td>0.798278</td>\n",
       "      <td>-0.137458</td>\n",
       "      <td>0.141267</td>\n",
       "      <td>-0.206010</td>\n",
       "      <td>0.502292</td>\n",
       "      <td>0.219422</td>\n",
       "      <td>0.215153</td>\n",
       "      <td>69.99</td>\n",
       "      <td>0</td>\n",
       "    </tr>\n",
       "  </tbody>\n",
       "</table>\n",
       "<p>5 rows × 31 columns</p>\n",
       "</div>"
      ],
      "text/plain": [
       "   Time        V1        V2        V3        V4        V5        V6        V7  \\\n",
       "0   0.0 -1.359807 -0.072781  2.536347  1.378155 -0.338321  0.462388  0.239599   \n",
       "1   0.0  1.191857  0.266151  0.166480  0.448154  0.060018 -0.082361 -0.078803   \n",
       "2   1.0 -1.358354 -1.340163  1.773209  0.379780 -0.503198  1.800499  0.791461   \n",
       "3   1.0 -0.966272 -0.185226  1.792993 -0.863291 -0.010309  1.247203  0.237609   \n",
       "4   2.0 -1.158233  0.877737  1.548718  0.403034 -0.407193  0.095921  0.592941   \n",
       "\n",
       "         V8        V9  ...       V21       V22       V23       V24       V25  \\\n",
       "0  0.098698  0.363787  ... -0.018307  0.277838 -0.110474  0.066928  0.128539   \n",
       "1  0.085102 -0.255425  ... -0.225775 -0.638672  0.101288 -0.339846  0.167170   \n",
       "2  0.247676 -1.514654  ...  0.247998  0.771679  0.909412 -0.689281 -0.327642   \n",
       "3  0.377436 -1.387024  ... -0.108300  0.005274 -0.190321 -1.175575  0.647376   \n",
       "4 -0.270533  0.817739  ... -0.009431  0.798278 -0.137458  0.141267 -0.206010   \n",
       "\n",
       "        V26       V27       V28  Amount  Class  \n",
       "0 -0.189115  0.133558 -0.021053  149.62      0  \n",
       "1  0.125895 -0.008983  0.014724    2.69      0  \n",
       "2 -0.139097 -0.055353 -0.059752  378.66      0  \n",
       "3 -0.221929  0.062723  0.061458  123.50      0  \n",
       "4  0.502292  0.219422  0.215153   69.99      0  \n",
       "\n",
       "[5 rows x 31 columns]"
      ]
     },
     "execution_count": 1,
     "metadata": {},
     "output_type": "execute_result"
    }
   ],
   "source": [
    "import numpy as np # linear algebra\n",
    "import pandas as pd # data processing, CSV file I/O (e.g. pd.read_csv)\n",
    "from sklearn.model_selection import train_test_split\n",
    "from sklearn.model_selection import StratifiedKFold\n",
    "from sklearn.model_selection import train_test_split\n",
    "from sklearn.linear_model import LogisticRegression\n",
    "from sklearn.svm import SVC\n",
    "from sklearn.naive_bayes import GaussianNB\n",
    "from sklearn.metrics import accuracy_score, f1_score\n",
    "from sklearn.metrics import classification_report, confusion_matrix\n",
    "from sklearn.model_selection import GridSearchCV, KFold, validation_curve, cross_validate\n",
    "from sklearn.neural_network import MLPClassifier\n",
    "from scipy.stats import norm\n",
    "import seaborn as sns\n",
    "import matplotlib.pyplot as plt\n",
    "\n",
    "\n",
    "df = pd.read_csv('./dataset/creditcard.csv')\n",
    "df.head()"
   ]
  },
  {
   "cell_type": "markdown",
   "id": "5a6998d5",
   "metadata": {},
   "source": [
    "## Data Preparation\n",
    "\n",
    "#### Problem\n",
    "\n",
    "This dataset is not balanced. Using the original dataset will cause some Overfitting and Wrong Correlation issues - We want our model to be certain when a fraud occurs but with it being unbalanced it would assume that in most cases there are no frauds. This means that we need to do some pre processing in order to be able to make conclusions."
   ]
  },
  {
   "cell_type": "code",
   "execution_count": 2,
   "id": "00433dda",
   "metadata": {
    "scrolled": false
   },
   "outputs": [
    {
     "name": "stdout",
     "output_type": "stream",
     "text": [
      "No Frauds: 99.83 % \n",
      "Frauds: 0.17 % \n"
     ]
    },
    {
     "data": {
      "text/plain": [
       "Text(0.5, 1.0, 'Class Distributions \\n (0: No Fraud || 1: Fraud)')"
      ]
     },
     "execution_count": 2,
     "metadata": {},
     "output_type": "execute_result"
    },
    {
     "data": {
      "image/png": "[encoded data removed]",
      "text/plain": [
       "<Figure size 432x288 with 1 Axes>"
      ]
     },
     "metadata": {
      "needs_background": "light"
     },
     "output_type": "display_data"
    }
   ],
   "source": [
    "print('No Frauds:', round(df['Class'].value_counts()[0]/len(df) * 100,2), '% ')\n",
    "print('Frauds:', round(df['Class'].value_counts()[1]/len(df) * 100,2),'% ')\n",
    "\n",
    "sns.countplot(x='Class', data=df)\n",
    "plt.title('Class Distributions \\n (0: No Fraud || 1: Fraud)', fontsize=14)"
   ]
  },
  {
   "cell_type": "markdown",
   "id": "f3465c6a",
   "metadata": {},
   "source": [
    "An inbalanced dataset would raise a lot of overfitting problems, since our algorithm would assume that most transactions are not frauds. By normalizing the data (having a good proportion between frauds and not frauds), we can develop a model to find the patterns that form an actual fraud."
   ]
  },
  {
   "cell_type": "markdown",
   "id": "d59e0734",
   "metadata": {},
   "source": [
    "## Scaling and Distribution\n",
    "\n",
    "We need to create a sub sample of the dataset that offers an equal amount of Fraud and Non-Fraud cases. This will help our algorithm to better understand patterns that determines whether a transaction is a fraud or not. We will create a subsample with a 50/50 ratio of fraud and non-fraud transactions.\n",
    "\n",
    "There are 492 cases of fraud in our dataset. We will need to choose 492 non-fraud cases which can be done randomly from the over thousands of cases present in the data given to create this new subsample with a balanced 50/50 ratio."
   ]
  },
  {
   "cell_type": "markdown",
   "id": "0c013ab1",
   "metadata": {},
   "source": [
    "### Random Under-Sampling\n",
    "In this phase we will remove data to better balance the dataset and avoid overfitting by our model. For this we have to determine how imbalanced is our class and how many instances are considered fraud transactions. We want to have an equal number of fraud and non-fraud transactions in our dataset so for that to happen we can use the 492 fraud causes and randomnly choose another 492 non-fraud transactions to create a new balanced dataset. Lastly, we will shuffle the data to check if our models can maintain a certain accuracy everytime we run this script. Bringing 284,315 non-fraud causes to only 492 makes us lose a lot of data so there is a risk that our classification models will not perform as accurate as we would like to."
   ]
  },
  {
   "cell_type": "code",
   "execution_count": 3,
   "id": "ae94b083",
   "metadata": {},
   "outputs": [
    {
     "name": "stdout",
     "output_type": "stream",
     "text": [
      "Distribution of the Classes in the subsample dataset\n",
      "0    0.5\n",
      "1    0.5\n",
      "Name: Class, dtype: float64\n"
     ]
    },
    {
     "data": {
      "image/png": "[encoded data removed]",
      "text/plain": [
       "<Figure size 432x288 with 1 Axes>"
      ]
     },
     "metadata": {
      "needs_background": "light"
     },
     "output_type": "display_data"
    }
   ],
   "source": [
    "# Since our classes are highly skewed we should make them equivalent in order to have a normal distribution of the classes.\n",
    "\n",
    "# Lets shuffle the data before creating the subsamples\n",
    "\n",
    "df = df.sample(frac=1)\n",
    "\n",
    "# amount of fraud classes 492 rows.\n",
    "fraud_df = df.loc[df['Class'] == 1]\n",
    "non_fraud_df = df.loc[df['Class'] == 0][:492]\n",
    "\n",
    "normal_distributed_df = pd.concat([fraud_df, non_fraud_df])\n",
    "\n",
    "# Shuffle dataframe rows\n",
    "new_df = normal_distributed_df.sample(frac=1, random_state=42)\n",
    "\n",
    "new_df.head()\n",
    "\n",
    "print('Distribution of the Classes in the subsample dataset')\n",
    "print(new_df['Class'].value_counts()/len(new_df))\n",
    "\n",
    "\n",
    "\n",
    "sns.countplot(x='Class', data=new_df)\n",
    "plt.title('Equally Distributed Classes', fontsize=14)\n",
    "plt.show()"
   ]
  },
  {
   "cell_type": "markdown",
   "id": "39191923",
   "metadata": {},
   "source": [
    "## Correlation Matrices\n",
    "Correlation matrices are essential to understand our data. We want to learn if there are features that will heavily influence the decision if a transaction is or is not a fraud. For that, we need to use the subsample we generated above to understand which features have a high positive or negative correlation to fraud transactions."
   ]
  },
  {
   "cell_type": "code",
   "execution_count": 4,
   "id": "26f36324",
   "metadata": {},
   "outputs": [
    {
     "data": {
      "image/png": "[encoded data removed]",
      "text/plain": [
       "<Figure size 1728x1440 with 4 Axes>"
      ]
     },
     "metadata": {
      "needs_background": "light"
     },
     "output_type": "display_data"
    }
   ],
   "source": [
    "# Make sure we use the subsample in our correlation\n",
    "\n",
    "f, (ax1, ax2) = plt.subplots(2, 1, figsize=(24,20))\n",
    "\n",
    "# Entire DataFrame\n",
    "corr = df.corr()\n",
    "sns.heatmap(corr, cmap='coolwarm_r', annot_kws={'size':20}, ax=ax1)\n",
    "ax1.set_title(\"Imbalanced Correlation Matrix\", fontsize=14)\n",
    "\n",
    "\n",
    "sub_sample_corr = new_df.corr()\n",
    "sns.heatmap(sub_sample_corr, cmap='coolwarm_r', annot_kws={'size':20}, ax=ax2)\n",
    "ax2.set_title('SubSample Correlation Matrix', fontsize=14)\n",
    "plt.show()"
   ]
  },
  {
   "cell_type": "code",
   "execution_count": 5,
   "id": "2da4dcaa",
   "metadata": {},
   "outputs": [
    {
     "data": {
      "image/png": "[encoded data removed]",
      "text/plain": [
       "<Figure size 1440x288 with 4 Axes>"
      ]
     },
     "metadata": {
      "needs_background": "light"
     },
     "output_type": "display_data"
    }
   ],
   "source": [
    "f, axes = plt.subplots(ncols=4, figsize=(20,4))\n",
    "\n",
    "# Negative Correlations with our Class (The lower our feature value the more likely it will be a fraud transaction)\n",
    "sns.boxplot(x=\"Class\", y=\"V17\", data=new_df, ax=axes[0])\n",
    "axes[0].set_title('V17 vs Class Negative Correlation')\n",
    "\n",
    "sns.boxplot(x=\"Class\", y=\"V14\", data=new_df, ax=axes[1])\n",
    "axes[1].set_title('V14 vs Class Negative Correlation')\n",
    "\n",
    "\n",
    "sns.boxplot(x=\"Class\", y=\"V12\", data=new_df, ax=axes[2])\n",
    "axes[2].set_title('V12 vs Class Negative Correlation')\n",
    "\n",
    "\n",
    "sns.boxplot(x=\"Class\", y=\"V10\", data=new_df, ax=axes[3])\n",
    "axes[3].set_title('V10 vs Class Negative Correlation')\n",
    "\n",
    "plt.show()"
   ]
  },
  {
   "cell_type": "code",
   "execution_count": 6,
   "id": "3ce46514",
   "metadata": {},
   "outputs": [
    {
     "data": {
      "image/png": "[encoded data removed]",
      "text/plain": [
       "<Figure size 1440x288 with 4 Axes>"
      ]
     },
     "metadata": {
      "needs_background": "light"
     },
     "output_type": "display_data"
    }
   ],
   "source": [
    "f, axes = plt.subplots(ncols=4, figsize=(20,4))\n",
    "\n",
    "# Positive correlations (The higher the feature the probability increases that it will be a fraud transaction)\n",
    "sns.boxplot(x=\"Class\", y=\"V11\", data=new_df, ax=axes[0])\n",
    "axes[0].set_title('V11 vs Class Positive Correlation')\n",
    "\n",
    "sns.boxplot(x=\"Class\", y=\"V4\", data=new_df, ax=axes[1])\n",
    "axes[1].set_title('V4 vs Class Positive Correlation')\n",
    "\n",
    "\n",
    "sns.boxplot(x=\"Class\", y=\"V2\", data=new_df, ax=axes[2])\n",
    "axes[2].set_title('V2 vs Class Positive Correlation')\n",
    "\n",
    "\n",
    "sns.boxplot(x=\"Class\", y=\"V19\", data=new_df, ax=axes[3])\n",
    "axes[3].set_title('V19 vs Class Positive Correlation')\n",
    "\n",
    "plt.show()"
   ]
  },
  {
   "cell_type": "markdown",
   "id": "4d934fbf",
   "metadata": {},
   "source": [
    "### Anomaly Detection\n",
    "There can be some extreme outliers that have to be removed from features. This will positively impact the accuracy of our models.\n",
    "\n",
    "We will use the Interquartile Range Method: We calculate this with the difference between the 75th percentile and 25th percentile. Then we create a threshold beyond the 75th & 25th percentile that will remove outliers that pass this threshold.\n",
    "\n",
    "Since we want to focus on extreme outlier we have to be careful to how far do we want the threshold for removing these outliers."
   ]
  },
  {
   "cell_type": "code",
   "execution_count": 7,
   "id": "d8fd311f",
   "metadata": {
    "scrolled": true
   },
   "outputs": [
    {
     "name": "stderr",
     "output_type": "stream",
     "text": [
      "/home/sousa/.local/lib/python3.8/site-packages/seaborn/distributions.py:2619: FutureWarning: `distplot` is a deprecated function and will be removed in a future version. Please adapt your code to use either `displot` (a figure-level function with similar flexibility) or `histplot` (an axes-level function for histograms).\n",
      "  warnings.warn(msg, FutureWarning)\n",
      "/home/sousa/.local/lib/python3.8/site-packages/seaborn/distributions.py:2619: FutureWarning: `distplot` is a deprecated function and will be removed in a future version. Please adapt your code to use either `displot` (a figure-level function with similar flexibility) or `histplot` (an axes-level function for histograms).\n",
      "  warnings.warn(msg, FutureWarning)\n",
      "/home/sousa/.local/lib/python3.8/site-packages/seaborn/distributions.py:2619: FutureWarning: `distplot` is a deprecated function and will be removed in a future version. Please adapt your code to use either `displot` (a figure-level function with similar flexibility) or `histplot` (an axes-level function for histograms).\n",
      "  warnings.warn(msg, FutureWarning)\n"
     ]
    },
    {
     "data": {
      "image/png": "[encoded data removed]",
      "text/plain": [
       "<Figure size 1440x432 with 3 Axes>"
      ]
     },
     "metadata": {
      "needs_background": "light"
     },
     "output_type": "display_data"
    }
   ],
   "source": [
    "f, (ax1, ax2, ax3) = plt.subplots(1,3, figsize=(20, 6))\n",
    "\n",
    "v14_fraud_dist = new_df['V14'].loc[new_df['Class'] == 1].values\n",
    "sns.distplot(v14_fraud_dist,ax=ax1, fit=norm, color='#FB8861')\n",
    "ax1.set_title('V14 Distribution \\n (Fraud Transactions)', fontsize=14)\n",
    "\n",
    "v12_fraud_dist = new_df['V12'].loc[new_df['Class'] == 1].values\n",
    "sns.distplot(v12_fraud_dist,ax=ax2, fit=norm, color='#56F9BB')\n",
    "ax2.set_title('V12 Distribution \\n (Fraud Transactions)', fontsize=14)\n",
    "\n",
    "\n",
    "v10_fraud_dist = new_df['V10'].loc[new_df['Class'] == 1].values\n",
    "sns.distplot(v10_fraud_dist,ax=ax3, fit=norm, color='#C5B3F9')\n",
    "ax3.set_title('V10 Distribution \\n (Fraud Transactions)', fontsize=14)\n",
    "\n",
    "plt.show()"
   ]
  },
  {
   "cell_type": "code",
   "execution_count": 8,
   "id": "067ea25f",
   "metadata": {},
   "outputs": [
    {
     "name": "stdout",
     "output_type": "stream",
     "text": [
      "Quartile 25: -9.692722964972386 | Quartile 75: -4.282820849486865\n",
      "iqr: 5.409902115485521\n",
      "Cut Off: 8.114853173228282\n",
      "V14 Lower: -17.807576138200666\n",
      "V14 Upper: 3.8320323237414167\n",
      "Feature V14 Outliers for Fraud Cases: 4\n",
      "V10 outliers:[-18.4937733551053, -18.8220867423816, -19.2143254902614, -18.0499976898594]\n",
      "\n",
      "\n",
      "V12 Lower: -17.3430371579634\n",
      "V12 Upper: 5.776973384895937\n",
      "V12 outliers: [-18.6837146333443, -18.5536970096458, -18.4311310279993, -18.0475965708216]\n",
      "Feature V12 Outliers for Fraud Cases: 4\n",
      "Number of Instances after outliers removal: 976\n",
      "\n",
      "\n",
      "V10 Lower: -14.89885463232024\n",
      "V10 Upper: 4.92033495834214\n",
      "V10 outliers: [-22.1870885620007, -16.7460441053944, -22.1870885620007, -15.1237521803455, -18.9132433348732, -15.2318333653018, -15.3460988468775, -16.6011969664137, -22.1870885620007, -20.9491915543611, -15.2399619587112, -24.4031849699728, -15.5637913387301, -15.2399619587112, -16.3035376590131, -17.1415136412892, -24.5882624372475, -15.5637913387301, -15.1241628144947, -19.836148851696, -14.9246547735487, -23.2282548357516, -14.9246547735487, -16.6496281595399, -18.2711681738888, -16.2556117491401, -22.1870885620007]\n",
      "Feature V10 Outliers for Fraud Cases: 27\n",
      "Number of Instances after outliers removal: 945\n"
     ]
    }
   ],
   "source": [
    "# # -----> V14 Removing Outliers (Highest Negative Correlated with Labels)\n",
    "v14_fraud = new_df['V14'].loc[new_df['Class'] == 1].values\n",
    "q25, q75 = np.percentile(v14_fraud, 25), np.percentile(v14_fraud, 75)\n",
    "print('Quartile 25: {} | Quartile 75: {}'.format(q25, q75))\n",
    "v14_iqr = q75 - q25\n",
    "print('iqr: {}'.format(v14_iqr))\n",
    "\n",
    "v14_cut_off = v14_iqr * 1.5\n",
    "v14_lower, v14_upper = q25 - v14_cut_off, q75 + v14_cut_off\n",
    "print('Cut Off: {}'.format(v14_cut_off))\n",
    "print('V14 Lower: {}'.format(v14_lower))\n",
    "print('V14 Upper: {}'.format(v14_upper))\n",
    "\n",
    "outliers = [x for x in v14_fraud if x < v14_lower or x > v14_upper]\n",
    "print('Feature V14 Outliers for Fraud Cases: {}'.format(len(outliers)))\n",
    "print('V10 outliers:{}'.format(outliers))\n",
    "\n",
    "new_df = new_df.drop(new_df[(new_df['V14'] > v14_upper) | (new_df['V14'] < v14_lower)].index)\n",
    "print('\\n')\n",
    "\n",
    "# -----> V12 removing outliers from fraud transactions\n",
    "v12_fraud = new_df['V12'].loc[new_df['Class'] == 1].values\n",
    "q25, q75 = np.percentile(v12_fraud, 25), np.percentile(v12_fraud, 75)\n",
    "v12_iqr = q75 - q25\n",
    "\n",
    "v12_cut_off = v12_iqr * 1.5\n",
    "v12_lower, v12_upper = q25 - v12_cut_off, q75 + v12_cut_off\n",
    "print('V12 Lower: {}'.format(v12_lower))\n",
    "print('V12 Upper: {}'.format(v12_upper))\n",
    "outliers = [x for x in v12_fraud if x < v12_lower or x > v12_upper]\n",
    "print('V12 outliers: {}'.format(outliers))\n",
    "print('Feature V12 Outliers for Fraud Cases: {}'.format(len(outliers)))\n",
    "new_df = new_df.drop(new_df[(new_df['V12'] > v12_upper) | (new_df['V12'] < v12_lower)].index)\n",
    "print('Number of Instances after outliers removal: {}'.format(len(new_df)))\n",
    "print('\\n')\n",
    "\n",
    "\n",
    "# Removing outliers V10 Feature\n",
    "v10_fraud = new_df['V10'].loc[new_df['Class'] == 1].values\n",
    "q25, q75 = np.percentile(v10_fraud, 25), np.percentile(v10_fraud, 75)\n",
    "v10_iqr = q75 - q25\n",
    "\n",
    "v10_cut_off = v10_iqr * 1.5\n",
    "v10_lower, v10_upper = q25 - v10_cut_off, q75 + v10_cut_off\n",
    "print('V10 Lower: {}'.format(v10_lower))\n",
    "print('V10 Upper: {}'.format(v10_upper))\n",
    "outliers = [x for x in v10_fraud if x < v10_lower or x > v10_upper]\n",
    "print('V10 outliers: {}'.format(outliers))\n",
    "print('Feature V10 Outliers for Fraud Cases: {}'.format(len(outliers)))\n",
    "new_df = new_df.drop(new_df[(new_df['V10'] > v10_upper) | (new_df['V10'] < v10_lower)].index)\n",
    "print('Number of Instances after outliers removal: {}'.format(len(new_df)))"
   ]
  },
  {
   "cell_type": "markdown",
   "id": "0f1096ef",
   "metadata": {},
   "source": [
    "# Dataset analysis"
   ]
  },
  {
   "cell_type": "code",
   "execution_count": 9,
   "id": "dc8c731d",
   "metadata": {},
   "outputs": [
    {
     "name": "stdout",
     "output_type": "stream",
     "text": [
      "-----CREDIT CARD FRAUD DETECTION NORMALIZED DATASET-----\n",
      "\n",
      "-> Number of instances: 945\n",
      "\n",
      "-> Number of Features: 30\n",
      "\t - Time\n",
      "\t - V1\n",
      "\t - V2\n",
      "\t - V3\n",
      "\t - V4\n",
      "\t - V5\n",
      "\t - V6\n",
      "\t - V7\n",
      "\t - V8\n",
      "\t - V9\n",
      "\t - V10\n",
      "\t - V11\n",
      "\t - V12\n",
      "\t - V13\n",
      "\t - V14\n",
      "\t - V15\n",
      "\t - V16\n",
      "\t - V17\n",
      "\t - V18\n",
      "\t - V19\n",
      "\t - V20\n",
      "\t - V21\n",
      "\t - V22\n",
      "\t - V23\n",
      "\t - V24\n",
      "\t - V25\n",
      "\t - V26\n",
      "\t - V27\n",
      "\t - V28\n",
      "\t - Amount\n",
      "\n",
      "\tDue to privacy reasons, features have no description.\n",
      "\n",
      "-> Target label (Fraud or Non Fraud): Class\n"
     ]
    }
   ],
   "source": [
    "df = new_df\n",
    "\n",
    "print(\"-----CREDIT CARD FRAUD DETECTION NORMALIZED DATASET-----\\n\")\n",
    "print(f\"-> Number of instances: {len(df)}\\n\")\n",
    "\n",
    "features = df.columns[:-1]\n",
    "target = df.columns[-1]\n",
    "\n",
    "print(f\"-> Number of Features: {len(features)}\")\n",
    "\n",
    "for label in features:\n",
    "    print(f\"\\t - {label}\")\n",
    "\n",
    "print(\"\\n\\tDue to privacy reasons, features have no description.\\n\")\n",
    "print(f\"-> Target label (Fraud or Non Fraud): {target}\")"
   ]
  },
  {
   "cell_type": "code",
   "execution_count": 10,
   "id": "b4189f16",
   "metadata": {},
   "outputs": [
    {
     "name": "stdout",
     "output_type": "stream",
     "text": [
      "(945, 31)\n"
     ]
    }
   ],
   "source": [
    "print(df.shape)"
   ]
  },
  {
   "cell_type": "code",
   "execution_count": 11,
   "id": "f3c67190",
   "metadata": {
    "scrolled": true
   },
   "outputs": [
    {
     "name": "stdout",
     "output_type": "stream",
     "text": [
      "<bound method DataFrame.info of             Time         V1        V2         V3         V4        V5  \\\n",
      "235622  148471.0  -1.185870  1.892210  -1.416270  -0.688111  0.861467   \n",
      "80760    58642.0  -0.451383  2.225147  -4.953050   4.342228 -3.656190   \n",
      "221002  142389.0   1.673840  0.175584  -0.899625   3.708720  0.578195   \n",
      "154670  102489.0  -2.296987  4.064043  -5.957706   4.680008 -2.080938   \n",
      "4920      4462.0  -2.303350  1.759247  -0.359745   2.330243 -0.821628   \n",
      "...          ...        ...       ...        ...        ...       ...   \n",
      "212516  138894.0  -1.298443  1.948100  -4.509947   1.305805 -0.019486   \n",
      "213092  139107.0  -4.666500 -3.952320   0.206094   5.153525  5.229469   \n",
      "139752   83331.0   0.508580 -1.829894   0.561280  -0.690142 -1.729657   \n",
      "11343    19762.0 -14.179165  7.421370 -21.405836  11.927512 -7.974281   \n",
      "10568    17520.0  -5.268053  9.067613 -15.960728  10.296603 -4.708241   \n",
      "\n",
      "              V6         V7        V8        V9  ...       V21       V22  \\\n",
      "235622 -1.432158   1.720730  0.010793 -0.749024  ...  0.097979  0.186941   \n",
      "80760  -0.020121  -5.407554 -0.748436 -1.362198  ... -0.575924  0.495889   \n",
      "221002  0.481916   0.285482  0.093939 -1.146401  ... -0.121646 -0.639110   \n",
      "154670 -1.463272  -4.490847  1.029246 -1.593249  ...  1.089084  0.975398   \n",
      "4920   -0.075788   0.562320 -0.399147 -0.238253  ... -0.294166 -0.932391   \n",
      "...          ...        ...       ...       ...  ...       ...       ...   \n",
      "212516 -0.509238  -2.643398  1.283545 -2.515356  ...  1.178032  1.360989   \n",
      "213092  0.939040  -0.635033 -0.704506 -0.234786  ... -0.664263  1.821422   \n",
      "139752 -0.405811  -0.198682 -0.123834  2.244856  ...  0.236360  0.368079   \n",
      "11343  -2.202710 -15.471612 -0.356595 -6.380125  ... -2.366836  1.130955   \n",
      "10568  -3.395375 -11.161057  5.499963 -5.667376  ...  2.004110  0.191058   \n",
      "\n",
      "             V23       V24       V25       V26       V27       V28  Amount  \\\n",
      "235622 -0.437168 -0.190199  0.499116 -0.654906 -0.207754  0.098711  107.82   \n",
      "80760   1.154128 -0.016186 -2.079928 -0.554377  0.455179  0.001321  113.92   \n",
      "221002  0.245890  0.627108 -0.239727 -0.324313 -0.068396 -0.032118  113.49   \n",
      "154670 -0.625530 -0.535181  0.247435  0.160400  0.969582  0.335041  104.00   \n",
      "4920    0.172726 -0.087330 -0.156114 -0.542628  0.039566 -0.153029  239.93   \n",
      "...          ...       ...       ...       ...       ...       ...     ...   \n",
      "212516 -0.272013 -0.325948  0.290703  0.841295  0.643094  0.201156    0.01   \n",
      "213092  0.113563 -0.759673 -0.502304  0.630639 -0.513880  0.729526   22.47   \n",
      "139752 -0.500999  0.532955  0.537031  0.127369 -0.006129  0.087100  384.00   \n",
      "11343   0.991153 -1.033132 -0.327179  0.634693  2.171905 -1.395288    1.00   \n",
      "10568   0.622928 -1.209264 -0.374799  0.648798  1.584697  0.720056    1.00   \n",
      "\n",
      "        Class  \n",
      "235622      0  \n",
      "80760       1  \n",
      "221002      0  \n",
      "154670      1  \n",
      "4920        1  \n",
      "...       ...  \n",
      "212516      1  \n",
      "213092      1  \n",
      "139752      0  \n",
      "11343       1  \n",
      "10568       1  \n",
      "\n",
      "[945 rows x 31 columns]>\n"
     ]
    }
   ],
   "source": [
    "print(df.info)"
   ]
  },
  {
   "cell_type": "code",
   "execution_count": 12,
   "id": "09991768",
   "metadata": {},
   "outputs": [
    {
     "data": {
      "text/html": [
       "<div>\n",
       "<style scoped>\n",
       "    .dataframe tbody tr th:only-of-type {\n",
       "        vertical-align: middle;\n",
       "    }\n",
       "\n",
       "    .dataframe tbody tr th {\n",
       "        vertical-align: top;\n",
       "    }\n",
       "\n",
       "    .dataframe thead th {\n",
       "        text-align: right;\n",
       "    }\n",
       "</style>\n",
       "<table border=\"1\" class=\"dataframe\">\n",
       "  <thead>\n",
       "    <tr style=\"text-align: right;\">\n",
       "      <th></th>\n",
       "      <th>Time</th>\n",
       "      <th>V1</th>\n",
       "      <th>V2</th>\n",
       "      <th>V3</th>\n",
       "      <th>V4</th>\n",
       "      <th>V5</th>\n",
       "      <th>V6</th>\n",
       "      <th>V7</th>\n",
       "      <th>V8</th>\n",
       "      <th>V9</th>\n",
       "      <th>...</th>\n",
       "      <th>V21</th>\n",
       "      <th>V22</th>\n",
       "      <th>V23</th>\n",
       "      <th>V24</th>\n",
       "      <th>V25</th>\n",
       "      <th>V26</th>\n",
       "      <th>V27</th>\n",
       "      <th>V28</th>\n",
       "      <th>Amount</th>\n",
       "      <th>Class</th>\n",
       "    </tr>\n",
       "  </thead>\n",
       "  <tbody>\n",
       "    <tr>\n",
       "      <th>count</th>\n",
       "      <td>945.000000</td>\n",
       "      <td>945.000000</td>\n",
       "      <td>945.000000</td>\n",
       "      <td>945.000000</td>\n",
       "      <td>945.000000</td>\n",
       "      <td>945.000000</td>\n",
       "      <td>945.000000</td>\n",
       "      <td>945.000000</td>\n",
       "      <td>945.000000</td>\n",
       "      <td>945.000000</td>\n",
       "      <td>...</td>\n",
       "      <td>945.000000</td>\n",
       "      <td>945.000000</td>\n",
       "      <td>945.000000</td>\n",
       "      <td>945.000000</td>\n",
       "      <td>945.000000</td>\n",
       "      <td>945.000000</td>\n",
       "      <td>945.000000</td>\n",
       "      <td>945.000000</td>\n",
       "      <td>945.000000</td>\n",
       "      <td>945.000000</td>\n",
       "    </tr>\n",
       "    <tr>\n",
       "      <th>mean</th>\n",
       "      <td>88406.515344</td>\n",
       "      <td>-1.989709</td>\n",
       "      <td>1.551486</td>\n",
       "      <td>-2.980378</td>\n",
       "      <td>2.037631</td>\n",
       "      <td>-1.186661</td>\n",
       "      <td>-0.650001</td>\n",
       "      <td>-2.162870</td>\n",
       "      <td>0.482332</td>\n",
       "      <td>-1.101140</td>\n",
       "      <td>...</td>\n",
       "      <td>0.525117</td>\n",
       "      <td>-0.066798</td>\n",
       "      <td>-0.022243</td>\n",
       "      <td>-0.066064</td>\n",
       "      <td>0.041019</td>\n",
       "      <td>0.022474</td>\n",
       "      <td>0.156224</td>\n",
       "      <td>0.053167</td>\n",
       "      <td>101.983164</td>\n",
       "      <td>0.483598</td>\n",
       "    </tr>\n",
       "    <tr>\n",
       "      <th>std</th>\n",
       "      <td>48587.048894</td>\n",
       "      <td>4.782382</td>\n",
       "      <td>3.191552</td>\n",
       "      <td>5.417539</td>\n",
       "      <td>2.968747</td>\n",
       "      <td>3.781094</td>\n",
       "      <td>1.712433</td>\n",
       "      <td>4.495432</td>\n",
       "      <td>4.303880</td>\n",
       "      <td>1.959609</td>\n",
       "      <td>...</td>\n",
       "      <td>2.416715</td>\n",
       "      <td>1.042832</td>\n",
       "      <td>1.147093</td>\n",
       "      <td>0.547956</td>\n",
       "      <td>0.673767</td>\n",
       "      <td>0.471073</td>\n",
       "      <td>0.731859</td>\n",
       "      <td>0.402688</td>\n",
       "      <td>229.202304</td>\n",
       "      <td>0.499996</td>\n",
       "    </tr>\n",
       "    <tr>\n",
       "      <th>min</th>\n",
       "      <td>406.000000</td>\n",
       "      <td>-30.552380</td>\n",
       "      <td>-20.495674</td>\n",
       "      <td>-31.103685</td>\n",
       "      <td>-3.710725</td>\n",
       "      <td>-22.105532</td>\n",
       "      <td>-8.439279</td>\n",
       "      <td>-21.922811</td>\n",
       "      <td>-37.353443</td>\n",
       "      <td>-9.283925</td>\n",
       "      <td>...</td>\n",
       "      <td>-6.389132</td>\n",
       "      <td>-8.887017</td>\n",
       "      <td>-19.254328</td>\n",
       "      <td>-2.028024</td>\n",
       "      <td>-4.781606</td>\n",
       "      <td>-1.314999</td>\n",
       "      <td>-4.145618</td>\n",
       "      <td>-2.143115</td>\n",
       "      <td>0.000000</td>\n",
       "      <td>0.000000</td>\n",
       "    </tr>\n",
       "    <tr>\n",
       "      <th>25%</th>\n",
       "      <td>47385.000000</td>\n",
       "      <td>-2.450367</td>\n",
       "      <td>-0.122159</td>\n",
       "      <td>-4.656530</td>\n",
       "      <td>-0.203459</td>\n",
       "      <td>-1.614608</td>\n",
       "      <td>-1.506235</td>\n",
       "      <td>-2.734624</td>\n",
       "      <td>-0.161270</td>\n",
       "      <td>-1.997331</td>\n",
       "      <td>...</td>\n",
       "      <td>-0.121646</td>\n",
       "      <td>-0.546126</td>\n",
       "      <td>-0.235096</td>\n",
       "      <td>-0.406740</td>\n",
       "      <td>-0.296289</td>\n",
       "      <td>-0.295102</td>\n",
       "      <td>-0.054024</td>\n",
       "      <td>-0.048860</td>\n",
       "      <td>1.290000</td>\n",
       "      <td>0.000000</td>\n",
       "    </tr>\n",
       "    <tr>\n",
       "      <th>50%</th>\n",
       "      <td>78137.000000</td>\n",
       "      <td>-0.839673</td>\n",
       "      <td>0.962831</td>\n",
       "      <td>-1.212328</td>\n",
       "      <td>1.204939</td>\n",
       "      <td>-0.390059</td>\n",
       "      <td>-0.644147</td>\n",
       "      <td>-0.591118</td>\n",
       "      <td>0.202915</td>\n",
       "      <td>-0.626821</td>\n",
       "      <td>...</td>\n",
       "      <td>0.163739</td>\n",
       "      <td>-0.016118</td>\n",
       "      <td>-0.019292</td>\n",
       "      <td>-0.021985</td>\n",
       "      <td>0.061748</td>\n",
       "      <td>-0.028819</td>\n",
       "      <td>0.050099</td>\n",
       "      <td>0.039732</td>\n",
       "      <td>17.850000</td>\n",
       "      <td>0.000000</td>\n",
       "    </tr>\n",
       "    <tr>\n",
       "      <th>75%</th>\n",
       "      <td>135102.000000</td>\n",
       "      <td>1.036639</td>\n",
       "      <td>2.608579</td>\n",
       "      <td>0.360506</td>\n",
       "      <td>3.869124</td>\n",
       "      <td>0.566570</td>\n",
       "      <td>0.147544</td>\n",
       "      <td>0.286008</td>\n",
       "      <td>0.876531</td>\n",
       "      <td>0.132698</td>\n",
       "      <td>...</td>\n",
       "      <td>0.641594</td>\n",
       "      <td>0.521162</td>\n",
       "      <td>0.192727</td>\n",
       "      <td>0.343200</td>\n",
       "      <td>0.412166</td>\n",
       "      <td>0.327363</td>\n",
       "      <td>0.423045</td>\n",
       "      <td>0.219021</td>\n",
       "      <td>99.990000</td>\n",
       "      <td>1.000000</td>\n",
       "    </tr>\n",
       "    <tr>\n",
       "      <th>max</th>\n",
       "      <td>172574.000000</td>\n",
       "      <td>2.296862</td>\n",
       "      <td>16.713389</td>\n",
       "      <td>3.135621</td>\n",
       "      <td>11.927512</td>\n",
       "      <td>22.707762</td>\n",
       "      <td>6.908959</td>\n",
       "      <td>7.859179</td>\n",
       "      <td>20.007208</td>\n",
       "      <td>3.931849</td>\n",
       "      <td>...</td>\n",
       "      <td>27.202839</td>\n",
       "      <td>2.941475</td>\n",
       "      <td>5.391332</td>\n",
       "      <td>1.229058</td>\n",
       "      <td>2.215314</td>\n",
       "      <td>2.745261</td>\n",
       "      <td>3.052358</td>\n",
       "      <td>1.779364</td>\n",
       "      <td>2421.420000</td>\n",
       "      <td>1.000000</td>\n",
       "    </tr>\n",
       "  </tbody>\n",
       "</table>\n",
       "<p>8 rows × 31 columns</p>\n",
       "</div>"
      ],
      "text/plain": [
       "                Time          V1          V2          V3          V4  \\\n",
       "count     945.000000  945.000000  945.000000  945.000000  945.000000   \n",
       "mean    88406.515344   -1.989709    1.551486   -2.980378    2.037631   \n",
       "std     48587.048894    4.782382    3.191552    5.417539    2.968747   \n",
       "min       406.000000  -30.552380  -20.495674  -31.103685   -3.710725   \n",
       "25%     47385.000000   -2.450367   -0.122159   -4.656530   -0.203459   \n",
       "50%     78137.000000   -0.839673    0.962831   -1.212328    1.204939   \n",
       "75%    135102.000000    1.036639    2.608579    0.360506    3.869124   \n",
       "max    172574.000000    2.296862   16.713389    3.135621   11.927512   \n",
       "\n",
       "               V5          V6          V7          V8          V9  ...  \\\n",
       "count  945.000000  945.000000  945.000000  945.000000  945.000000  ...   \n",
       "mean    -1.186661   -0.650001   -2.162870    0.482332   -1.101140  ...   \n",
       "std      3.781094    1.712433    4.495432    4.303880    1.959609  ...   \n",
       "min    -22.105532   -8.439279  -21.922811  -37.353443   -9.283925  ...   \n",
       "25%     -1.614608   -1.506235   -2.734624   -0.161270   -1.997331  ...   \n",
       "50%     -0.390059   -0.644147   -0.591118    0.202915   -0.626821  ...   \n",
       "75%      0.566570    0.147544    0.286008    0.876531    0.132698  ...   \n",
       "max     22.707762    6.908959    7.859179   20.007208    3.931849  ...   \n",
       "\n",
       "              V21         V22         V23         V24         V25         V26  \\\n",
       "count  945.000000  945.000000  945.000000  945.000000  945.000000  945.000000   \n",
       "mean     0.525117   -0.066798   -0.022243   -0.066064    0.041019    0.022474   \n",
       "std      2.416715    1.042832    1.147093    0.547956    0.673767    0.471073   \n",
       "min     -6.389132   -8.887017  -19.254328   -2.028024   -4.781606   -1.314999   \n",
       "25%     -0.121646   -0.546126   -0.235096   -0.406740   -0.296289   -0.295102   \n",
       "50%      0.163739   -0.016118   -0.019292   -0.021985    0.061748   -0.028819   \n",
       "75%      0.641594    0.521162    0.192727    0.343200    0.412166    0.327363   \n",
       "max     27.202839    2.941475    5.391332    1.229058    2.215314    2.745261   \n",
       "\n",
       "              V27         V28       Amount       Class  \n",
       "count  945.000000  945.000000   945.000000  945.000000  \n",
       "mean     0.156224    0.053167   101.983164    0.483598  \n",
       "std      0.731859    0.402688   229.202304    0.499996  \n",
       "min     -4.145618   -2.143115     0.000000    0.000000  \n",
       "25%     -0.054024   -0.048860     1.290000    0.000000  \n",
       "50%      0.050099    0.039732    17.850000    0.000000  \n",
       "75%      0.423045    0.219021    99.990000    1.000000  \n",
       "max      3.052358    1.779364  2421.420000    1.000000  \n",
       "\n",
       "[8 rows x 31 columns]"
      ]
     },
     "execution_count": 12,
     "metadata": {},
     "output_type": "execute_result"
    }
   ],
   "source": [
    "df.describe()"
   ]
  },
  {
   "cell_type": "markdown",
   "id": "3e5c0969",
   "metadata": {},
   "source": [
    "## Data normalization"
   ]
  },
  {
   "cell_type": "code",
   "execution_count": 13,
   "id": "07024a50",
   "metadata": {},
   "outputs": [],
   "source": [
    "def featureNormalization(X):\n",
    "    \"\"\"\n",
    "    Take in numpy array of X values and return normalize X values,\n",
    "    the mean and standard deviation of each feature\n",
    "    \"\"\"\n",
    "    mean= np.mean(X, axis=0)\n",
    "    std= np.std(X, axis=0)\n",
    "    \n",
    "    X_norm = (X - mean)/std\n",
    "    \n",
    "    return X_norm , mean , std"
   ]
  },
  {
   "cell_type": "code",
   "execution_count": 14,
   "id": "027ca25f",
   "metadata": {},
   "outputs": [],
   "source": [
    "X = df.drop(\"Class\", axis=1)\n",
    "y = df[\"Class\"]\n",
    "m, n = X.shape[0], X.shape[1]\n",
    "X = X.to_numpy()\n",
    "y = y.values\n",
    "\n",
    "# Normalize the data\n",
    "X, X_mean, X_std = featureNormalization(X)\n",
    "\n",
    "#After normalizing the features, add an extra column of 1's corresponding to x0 = 1.\n",
    "X = np.append(np.ones((m, 1)), X, axis=1)"
   ]
  },
  {
   "cell_type": "markdown",
   "id": "5f9a8121",
   "metadata": {},
   "source": [
    "### Splitting our dataset into training subset and testing subset"
   ]
  },
  {
   "cell_type": "code",
   "execution_count": 15,
   "id": "142b411e",
   "metadata": {},
   "outputs": [],
   "source": [
    "X_train, X_test, y_train, y_test = train_test_split(X, y, test_size=0.2, stratify=y, random_state=2)"
   ]
  },
  {
   "cell_type": "markdown",
   "id": "b7ac8f9a",
   "metadata": {},
   "source": [
    "# Models"
   ]
  },
  {
   "cell_type": "code",
   "execution_count": 16,
   "id": "b449ef2b",
   "metadata": {},
   "outputs": [],
   "source": [
    "# Some helper functions\n",
    "\n",
    "def train_and_analyze(model, X_train, y_train, X_test, y_test):\n",
    "    model.fit(X_train, y_train)\n",
    "    \n",
    "    print(f\"> Model: {model.__class__}\\n\")\n",
    "    \n",
    "    X_test_prediction = model.predict(X_test)\n",
    "    test_data_accuracy = accuracy_score(X_test_prediction, y_test)\n",
    "    f1 = f1_score(y_test, X_test_prediction)\n",
    "\n",
    "    print()\n",
    "    print(\"---- Model Analysis ----\")\n",
    "    print('Accuracy: ', test_data_accuracy)\n",
    "    print('F1 Score: ', f1)\n",
    "    \n",
    "    print()\n",
    "    \n",
    "    print(\"Confusion Matrix: \")\n",
    "    cm = confusion_matrix(y_test, model.predict(X_test))\n",
    "\n",
    "    fig, ax = plt.subplots(figsize=(8, 8))\n",
    "    ax.imshow(cm)\n",
    "    ax.grid(False)\n",
    "    ax.xaxis.set(ticks=(0, 1), ticklabels=('Predicted 0s', 'Predicted 1s'))\n",
    "    ax.yaxis.set(ticks=(0, 1), ticklabels=('Actual 0s', 'Actual 1s'))\n",
    "    ax.set_ylim(1.5, -0.5)\n",
    "    for i in range(2):\n",
    "        for j in range(2):\n",
    "            ax.text(j, i, cm[i, j], ha='center', va='center', color='red')\n",
    "    plt.show()\n",
    "    \n",
    "    print()\n",
    "    print(\"---- Classification Report ----\")\n",
    "    print(classification_report(y_test, model.predict(X_test)))\n",
    "    \n",
    "def hyperparameters(model, params, X, y):\n",
    "    \"\"\"\n",
    "    Find hyperparameters for a model\n",
    "    \"\"\"\n",
    "    print(\"> Hyper Parameter Tuning\")\n",
    "    print(\"Finding Best Params for Model \", model.__class__)\n",
    "    model = GridSearchCV(model, params, scoring=\"accuracy\")\n",
    "    model.fit(X, y)\n",
    "    print(\" Best Params: \")\n",
    "    print(model.best_params_)\n",
    "    \n",
    "    return model.best_params_\n",
    "\n",
    "\n",
    "def kfold(model, k, X_train, y_train, X_test, y_test):\n",
    "    kf = KFold(n_splits=k, shuffle=True)\n",
    "    scores = cross_validate(model, X_train, y_train, scoring=\"accuracy\", cv=k, return_estimator=True)\n",
    "    return scores[\"estimator\"][np.argmax(scores[\"test_score\"])]\n"
   ]
  },
  {
   "cell_type": "markdown",
   "id": "677ae879",
   "metadata": {},
   "source": [
    "## Logistic Regression"
   ]
  },
  {
   "cell_type": "code",
   "execution_count": 17,
   "id": "490fba0a",
   "metadata": {
    "scrolled": false
   },
   "outputs": [
    {
     "name": "stdout",
     "output_type": "stream",
     "text": [
      "\n",
      "\n",
      "|-------------------------------------|\n",
      "|             Base Model              |\n",
      "|-------------------------------------|\n",
      "\n",
      "\n",
      "> Model: <class 'sklearn.linear_model._logistic.LogisticRegression'>\n",
      "\n",
      "\n",
      "---- Model Analysis ----\n",
      "Accuracy:  0.9365079365079365\n",
      "F1 Score:  0.9310344827586207\n",
      "\n",
      "Confusion Matrix: \n"
     ]
    },
    {
     "data": {
      "image/png": "[encoded data removed]",
      "text/plain": [
       "<Figure size 576x576 with 1 Axes>"
      ]
     },
     "metadata": {
      "needs_background": "light"
     },
     "output_type": "display_data"
    },
    {
     "name": "stdout",
     "output_type": "stream",
     "text": [
      "\n",
      "---- Classification Report ----\n",
      "              precision    recall  f1-score   support\n",
      "\n",
      "           0       0.91      0.98      0.94        98\n",
      "           1       0.98      0.89      0.93        91\n",
      "\n",
      "    accuracy                           0.94       189\n",
      "   macro avg       0.94      0.93      0.94       189\n",
      "weighted avg       0.94      0.94      0.94       189\n",
      "\n",
      "\n",
      "\n",
      "|-------------------------------------|\n",
      "|          Hypertuned Params          |\n",
      "|-------------------------------------|\n",
      "\n",
      "\n",
      "> Hyper Parameter Tuning\n",
      "Finding Best Params for Model  <class 'sklearn.linear_model._logistic.LogisticRegression'>\n",
      " Best Params: \n",
      "{'C': 1, 'class_weight': 'balanced', 'max_iter': 100, 'penalty': 'l2', 'solver': 'liblinear'}\n",
      "> Model: <class 'sklearn.linear_model._logistic.LogisticRegression'>\n",
      "\n",
      "\n",
      "---- Model Analysis ----\n",
      "Accuracy:  0.9365079365079365\n",
      "F1 Score:  0.9310344827586207\n",
      "\n",
      "Confusion Matrix: \n"
     ]
    },
    {
     "data": {
      "image/png": "[encoded data removed]",
      "text/plain": [
       "<Figure size 576x576 with 1 Axes>"
      ]
     },
     "metadata": {
      "needs_background": "light"
     },
     "output_type": "display_data"
    },
    {
     "name": "stdout",
     "output_type": "stream",
     "text": [
      "\n",
      "---- Classification Report ----\n",
      "              precision    recall  f1-score   support\n",
      "\n",
      "           0       0.91      0.98      0.94        98\n",
      "           1       0.98      0.89      0.93        91\n",
      "\n",
      "    accuracy                           0.94       189\n",
      "   macro avg       0.94      0.93      0.94       189\n",
      "weighted avg       0.94      0.94      0.94       189\n",
      "\n",
      "\n",
      "\n",
      "|-------------------------------------|\n",
      "|              K-Fold CV              |\n",
      "|-------------------------------------|\n",
      "\n",
      "\n",
      "> Model: <class 'sklearn.linear_model._logistic.LogisticRegression'>\n",
      "\n",
      "\n",
      "---- Model Analysis ----\n",
      "Accuracy:  0.9365079365079365\n",
      "F1 Score:  0.9310344827586207\n",
      "\n",
      "Confusion Matrix: \n"
     ]
    },
    {
     "data": {
      "image/png": "[encoded data removed]",
      "text/plain": [
       "<Figure size 576x576 with 1 Axes>"
      ]
     },
     "metadata": {
      "needs_background": "light"
     },
     "output_type": "display_data"
    },
    {
     "name": "stdout",
     "output_type": "stream",
     "text": [
      "\n",
      "---- Classification Report ----\n",
      "              precision    recall  f1-score   support\n",
      "\n",
      "           0       0.91      0.98      0.94        98\n",
      "           1       0.98      0.89      0.93        91\n",
      "\n",
      "    accuracy                           0.94       189\n",
      "   macro avg       0.94      0.93      0.94       189\n",
      "weighted avg       0.94      0.94      0.94       189\n",
      "\n"
     ]
    }
   ],
   "source": [
    "model = LogisticRegression()\n",
    "hypertuned_model = LogisticRegression()\n",
    "\n",
    "print()\n",
    "print(\"\"\"\n",
    "|-------------------------------------|\n",
    "|             Base Model              |\n",
    "|-------------------------------------|\n",
    "\"\"\")\n",
    "print()\n",
    "train_and_analyze(model, X_train, y_train, X_test, y_test)\n",
    "\n",
    "\n",
    "print()\n",
    "print(\"\"\"\n",
    "|-------------------------------------|\n",
    "|          Hypertuned Params          |\n",
    "|-------------------------------------|\n",
    "\"\"\")\n",
    "print()\n",
    "# Hypertuned logreg\n",
    "logreg_params = [{'solver': ['liblinear'], 'max_iter': [100, 400, 800],\n",
    "                         'C': [0.1, 1, 10, 100, 1000], 'class_weight': ['balanced'],\n",
    "                         'penalty': ['l1', 'l2']}]\n",
    "best_logreg_params = hyperparameters(LogisticRegression(), logreg_params , X_train, y_train)\n",
    "\n",
    "hypertuned_model.set_params(**best_logreg_params)\n",
    "train_and_analyze(hypertuned_model, X_train, y_train, X_test, y_test)\n",
    "\n",
    "\n",
    "print()\n",
    "print(\"\"\"\n",
    "|-------------------------------------|\n",
    "|              K-Fold CV              |\n",
    "|-------------------------------------|\n",
    "\"\"\")\n",
    "print()\n",
    "\n",
    "kfmodel = kfold(hypertuned_model, 5, X_train, y_train, X_test, y_test)\n",
    "train_and_analyze(kfmodel, X_train, y_train, X_test, y_test)"
   ]
  },
  {
   "cell_type": "markdown",
   "id": "eef20f7b",
   "metadata": {},
   "source": [
    "## SVM"
   ]
  },
  {
   "cell_type": "code",
   "execution_count": 18,
   "id": "1b41ebfd",
   "metadata": {
    "scrolled": false
   },
   "outputs": [
    {
     "name": "stdout",
     "output_type": "stream",
     "text": [
      "\n",
      "\n",
      "|-------------------------------------|\n",
      "|             Base Model              |\n",
      "|-------------------------------------|\n",
      "\n",
      "\n",
      "> Model: <class 'sklearn.svm._classes.SVC'>\n",
      "\n",
      "\n",
      "---- Model Analysis ----\n",
      "Accuracy:  0.9417989417989417\n",
      "F1 Score:  0.9364161849710982\n",
      "\n",
      "Confusion Matrix: \n"
     ]
    },
    {
     "data": {
      "image/png": "[encoded data removed]",
      "text/plain": [
       "<Figure size 576x576 with 1 Axes>"
      ]
     },
     "metadata": {
      "needs_background": "light"
     },
     "output_type": "display_data"
    },
    {
     "name": "stdout",
     "output_type": "stream",
     "text": [
      "\n",
      "---- Classification Report ----\n",
      "              precision    recall  f1-score   support\n",
      "\n",
      "           0       0.91      0.99      0.95        98\n",
      "           1       0.99      0.89      0.94        91\n",
      "\n",
      "    accuracy                           0.94       189\n",
      "   macro avg       0.95      0.94      0.94       189\n",
      "weighted avg       0.95      0.94      0.94       189\n",
      "\n",
      "> Hyper Parameter Tuning\n",
      "Finding Best Params for Model  <class 'sklearn.svm._classes.SVC'>\n",
      " Best Params: \n",
      "{'C': 1000, 'gamma': 0.001, 'kernel': 'rbf'}\n",
      "\n",
      "\n",
      "|-------------------------------------|\n",
      "|          Hypertuned Params          |\n",
      "|-------------------------------------|\n",
      "\n",
      "\n",
      "> Model: <class 'sklearn.svm._classes.SVC'>\n",
      "\n",
      "\n",
      "---- Model Analysis ----\n",
      "Accuracy:  0.9523809523809523\n",
      "F1 Score:  0.9479768786127168\n",
      "\n",
      "Confusion Matrix: \n"
     ]
    },
    {
     "data": {
      "image/png": "[encoded data removed]",
      "text/plain": [
       "<Figure size 576x576 with 1 Axes>"
      ]
     },
     "metadata": {
      "needs_background": "light"
     },
     "output_type": "display_data"
    },
    {
     "name": "stdout",
     "output_type": "stream",
     "text": [
      "\n",
      "---- Classification Report ----\n",
      "              precision    recall  f1-score   support\n",
      "\n",
      "           0       0.92      1.00      0.96        98\n",
      "           1       1.00      0.90      0.95        91\n",
      "\n",
      "    accuracy                           0.95       189\n",
      "   macro avg       0.96      0.95      0.95       189\n",
      "weighted avg       0.96      0.95      0.95       189\n",
      "\n",
      "\n",
      "\n",
      "|-------------------------------------|\n",
      "|              K-Fold CV              |\n",
      "|-------------------------------------|\n",
      "\n",
      "\n",
      "> Model: <class 'sklearn.svm._classes.SVC'>\n",
      "\n",
      "\n",
      "---- Model Analysis ----\n",
      "Accuracy:  0.9523809523809523\n",
      "F1 Score:  0.9479768786127168\n",
      "\n",
      "Confusion Matrix: \n"
     ]
    },
    {
     "data": {
      "image/png": "[encoded data removed]",
      "text/plain": [
       "<Figure size 576x576 with 1 Axes>"
      ]
     },
     "metadata": {
      "needs_background": "light"
     },
     "output_type": "display_data"
    },
    {
     "name": "stdout",
     "output_type": "stream",
     "text": [
      "\n",
      "---- Classification Report ----\n",
      "              precision    recall  f1-score   support\n",
      "\n",
      "           0       0.92      1.00      0.96        98\n",
      "           1       1.00      0.90      0.95        91\n",
      "\n",
      "    accuracy                           0.95       189\n",
      "   macro avg       0.96      0.95      0.95       189\n",
      "weighted avg       0.96      0.95      0.95       189\n",
      "\n"
     ]
    }
   ],
   "source": [
    "model = SVC()\n",
    "hypertuned_model = SVC()\n",
    "\n",
    "print()\n",
    "print(\"\"\"\n",
    "|-------------------------------------|\n",
    "|             Base Model              |\n",
    "|-------------------------------------|\n",
    "\"\"\")\n",
    "print()\n",
    "train_and_analyze(model, X_train, y_train, X_test, y_test)\n",
    "\n",
    "svm_parameters = [{'C': [0.01, 0.1, 1, 10, 50, 100, 1000], \n",
    "              'gamma': [0.001, 0.01, 0.03, 0.1, 0.3, 1],\n",
    "              'kernel': ['rbf']}]\n",
    "best_svm_params = hyperparameters(SVC(), svm_parameters , X_train, y_train)\n",
    "\n",
    "print()\n",
    "print(\"\"\"\n",
    "|-------------------------------------|\n",
    "|          Hypertuned Params          |\n",
    "|-------------------------------------|\n",
    "\"\"\")\n",
    "print()\n",
    "hypertuned_model.set_params(**best_svm_params)\n",
    "train_and_analyze(hypertuned_model, X_train, y_train, X_test, y_test)\n",
    "\n",
    "print()\n",
    "print(\"\"\"\n",
    "|-------------------------------------|\n",
    "|              K-Fold CV              |\n",
    "|-------------------------------------|\n",
    "\"\"\")\n",
    "print()\n",
    "\n",
    "kfmodel = kfold(hypertuned_model, 5, X_train, y_train, X_test, y_test)\n",
    "train_and_analyze(kfmodel, X_train, y_train, X_test, y_test)"
   ]
  },
  {
   "cell_type": "markdown",
   "id": "6a73e812",
   "metadata": {},
   "source": [
    "## Gaussian NB"
   ]
  },
  {
   "cell_type": "code",
   "execution_count": 19,
   "id": "2d65e01e",
   "metadata": {
    "scrolled": false
   },
   "outputs": [
    {
     "name": "stdout",
     "output_type": "stream",
     "text": [
      "\n",
      "\n",
      "|-------------------------------------|\n",
      "|             Base Model              |\n",
      "|-------------------------------------|\n",
      "\n",
      "\n",
      "> Model: <class 'sklearn.naive_bayes.GaussianNB'>\n",
      "\n",
      "\n",
      "---- Model Analysis ----\n",
      "Accuracy:  0.9206349206349206\n",
      "F1 Score:  0.9132947976878613\n",
      "\n",
      "Confusion Matrix: \n"
     ]
    },
    {
     "data": {
      "image/png": "[encoded data removed]",
      "text/plain": [
       "<Figure size 576x576 with 1 Axes>"
      ]
     },
     "metadata": {
      "needs_background": "light"
     },
     "output_type": "display_data"
    },
    {
     "name": "stdout",
     "output_type": "stream",
     "text": [
      "\n",
      "---- Classification Report ----\n",
      "              precision    recall  f1-score   support\n",
      "\n",
      "           0       0.89      0.97      0.93        98\n",
      "           1       0.96      0.87      0.91        91\n",
      "\n",
      "    accuracy                           0.92       189\n",
      "   macro avg       0.93      0.92      0.92       189\n",
      "weighted avg       0.92      0.92      0.92       189\n",
      "\n",
      "> Hyper Parameter Tuning\n",
      "Finding Best Params for Model  <class 'sklearn.naive_bayes.GaussianNB'>\n",
      " Best Params: \n",
      "{'var_smoothing': 1e-09}\n",
      "\n",
      "\n",
      "|-------------------------------------|\n",
      "|          Hypertuned Params          |\n",
      "|-------------------------------------|\n",
      "\n",
      "\n",
      "> Model: <class 'sklearn.naive_bayes.GaussianNB'>\n",
      "\n",
      "\n",
      "---- Model Analysis ----\n",
      "Accuracy:  0.9206349206349206\n",
      "F1 Score:  0.9132947976878613\n",
      "\n",
      "Confusion Matrix: \n"
     ]
    },
    {
     "data": {
      "image/png": "[encoded data removed]",
      "text/plain": [
       "<Figure size 576x576 with 1 Axes>"
      ]
     },
     "metadata": {
      "needs_background": "light"
     },
     "output_type": "display_data"
    },
    {
     "name": "stdout",
     "output_type": "stream",
     "text": [
      "\n",
      "---- Classification Report ----\n",
      "              precision    recall  f1-score   support\n",
      "\n",
      "           0       0.89      0.97      0.93        98\n",
      "           1       0.96      0.87      0.91        91\n",
      "\n",
      "    accuracy                           0.92       189\n",
      "   macro avg       0.93      0.92      0.92       189\n",
      "weighted avg       0.92      0.92      0.92       189\n",
      "\n",
      "\n",
      "\n",
      "|-------------------------------------|\n",
      "|              K-Fold CV              |\n",
      "|-------------------------------------|\n",
      "\n",
      "\n",
      "> Model: <class 'sklearn.naive_bayes.GaussianNB'>\n",
      "\n",
      "\n",
      "---- Model Analysis ----\n",
      "Accuracy:  0.9206349206349206\n",
      "F1 Score:  0.9132947976878613\n",
      "\n",
      "Confusion Matrix: \n"
     ]
    },
    {
     "data": {
      "image/png": "[encoded data removed]",
      "text/plain": [
       "<Figure size 576x576 with 1 Axes>"
      ]
     },
     "metadata": {
      "needs_background": "light"
     },
     "output_type": "display_data"
    },
    {
     "name": "stdout",
     "output_type": "stream",
     "text": [
      "\n",
      "---- Classification Report ----\n",
      "              precision    recall  f1-score   support\n",
      "\n",
      "           0       0.89      0.97      0.93        98\n",
      "           1       0.96      0.87      0.91        91\n",
      "\n",
      "    accuracy                           0.92       189\n",
      "   macro avg       0.93      0.92      0.92       189\n",
      "weighted avg       0.92      0.92      0.92       189\n",
      "\n"
     ]
    }
   ],
   "source": [
    "model = GaussianNB()\n",
    "hypertuned_model = GaussianNB()\n",
    "\n",
    "print()\n",
    "print(\"\"\"\n",
    "|-------------------------------------|\n",
    "|             Base Model              |\n",
    "|-------------------------------------|\n",
    "\"\"\")\n",
    "print()\n",
    "train_and_analyze(model, X_train, y_train, X_test, y_test)\n",
    "\n",
    "g_nb_parameters = [{'var_smoothing': [1e-09, 1e-05, 1e-02, 1]}]\n",
    "best_g_nb_params = hyperparameters(GaussianNB(), g_nb_parameters , X_train, y_train)\n",
    "\n",
    "print()\n",
    "print(\"\"\"\n",
    "|-------------------------------------|\n",
    "|          Hypertuned Params          |\n",
    "|-------------------------------------|\n",
    "\"\"\")\n",
    "print()\n",
    "hypertuned_model.set_params(**best_g_nb_params)\n",
    "train_and_analyze(hypertuned_model, X_train, y_train, X_test, y_test)\n",
    "\n",
    "print()\n",
    "print(\"\"\"\n",
    "|-------------------------------------|\n",
    "|              K-Fold CV              |\n",
    "|-------------------------------------|\n",
    "\"\"\")\n",
    "print()\n",
    "\n",
    "kfmodel = kfold(hypertuned_model, 5, X_train, y_train, X_test, y_test)\n",
    "train_and_analyze(kfmodel, X_train, y_train, X_test, y_test)"
   ]
  },
  {
   "cell_type": "markdown",
   "id": "510e28f2",
   "metadata": {},
   "source": [
    "## Neural Network"
   ]
  },
  {
   "cell_type": "code",
   "execution_count": 20,
   "id": "4a5f4b46",
   "metadata": {
    "scrolled": false
   },
   "outputs": [
    {
     "name": "stdout",
     "output_type": "stream",
     "text": [
      "\n",
      "\n",
      "|-------------------------------------|\n",
      "|             Base Model              |\n",
      "|-------------------------------------|\n",
      "\n",
      "\n",
      "> Model: <class 'sklearn.neural_network._multilayer_perceptron.MLPClassifier'>\n",
      "\n",
      "\n",
      "---- Model Analysis ----\n",
      "Accuracy:  0.9523809523809523\n",
      "F1 Score:  0.9491525423728814\n",
      "\n",
      "Confusion Matrix: \n"
     ]
    },
    {
     "data": {
      "image/png": "[encoded data removed]",
      "text/plain": [
       "<Figure size 576x576 with 1 Axes>"
      ]
     },
     "metadata": {
      "needs_background": "light"
     },
     "output_type": "display_data"
    },
    {
     "name": "stdout",
     "output_type": "stream",
     "text": [
      "\n",
      "---- Classification Report ----\n",
      "              precision    recall  f1-score   support\n",
      "\n",
      "           0       0.93      0.98      0.96        98\n",
      "           1       0.98      0.92      0.95        91\n",
      "\n",
      "    accuracy                           0.95       189\n",
      "   macro avg       0.95      0.95      0.95       189\n",
      "weighted avg       0.95      0.95      0.95       189\n",
      "\n",
      "> Hyper Parameter Tuning\n",
      "Finding Best Params for Model  <class 'sklearn.neural_network._multilayer_perceptron.MLPClassifier'>\n",
      " Best Params: \n",
      "{'activation': 'tanh', 'alpha': 0.0001, 'hidden_layer_sizes': (12, 12), 'learning_rate': 'invscaling', 'learning_rate_init': 0.01, 'max_iter': 1000, 'solver': 'adam'}\n",
      "\n",
      "\n",
      "|-------------------------------------|\n",
      "|          Hypertuned Params          |\n",
      "|-------------------------------------|\n",
      "\n",
      "\n",
      "> Model: <class 'sklearn.neural_network._multilayer_perceptron.MLPClassifier'>\n",
      "\n",
      "\n",
      "---- Model Analysis ----\n",
      "Accuracy:  0.9312169312169312\n",
      "F1 Score:  0.9281767955801106\n",
      "\n",
      "Confusion Matrix: \n"
     ]
    },
    {
     "data": {
      "image/png": "[encoded data removed]",
      "text/plain": [
       "<Figure size 576x576 with 1 Axes>"
      ]
     },
     "metadata": {
      "needs_background": "light"
     },
     "output_type": "display_data"
    },
    {
     "name": "stdout",
     "output_type": "stream",
     "text": [
      "\n",
      "---- Classification Report ----\n",
      "              precision    recall  f1-score   support\n",
      "\n",
      "           0       0.93      0.94      0.93        98\n",
      "           1       0.93      0.92      0.93        91\n",
      "\n",
      "    accuracy                           0.93       189\n",
      "   macro avg       0.93      0.93      0.93       189\n",
      "weighted avg       0.93      0.93      0.93       189\n",
      "\n",
      "\n",
      "\n",
      "|-------------------------------------|\n",
      "|              K-Fold CV              |\n",
      "|-------------------------------------|\n",
      "\n",
      "\n",
      "> Model: <class 'sklearn.neural_network._multilayer_perceptron.MLPClassifier'>\n",
      "\n",
      "\n",
      "---- Model Analysis ----\n",
      "Accuracy:  0.9417989417989417\n",
      "F1 Score:  0.9378531073446328\n",
      "\n",
      "Confusion Matrix: \n"
     ]
    },
    {
     "data": {
      "image/png": "[encoded data removed]",
      "text/plain": [
       "<Figure size 576x576 with 1 Axes>"
      ]
     },
     "metadata": {
      "needs_background": "light"
     },
     "output_type": "display_data"
    },
    {
     "name": "stdout",
     "output_type": "stream",
     "text": [
      "\n",
      "---- Classification Report ----\n",
      "              precision    recall  f1-score   support\n",
      "\n",
      "           0       0.92      0.97      0.95        98\n",
      "           1       0.97      0.91      0.94        91\n",
      "\n",
      "    accuracy                           0.94       189\n",
      "   macro avg       0.94      0.94      0.94       189\n",
      "weighted avg       0.94      0.94      0.94       189\n",
      "\n"
     ]
    }
   ],
   "source": [
    "model = MLPClassifier( max_iter=800)\n",
    "hypertuned_model = MLPClassifier()\n",
    "\n",
    "print()\n",
    "print(\"\"\"\n",
    "|-------------------------------------|\n",
    "|             Base Model              |\n",
    "|-------------------------------------|\n",
    "\"\"\")\n",
    "print()\n",
    "train_and_analyze(model, X_train, y_train, X_test, y_test)\n",
    "\n",
    "nn_parameters = [{'solver': ['adam'], 'max_iter': [1000],\n",
    "                     'hidden_layer_sizes': [(12,12), (12,12,12)], 'activation': ['tanh', 'relu'],\n",
    "                     'alpha': [1e-3,1e-4], 'learning_rate': ['constant', 'invscaling'], \n",
    "                     'learning_rate_init': [0.001, 0.01]}]\n",
    "\n",
    "best_nn_params = hyperparameters(MLPClassifier(), nn_parameters , X_train, y_train)\n",
    "\n",
    "print()\n",
    "print(\"\"\"\n",
    "|-------------------------------------|\n",
    "|          Hypertuned Params          |\n",
    "|-------------------------------------|\n",
    "\"\"\")\n",
    "print()\n",
    "hypertuned_model.set_params(**best_nn_params)\n",
    "train_and_analyze(hypertuned_model, X_train, y_train, X_test, y_test)\n",
    "\n",
    "\n",
    "print()\n",
    "print(\"\"\"\n",
    "|-------------------------------------|\n",
    "|              K-Fold CV              |\n",
    "|-------------------------------------|\n",
    "\"\"\")\n",
    "print()\n",
    "\n",
    "kfmodel = kfold(hypertuned_model, 5, X_train, y_train, X_test, y_test)\n",
    "train_and_analyze(kfmodel, X_train, y_train, X_test, y_test)"
   ]
  },
  {
   "cell_type": "code",
   "execution_count": null,
   "id": "7596ee80",
   "metadata": {},
   "outputs": [],
   "source": []
  }
 ],
 "metadata": {
  "interpreter": {
   "hash": "916dbcbb3f70747c44a77c7bcd40155683ae19c65e1c03b4aa3499c5328201f1"
  },
  "kernelspec": {
   "display_name": "Python 3.8.10 64-bit",
   "language": "python",
   "name": "python3"
  },
  "language_info": {
   "codemirror_mode": {
    "name": "ipython",
    "version": 3
   },
   "file_extension": ".py",
   "mimetype": "text/x-python",
   "name": "python",
   "nbconvert_exporter": "python",
   "pygments_lexer": "ipython3",
   "version": "3.8.10"
  }
 },
 "nbformat": 4,
 "nbformat_minor": 5
}
