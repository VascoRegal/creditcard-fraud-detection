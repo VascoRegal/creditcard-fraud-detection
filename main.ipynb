{
 "cells": [
  {
   "cell_type": "markdown",
   "id": "62b4ab75",
   "metadata": {},
   "source": [
    "## Dependencies and data import"
   ]
  },
  {
   "cell_type": "code",
   "execution_count": 30,
   "id": "13ba003b",
   "metadata": {},
   "outputs": [
    {
     "data": {
      "text/html": [
       "<div>\n",
       "<style scoped>\n",
       "    .dataframe tbody tr th:only-of-type {\n",
       "        vertical-align: middle;\n",
       "    }\n",
       "\n",
       "    .dataframe tbody tr th {\n",
       "        vertical-align: top;\n",
       "    }\n",
       "\n",
       "    .dataframe thead th {\n",
       "        text-align: right;\n",
       "    }\n",
       "</style>\n",
       "<table border=\"1\" class=\"dataframe\">\n",
       "  <thead>\n",
       "    <tr style=\"text-align: right;\">\n",
       "      <th></th>\n",
       "      <th>Time</th>\n",
       "      <th>V1</th>\n",
       "      <th>V2</th>\n",
       "      <th>V3</th>\n",
       "      <th>V4</th>\n",
       "      <th>V5</th>\n",
       "      <th>V6</th>\n",
       "      <th>V7</th>\n",
       "      <th>V8</th>\n",
       "      <th>V9</th>\n",
       "      <th>...</th>\n",
       "      <th>V21</th>\n",
       "      <th>V22</th>\n",
       "      <th>V23</th>\n",
       "      <th>V24</th>\n",
       "      <th>V25</th>\n",
       "      <th>V26</th>\n",
       "      <th>V27</th>\n",
       "      <th>V28</th>\n",
       "      <th>Amount</th>\n",
       "      <th>Class</th>\n",
       "    </tr>\n",
       "  </thead>\n",
       "  <tbody>\n",
       "    <tr>\n",
       "      <th>0</th>\n",
       "      <td>0.0</td>\n",
       "      <td>-1.359807</td>\n",
       "      <td>-0.072781</td>\n",
       "      <td>2.536347</td>\n",
       "      <td>1.378155</td>\n",
       "      <td>-0.338321</td>\n",
       "      <td>0.462388</td>\n",
       "      <td>0.239599</td>\n",
       "      <td>0.098698</td>\n",
       "      <td>0.363787</td>\n",
       "      <td>...</td>\n",
       "      <td>-0.018307</td>\n",
       "      <td>0.277838</td>\n",
       "      <td>-0.110474</td>\n",
       "      <td>0.066928</td>\n",
       "      <td>0.128539</td>\n",
       "      <td>-0.189115</td>\n",
       "      <td>0.133558</td>\n",
       "      <td>-0.021053</td>\n",
       "      <td>149.62</td>\n",
       "      <td>0</td>\n",
       "    </tr>\n",
       "    <tr>\n",
       "      <th>1</th>\n",
       "      <td>0.0</td>\n",
       "      <td>1.191857</td>\n",
       "      <td>0.266151</td>\n",
       "      <td>0.166480</td>\n",
       "      <td>0.448154</td>\n",
       "      <td>0.060018</td>\n",
       "      <td>-0.082361</td>\n",
       "      <td>-0.078803</td>\n",
       "      <td>0.085102</td>\n",
       "      <td>-0.255425</td>\n",
       "      <td>...</td>\n",
       "      <td>-0.225775</td>\n",
       "      <td>-0.638672</td>\n",
       "      <td>0.101288</td>\n",
       "      <td>-0.339846</td>\n",
       "      <td>0.167170</td>\n",
       "      <td>0.125895</td>\n",
       "      <td>-0.008983</td>\n",
       "      <td>0.014724</td>\n",
       "      <td>2.69</td>\n",
       "      <td>0</td>\n",
       "    </tr>\n",
       "    <tr>\n",
       "      <th>2</th>\n",
       "      <td>1.0</td>\n",
       "      <td>-1.358354</td>\n",
       "      <td>-1.340163</td>\n",
       "      <td>1.773209</td>\n",
       "      <td>0.379780</td>\n",
       "      <td>-0.503198</td>\n",
       "      <td>1.800499</td>\n",
       "      <td>0.791461</td>\n",
       "      <td>0.247676</td>\n",
       "      <td>-1.514654</td>\n",
       "      <td>...</td>\n",
       "      <td>0.247998</td>\n",
       "      <td>0.771679</td>\n",
       "      <td>0.909412</td>\n",
       "      <td>-0.689281</td>\n",
       "      <td>-0.327642</td>\n",
       "      <td>-0.139097</td>\n",
       "      <td>-0.055353</td>\n",
       "      <td>-0.059752</td>\n",
       "      <td>378.66</td>\n",
       "      <td>0</td>\n",
       "    </tr>\n",
       "    <tr>\n",
       "      <th>3</th>\n",
       "      <td>1.0</td>\n",
       "      <td>-0.966272</td>\n",
       "      <td>-0.185226</td>\n",
       "      <td>1.792993</td>\n",
       "      <td>-0.863291</td>\n",
       "      <td>-0.010309</td>\n",
       "      <td>1.247203</td>\n",
       "      <td>0.237609</td>\n",
       "      <td>0.377436</td>\n",
       "      <td>-1.387024</td>\n",
       "      <td>...</td>\n",
       "      <td>-0.108300</td>\n",
       "      <td>0.005274</td>\n",
       "      <td>-0.190321</td>\n",
       "      <td>-1.175575</td>\n",
       "      <td>0.647376</td>\n",
       "      <td>-0.221929</td>\n",
       "      <td>0.062723</td>\n",
       "      <td>0.061458</td>\n",
       "      <td>123.50</td>\n",
       "      <td>0</td>\n",
       "    </tr>\n",
       "    <tr>\n",
       "      <th>4</th>\n",
       "      <td>2.0</td>\n",
       "      <td>-1.158233</td>\n",
       "      <td>0.877737</td>\n",
       "      <td>1.548718</td>\n",
       "      <td>0.403034</td>\n",
       "      <td>-0.407193</td>\n",
       "      <td>0.095921</td>\n",
       "      <td>0.592941</td>\n",
       "      <td>-0.270533</td>\n",
       "      <td>0.817739</td>\n",
       "      <td>...</td>\n",
       "      <td>-0.009431</td>\n",
       "      <td>0.798278</td>\n",
       "      <td>-0.137458</td>\n",
       "      <td>0.141267</td>\n",
       "      <td>-0.206010</td>\n",
       "      <td>0.502292</td>\n",
       "      <td>0.219422</td>\n",
       "      <td>0.215153</td>\n",
       "      <td>69.99</td>\n",
       "      <td>0</td>\n",
       "    </tr>\n",
       "  </tbody>\n",
       "</table>\n",
       "<p>5 rows × 31 columns</p>\n",
       "</div>"
      ],
      "text/plain": [
       "   Time        V1        V2        V3        V4        V5        V6        V7  \\\n",
       "0   0.0 -1.359807 -0.072781  2.536347  1.378155 -0.338321  0.462388  0.239599   \n",
       "1   0.0  1.191857  0.266151  0.166480  0.448154  0.060018 -0.082361 -0.078803   \n",
       "2   1.0 -1.358354 -1.340163  1.773209  0.379780 -0.503198  1.800499  0.791461   \n",
       "3   1.0 -0.966272 -0.185226  1.792993 -0.863291 -0.010309  1.247203  0.237609   \n",
       "4   2.0 -1.158233  0.877737  1.548718  0.403034 -0.407193  0.095921  0.592941   \n",
       "\n",
       "         V8        V9  ...       V21       V22       V23       V24       V25  \\\n",
       "0  0.098698  0.363787  ... -0.018307  0.277838 -0.110474  0.066928  0.128539   \n",
       "1  0.085102 -0.255425  ... -0.225775 -0.638672  0.101288 -0.339846  0.167170   \n",
       "2  0.247676 -1.514654  ...  0.247998  0.771679  0.909412 -0.689281 -0.327642   \n",
       "3  0.377436 -1.387024  ... -0.108300  0.005274 -0.190321 -1.175575  0.647376   \n",
       "4 -0.270533  0.817739  ... -0.009431  0.798278 -0.137458  0.141267 -0.206010   \n",
       "\n",
       "        V26       V27       V28  Amount  Class  \n",
       "0 -0.189115  0.133558 -0.021053  149.62      0  \n",
       "1  0.125895 -0.008983  0.014724    2.69      0  \n",
       "2 -0.139097 -0.055353 -0.059752  378.66      0  \n",
       "3 -0.221929  0.062723  0.061458  123.50      0  \n",
       "4  0.502292  0.219422  0.215153   69.99      0  \n",
       "\n",
       "[5 rows x 31 columns]"
      ]
     },
     "execution_count": 30,
     "metadata": {},
     "output_type": "execute_result"
    }
   ],
   "source": [
    "import numpy as np # linear algebra\n",
    "import pandas as pd # data processing, CSV file I/O (e.g. pd.read_csv)\n",
    "from sklearn.model_selection import train_test_split\n",
    "from sklearn.model_selection import StratifiedKFold\n",
    "from sklearn.model_selection import train_test_split\n",
    "from sklearn.linear_model import LogisticRegression\n",
    "from sklearn.svm import SVC\n",
    "from sklearn.naive_bayes import GaussianNB\n",
    "from sklearn.metrics import accuracy_score, f1_score\n",
    "from sklearn.metrics import classification_report, confusion_matrix\n",
    "from sklearn.model_selection import GridSearchCV, KFold\n",
    "from sklearn.neural_network import MLPClassifier\n",
    "from scipy.stats import norm\n",
    "import seaborn as sns\n",
    "import matplotlib.pyplot as plt\n",
    "\n",
    "\n",
    "df = pd.read_csv('./dataset/creditcard.csv')\n",
    "df.head()"
   ]
  },
  {
   "cell_type": "markdown",
   "id": "5a6998d5",
   "metadata": {},
   "source": [
    "## Data Preparation\n",
    "\n",
    "#### Problem\n",
    "\n",
    "This dataset is not balanced. Using the original dataset will cause some Overfitting and Wrong Correlation issues - We want our model to be certain when a fraud occurs but with it being unbalanced it would assume that in most cases there are no frauds. This means that we need to do some pre processing in order to be able to make conclusions."
   ]
  },
  {
   "cell_type": "code",
   "execution_count": 31,
   "id": "00433dda",
   "metadata": {
    "scrolled": false
   },
   "outputs": [
    {
     "name": "stdout",
     "output_type": "stream",
     "text": [
      "No Frauds: 99.83 % \n",
      "Frauds: 0.17 % \n"
     ]
    },
    {
     "data": {
      "text/plain": [
       "Text(0.5, 1.0, 'Class Distributions \\n (0: No Fraud || 1: Fraud)')"
      ]
     },
     "execution_count": 31,
     "metadata": {},
     "output_type": "execute_result"
    },
    {
     "data": {
      "image/png": "[encoded data removed]",
      "text/plain": [
       "<Figure size 432x288 with 1 Axes>"
      ]
     },
     "metadata": {
      "needs_background": "light"
     },
     "output_type": "display_data"
    }
   ],
   "source": [
    "print('No Frauds:', round(df['Class'].value_counts()[0]/len(df) * 100,2), '% ')\n",
    "print('Frauds:', round(df['Class'].value_counts()[1]/len(df) * 100,2),'% ')\n",
    "\n",
    "sns.countplot(x='Class', data=df)\n",
    "plt.title('Class Distributions \\n (0: No Fraud || 1: Fraud)', fontsize=14)"
   ]
  },
  {
   "cell_type": "markdown",
   "id": "f3465c6a",
   "metadata": {},
   "source": [
    "An inbalanced dataset would raise a lot of overfitting problems, since our algorithm would assume that most transactions are not frauds. By normalizing the data (having a good proportion between frauds and not frauds), we can develop a model to find the patterns that form an actual fraud."
   ]
  },
  {
   "cell_type": "markdown",
   "id": "d59e0734",
   "metadata": {},
   "source": [
    "## Scaling and Distribution\n",
    "\n",
    "We need to create a sub sample of the dataset that offers an equal amount of Fraud and Non-Fraud cases. This will help our algorithm to better understand patterns that determines whether a transaction is a fraud or not. We will create a subsample with a 50/50 ratio of fraud and non-fraud transactions.\n",
    "\n",
    "There are 492 cases of fraud in our dataset. We will need to choose 492 non-fraud cases which can be done randomly from the over thousands of cases present in the data given to create this new subsample with a balanced 50/50 ratio."
   ]
  },
  {
   "cell_type": "markdown",
   "id": "b01879b2",
   "metadata": {},
   "source": [
    "### Splitting the Data on the Original Dataset\n",
    "\n",
    "Before proceeding with the Random Undersampling technique we need to separate the original dataset for testing purposes because we want to test our models on the original testing set and not on the generated set from either of these techniques. We want to fit the model either with the undersample and oversample for our models to detect the patterns and then test it on the original testing set"
   ]
  },
  {
   "cell_type": "code",
   "execution_count": 32,
   "id": "771c097b",
   "metadata": {},
   "outputs": [
    {
     "name": "stdout",
     "output_type": "stream",
     "text": [
      "Train: [ 30473  30496  31002 ... 284804 284805 284806] Test: [    0     1     2 ... 57017 57018 57019]\n",
      "Train: [     0      1      2 ... 284804 284805 284806] Test: [ 30473  30496  31002 ... 113964 113965 113966]\n",
      "Train: [     0      1      2 ... 284804 284805 284806] Test: [ 81609  82400  83053 ... 170946 170947 170948]\n",
      "Train: [     0      1      2 ... 284804 284805 284806] Test: [150654 150660 150661 ... 227866 227867 227868]\n",
      "Train: [     0      1      2 ... 227866 227867 227868] Test: [212516 212644 213092 ... 284804 284805 284806]\n",
      "----------------------------------------------------------------------------------------------------\n",
      "Label Distributions: \n",
      "\n",
      "[0.99827076 0.00172924]\n",
      "[0.99827952 0.00172048]\n"
     ]
    }
   ],
   "source": [
    "X = df.drop('Class', axis=1)\n",
    "y = df['Class']\n",
    "\n",
    "sss = StratifiedKFold(n_splits=5, random_state=None, shuffle=False)\n",
    "\n",
    "for train_index, test_index in sss.split(X, y):\n",
    "    print(\"Train:\", train_index, \"Test:\", test_index)\n",
    "    original_Xtrain, original_Xtest = X.iloc[train_index], X.iloc[test_index]\n",
    "    original_ytrain, original_ytest = y.iloc[train_index], y.iloc[test_index]\n",
    "\n",
    "# We already have X_train and y_train for undersample data thats why I am using original to distinguish and to not overwrite these variables.\n",
    "# original_Xtrain, original_Xtest, original_ytrain, original_ytest = train_test_split(X, y, test_size=0.2, random_state=42)\n",
    "\n",
    "# Check the Distribution of the labels\n",
    "\n",
    "\n",
    "# Turn into an array\n",
    "original_Xtrain = original_Xtrain.values\n",
    "original_Xtest = original_Xtest.values\n",
    "original_ytrain = original_ytrain.values\n",
    "original_ytest = original_ytest.values\n",
    "\n",
    "# See if both the train and test label distribution are similarly distributed\n",
    "train_unique_label, train_counts_label = np.unique(original_ytrain, return_counts=True)\n",
    "test_unique_label, test_counts_label = np.unique(original_ytest, return_counts=True)\n",
    "print('-' * 100)\n",
    "\n",
    "print('Label Distributions: \\n')\n",
    "print(train_counts_label/ len(original_ytrain))\n",
    "print(test_counts_label/ len(original_ytest))"
   ]
  },
  {
   "cell_type": "markdown",
   "id": "0c013ab1",
   "metadata": {},
   "source": [
    "### Random Under-Sampling\n",
    "In this phase we will remove data to better balance the dataset and avoid overfitting by our model. For this we have to determine how imbalanced is our class and how many instances are considered fraud transactions. We want to have an equal number of fraud and non-fraud transactions in our dataset so for that to happen we can use the 492 fraud causes and randomnly choose another 492 non-fraud transactions to create a new balanced dataset. Lastly, we will shuffle the data to check if our models can maintain a certain accuracy everytime we run this script. Bringing 284,315 non-fraud causes to only 492 makes us lose a lot of data so there is a risk that our classification models will not perform as accurate as we would like to."
   ]
  },
  {
   "cell_type": "code",
   "execution_count": 33,
   "id": "ae94b083",
   "metadata": {},
   "outputs": [
    {
     "name": "stdout",
     "output_type": "stream",
     "text": [
      "Distribution of the Classes in the subsample dataset\n",
      "0    0.5\n",
      "1    0.5\n",
      "Name: Class, dtype: float64\n"
     ]
    },
    {
     "data": {
      "image/png": "[encoded data removed]",
      "text/plain": [
       "<Figure size 432x288 with 1 Axes>"
      ]
     },
     "metadata": {
      "needs_background": "light"
     },
     "output_type": "display_data"
    }
   ],
   "source": [
    "# Since our classes are highly skewed we should make them equivalent in order to have a normal distribution of the classes.\n",
    "\n",
    "# Lets shuffle the data before creating the subsamples\n",
    "\n",
    "df = df.sample(frac=1)\n",
    "\n",
    "# amount of fraud classes 492 rows.\n",
    "fraud_df = df.loc[df['Class'] == 1]\n",
    "non_fraud_df = df.loc[df['Class'] == 0][:492]\n",
    "\n",
    "normal_distributed_df = pd.concat([fraud_df, non_fraud_df])\n",
    "\n",
    "# Shuffle dataframe rows\n",
    "new_df = normal_distributed_df.sample(frac=1, random_state=42)\n",
    "\n",
    "new_df.head()\n",
    "\n",
    "print('Distribution of the Classes in the subsample dataset')\n",
    "print(new_df['Class'].value_counts()/len(new_df))\n",
    "\n",
    "\n",
    "\n",
    "sns.countplot(x='Class', data=new_df)\n",
    "plt.title('Equally Distributed Classes', fontsize=14)\n",
    "plt.show()"
   ]
  },
  {
   "cell_type": "markdown",
   "id": "39191923",
   "metadata": {},
   "source": [
    "## Correlation Matrices\n",
    "Correlation matrices are essential to understand our data. We want to learn if there are features that will heavily influence the decision if a transaction is or is not a fraud. For that, we need to use the subsample we generated above to understand which features have a high positive or negative correlation to fraud transactions."
   ]
  },
  {
   "cell_type": "code",
   "execution_count": 35,
   "id": "26f36324",
   "metadata": {},
   "outputs": [
    {
     "data": {
      "image/png": "[encoded data removed]",
      "text/plain": [
       "<Figure size 1728x1440 with 4 Axes>"
      ]
     },
     "metadata": {
      "needs_background": "light"
     },
     "output_type": "display_data"
    }
   ],
   "source": [
    "# Make sure we use the subsample in our correlation\n",
    "\n",
    "f, (ax1, ax2) = plt.subplots(2, 1, figsize=(24,20))\n",
    "\n",
    "# Entire DataFrame\n",
    "corr = df.corr()\n",
    "sns.heatmap(corr, cmap='coolwarm_r', annot_kws={'size':20}, ax=ax1)\n",
    "ax1.set_title(\"Imbalanced Correlation Matrix\", fontsize=14)\n",
    "\n",
    "\n",
    "sub_sample_corr = new_df.corr()\n",
    "sns.heatmap(sub_sample_corr, cmap='coolwarm_r', annot_kws={'size':20}, ax=ax2)\n",
    "ax2.set_title('SubSample Correlation Matrix', fontsize=14)\n",
    "plt.show()"
   ]
  },
  {
   "cell_type": "code",
   "execution_count": 36,
   "id": "2da4dcaa",
   "metadata": {},
   "outputs": [
    {
     "data": {
      "image/png": "[encoded data removed]",
      "text/plain": [
       "<Figure size 1440x288 with 4 Axes>"
      ]
     },
     "metadata": {
      "needs_background": "light"
     },
     "output_type": "display_data"
    }
   ],
   "source": [
    "f, axes = plt.subplots(ncols=4, figsize=(20,4))\n",
    "\n",
    "# Negative Correlations with our Class (The lower our feature value the more likely it will be a fraud transaction)\n",
    "sns.boxplot(x=\"Class\", y=\"V17\", data=new_df, ax=axes[0])\n",
    "axes[0].set_title('V17 vs Class Negative Correlation')\n",
    "\n",
    "sns.boxplot(x=\"Class\", y=\"V14\", data=new_df, ax=axes[1])\n",
    "axes[1].set_title('V14 vs Class Negative Correlation')\n",
    "\n",
    "\n",
    "sns.boxplot(x=\"Class\", y=\"V12\", data=new_df, ax=axes[2])\n",
    "axes[2].set_title('V12 vs Class Negative Correlation')\n",
    "\n",
    "\n",
    "sns.boxplot(x=\"Class\", y=\"V10\", data=new_df, ax=axes[3])\n",
    "axes[3].set_title('V10 vs Class Negative Correlation')\n",
    "\n",
    "plt.show()"
   ]
  },
  {
   "cell_type": "code",
   "execution_count": 37,
   "id": "3ce46514",
   "metadata": {},
   "outputs": [
    {
     "data": {
      "image/png": "[encoded data removed]",
      "text/plain": [
       "<Figure size 1440x288 with 4 Axes>"
      ]
     },
     "metadata": {
      "needs_background": "light"
     },
     "output_type": "display_data"
    }
   ],
   "source": [
    "f, axes = plt.subplots(ncols=4, figsize=(20,4))\n",
    "\n",
    "# Positive correlations (The higher the feature the probability increases that it will be a fraud transaction)\n",
    "sns.boxplot(x=\"Class\", y=\"V11\", data=new_df, ax=axes[0])\n",
    "axes[0].set_title('V11 vs Class Positive Correlation')\n",
    "\n",
    "sns.boxplot(x=\"Class\", y=\"V4\", data=new_df, ax=axes[1])\n",
    "axes[1].set_title('V4 vs Class Positive Correlation')\n",
    "\n",
    "\n",
    "sns.boxplot(x=\"Class\", y=\"V2\", data=new_df, ax=axes[2])\n",
    "axes[2].set_title('V2 vs Class Positive Correlation')\n",
    "\n",
    "\n",
    "sns.boxplot(x=\"Class\", y=\"V19\", data=new_df, ax=axes[3])\n",
    "axes[3].set_title('V19 vs Class Positive Correlation')\n",
    "\n",
    "plt.show()"
   ]
  },
  {
   "cell_type": "markdown",
   "id": "4d934fbf",
   "metadata": {},
   "source": [
    "### Anomaly Detection\n",
    "There can be some extreme outliers that have to be removed from features. This will positively impact the accuracy of our models.\n",
    "\n",
    "We will use the Interquartile Range Method: We calculate this with the difference between the 75th percentile and 25th percentile. Then we create a threshold beyond the 75th & 25th percentile that will remove outliers that pass this threshold.\n",
    "\n",
    "Since we want to focus on extreme outlier we have to be careful to how far do we want the threshold for removing these outliers."
   ]
  },
  {
   "cell_type": "code",
   "execution_count": 38,
   "id": "d8fd311f",
   "metadata": {
    "scrolled": true
   },
   "outputs": [
    {
     "name": "stderr",
     "output_type": "stream",
     "text": [
      "/home/vregal/.local/lib/python3.10/site-packages/seaborn/distributions.py:2619: FutureWarning: `distplot` is a deprecated function and will be removed in a future version. Please adapt your code to use either `displot` (a figure-level function with similar flexibility) or `histplot` (an axes-level function for histograms).\n",
      "  warnings.warn(msg, FutureWarning)\n",
      "/home/vregal/.local/lib/python3.10/site-packages/seaborn/distributions.py:2619: FutureWarning: `distplot` is a deprecated function and will be removed in a future version. Please adapt your code to use either `displot` (a figure-level function with similar flexibility) or `histplot` (an axes-level function for histograms).\n",
      "  warnings.warn(msg, FutureWarning)\n",
      "/home/vregal/.local/lib/python3.10/site-packages/seaborn/distributions.py:2619: FutureWarning: `distplot` is a deprecated function and will be removed in a future version. Please adapt your code to use either `displot` (a figure-level function with similar flexibility) or `histplot` (an axes-level function for histograms).\n",
      "  warnings.warn(msg, FutureWarning)\n"
     ]
    },
    {
     "data": {
      "image/png": "[encoded data removed]",
      "text/plain": [
       "<Figure size 1440x432 with 3 Axes>"
      ]
     },
     "metadata": {
      "needs_background": "light"
     },
     "output_type": "display_data"
    }
   ],
   "source": [
    "f, (ax1, ax2, ax3) = plt.subplots(1,3, figsize=(20, 6))\n",
    "\n",
    "v14_fraud_dist = new_df['V14'].loc[new_df['Class'] == 1].values\n",
    "sns.distplot(v14_fraud_dist,ax=ax1, fit=norm, color='#FB8861')\n",
    "ax1.set_title('V14 Distribution \\n (Fraud Transactions)', fontsize=14)\n",
    "\n",
    "v12_fraud_dist = new_df['V12'].loc[new_df['Class'] == 1].values\n",
    "sns.distplot(v12_fraud_dist,ax=ax2, fit=norm, color='#56F9BB')\n",
    "ax2.set_title('V12 Distribution \\n (Fraud Transactions)', fontsize=14)\n",
    "\n",
    "\n",
    "v10_fraud_dist = new_df['V10'].loc[new_df['Class'] == 1].values\n",
    "sns.distplot(v10_fraud_dist,ax=ax3, fit=norm, color='#C5B3F9')\n",
    "ax3.set_title('V10 Distribution \\n (Fraud Transactions)', fontsize=14)\n",
    "\n",
    "plt.show()"
   ]
  },
  {
   "cell_type": "code",
   "execution_count": 39,
   "id": "067ea25f",
   "metadata": {},
   "outputs": [
    {
     "name": "stdout",
     "output_type": "stream",
     "text": [
      "Quartile 25: -9.692722964972386 | Quartile 75: -4.282820849486865\n",
      "iqr: 5.409902115485521\n",
      "Cut Off: 8.114853173228282\n",
      "V14 Lower: -17.807576138200666\n",
      "V14 Upper: 3.8320323237414167\n",
      "Feature V14 Outliers for Fraud Cases: 4\n",
      "V10 outliers:[-18.0499976898594, -19.2143254902614, -18.4937733551053, -18.8220867423816]\n",
      "\n",
      "\n",
      "V12 Lower: -17.3430371579634\n",
      "V12 Upper: 5.776973384895937\n",
      "V12 outliers: [-18.5536970096458, -18.6837146333443, -18.0475965708216, -18.4311310279993]\n",
      "Feature V12 Outliers for Fraud Cases: 4\n",
      "Number of Instances after outliers removal: 976\n",
      "\n",
      "\n",
      "V10 Lower: -14.89885463232024\n",
      "V10 Upper: 4.92033495834214\n",
      "V10 outliers: [-15.3460988468775, -19.836148851696, -24.5882624372475, -16.3035376590131, -22.1870885620007, -24.4031849699728, -15.2399619587112, -15.2318333653018, -22.1870885620007, -18.2711681738888, -16.7460441053944, -15.1237521803455, -16.6011969664137, -20.9491915543611, -16.6496281595399, -22.1870885620007, -14.9246547735487, -22.1870885620007, -17.1415136412892, -15.2399619587112, -15.5637913387301, -15.1241628144947, -14.9246547735487, -15.5637913387301, -18.9132433348732, -23.2282548357516, -16.2556117491401]\n",
      "Feature V10 Outliers for Fraud Cases: 27\n",
      "Number of Instances after outliers removal: 948\n"
     ]
    }
   ],
   "source": [
    "# # -----> V14 Removing Outliers (Highest Negative Correlated with Labels)\n",
    "v14_fraud = new_df['V14'].loc[new_df['Class'] == 1].values\n",
    "q25, q75 = np.percentile(v14_fraud, 25), np.percentile(v14_fraud, 75)\n",
    "print('Quartile 25: {} | Quartile 75: {}'.format(q25, q75))\n",
    "v14_iqr = q75 - q25\n",
    "print('iqr: {}'.format(v14_iqr))\n",
    "\n",
    "v14_cut_off = v14_iqr * 1.5\n",
    "v14_lower, v14_upper = q25 - v14_cut_off, q75 + v14_cut_off\n",
    "print('Cut Off: {}'.format(v14_cut_off))\n",
    "print('V14 Lower: {}'.format(v14_lower))\n",
    "print('V14 Upper: {}'.format(v14_upper))\n",
    "\n",
    "outliers = [x for x in v14_fraud if x < v14_lower or x > v14_upper]\n",
    "print('Feature V14 Outliers for Fraud Cases: {}'.format(len(outliers)))\n",
    "print('V10 outliers:{}'.format(outliers))\n",
    "\n",
    "new_df = new_df.drop(new_df[(new_df['V14'] > v14_upper) | (new_df['V14'] < v14_lower)].index)\n",
    "print('\\n')\n",
    "\n",
    "# -----> V12 removing outliers from fraud transactions\n",
    "v12_fraud = new_df['V12'].loc[new_df['Class'] == 1].values\n",
    "q25, q75 = np.percentile(v12_fraud, 25), np.percentile(v12_fraud, 75)\n",
    "v12_iqr = q75 - q25\n",
    "\n",
    "v12_cut_off = v12_iqr * 1.5\n",
    "v12_lower, v12_upper = q25 - v12_cut_off, q75 + v12_cut_off\n",
    "print('V12 Lower: {}'.format(v12_lower))\n",
    "print('V12 Upper: {}'.format(v12_upper))\n",
    "outliers = [x for x in v12_fraud if x < v12_lower or x > v12_upper]\n",
    "print('V12 outliers: {}'.format(outliers))\n",
    "print('Feature V12 Outliers for Fraud Cases: {}'.format(len(outliers)))\n",
    "new_df = new_df.drop(new_df[(new_df['V12'] > v12_upper) | (new_df['V12'] < v12_lower)].index)\n",
    "print('Number of Instances after outliers removal: {}'.format(len(new_df)))\n",
    "print('\\n')\n",
    "\n",
    "\n",
    "# Removing outliers V10 Feature\n",
    "v10_fraud = new_df['V10'].loc[new_df['Class'] == 1].values\n",
    "q25, q75 = np.percentile(v10_fraud, 25), np.percentile(v10_fraud, 75)\n",
    "v10_iqr = q75 - q25\n",
    "\n",
    "v10_cut_off = v10_iqr * 1.5\n",
    "v10_lower, v10_upper = q25 - v10_cut_off, q75 + v10_cut_off\n",
    "print('V10 Lower: {}'.format(v10_lower))\n",
    "print('V10 Upper: {}'.format(v10_upper))\n",
    "outliers = [x for x in v10_fraud if x < v10_lower or x > v10_upper]\n",
    "print('V10 outliers: {}'.format(outliers))\n",
    "print('Feature V10 Outliers for Fraud Cases: {}'.format(len(outliers)))\n",
    "new_df = new_df.drop(new_df[(new_df['V10'] > v10_upper) | (new_df['V10'] < v10_lower)].index)\n",
    "print('Number of Instances after outliers removal: {}'.format(len(new_df)))"
   ]
  },
  {
   "cell_type": "markdown",
   "id": "0f1096ef",
   "metadata": {},
   "source": [
    "# Dataset analysis"
   ]
  },
  {
   "cell_type": "code",
   "execution_count": 40,
   "id": "dc8c731d",
   "metadata": {},
   "outputs": [
    {
     "name": "stdout",
     "output_type": "stream",
     "text": [
      "-----CREDIT CARD FRAUD DETECTION NORMALIZED DATASET-----\n",
      "\n",
      "-> Number of instances: 948\n",
      "\n",
      "-> Number of Features: 30\n",
      "\t - Time\n",
      "\t - V1\n",
      "\t - V2\n",
      "\t - V3\n",
      "\t - V4\n",
      "\t - V5\n",
      "\t - V6\n",
      "\t - V7\n",
      "\t - V8\n",
      "\t - V9\n",
      "\t - V10\n",
      "\t - V11\n",
      "\t - V12\n",
      "\t - V13\n",
      "\t - V14\n",
      "\t - V15\n",
      "\t - V16\n",
      "\t - V17\n",
      "\t - V18\n",
      "\t - V19\n",
      "\t - V20\n",
      "\t - V21\n",
      "\t - V22\n",
      "\t - V23\n",
      "\t - V24\n",
      "\t - V25\n",
      "\t - V26\n",
      "\t - V27\n",
      "\t - V28\n",
      "\t - Amount\n",
      "\n",
      "\tDue to privacy reasons, features have no description.\n",
      "\n",
      "-> Target label (Fraud or Non Fraud): Class\n"
     ]
    }
   ],
   "source": [
    "df = new_df\n",
    "\n",
    "print(\"-----CREDIT CARD FRAUD DETECTION NORMALIZED DATASET-----\\n\")\n",
    "print(f\"-> Number of instances: {len(df)}\\n\")\n",
    "\n",
    "features = df.columns[:-1]\n",
    "target = df.columns[-1]\n",
    "\n",
    "print(f\"-> Number of Features: {len(features)}\")\n",
    "\n",
    "for label in features:\n",
    "    print(f\"\\t - {label}\")\n",
    "\n",
    "print(\"\\n\\tDue to privacy reasons, features have no description.\\n\")\n",
    "print(f\"-> Target label (Fraud or Non Fraud): {target}\")"
   ]
  },
  {
   "cell_type": "code",
   "execution_count": 41,
   "id": "b4189f16",
   "metadata": {},
   "outputs": [
    {
     "name": "stdout",
     "output_type": "stream",
     "text": [
      "(948, 31)\n"
     ]
    }
   ],
   "source": [
    "print(df.shape)"
   ]
  },
  {
   "cell_type": "code",
   "execution_count": 42,
   "id": "f3c67190",
   "metadata": {
    "scrolled": true
   },
   "outputs": [
    {
     "name": "stdout",
     "output_type": "stream",
     "text": [
      "<bound method DataFrame.info of             Time         V1        V2         V3         V4        V5  \\\n",
      "216400  140460.0   2.085816  0.088347  -2.191017  -0.163126  0.786004   \n",
      "79525    58060.0  -2.630598  5.125759  -6.092255   5.527393  1.605145   \n",
      "169223  119585.0   2.019491 -0.337761  -1.203804   0.084762 -0.026951   \n",
      "201601  133958.0   0.523820  1.531708  -4.176390   3.584615 -1.023954   \n",
      "261925  160243.0  -2.783865  1.596824  -2.084844   2.512986 -1.446749   \n",
      "...          ...        ...       ...        ...        ...       ...   \n",
      "191267  129186.0   0.290155  0.049243  -0.740524   2.865463  1.395294   \n",
      "11343    19762.0 -14.179165  7.421370 -21.405836  11.927512 -7.974281   \n",
      "89190    62467.0  -5.344665 -0.285760  -3.835616   5.337048 -7.609909   \n",
      "137695   82285.0  -0.877588  1.280522   1.315824  -0.125869 -0.299652   \n",
      "249167  154278.0  -1.600211 -3.488130  -6.459303   3.246816 -1.614608   \n",
      "\n",
      "              V6         V7        V8        V9  ...       V21       V22  \\\n",
      "216400 -1.013409   0.667103 -0.374321 -0.118130  ...  0.206183  0.686505   \n",
      "79525  -2.319884  -3.207076 -1.482583 -5.074871  ... -0.527474  0.220546   \n",
      "169223 -0.338058  -0.172422 -0.025847  0.940174  ...  0.120375  0.591783   \n",
      "201601 -0.502471  -1.891966  0.878417 -1.541942  ...  0.851859  1.176927   \n",
      "261925 -0.828496  -0.732262 -0.203329 -0.347046  ...  0.203563  0.293268   \n",
      "...          ...        ...       ...       ...  ...       ...       ...   \n",
      "191267 -0.535163   0.142543 -0.222770 -1.463691  ...  0.337349  1.018191   \n",
      "11343  -2.202710 -15.471612 -0.356595 -6.380125  ... -2.366836  1.130955   \n",
      "89190   3.874668   1.289630  0.201742 -3.003532  ...  0.276011  1.342045   \n",
      "137695 -0.944061   0.630932  0.021606  0.175847  ... -0.305955 -0.740307   \n",
      "249167 -1.260375   0.288223 -0.048964 -0.734975  ...  1.191175 -0.967141   \n",
      "\n",
      "             V23       V24       V25       V26       V27       V28   Amount  \\\n",
      "216400 -0.013724  0.771141  0.418461  0.188995 -0.089931 -0.081245     5.48   \n",
      "79525  -1.371110 -0.504899  0.382307  0.395528  0.782036  0.628528     1.00   \n",
      "169223  0.071129  0.813196  0.170828  0.140464 -0.037057 -0.066755     1.00   \n",
      "201601  0.453553  0.485211 -0.500687 -0.108284  0.269477 -0.063245   130.21   \n",
      "261925  0.199568  0.146868  0.163602 -0.624085 -1.333100  0.428634   156.00   \n",
      "...          ...       ...       ...       ...       ...       ...      ...   \n",
      "191267  0.303550  0.833886 -1.222306  2.745261 -0.220402  0.168233     7.18   \n",
      "11343   0.991153 -1.033132 -0.327179  0.634693  2.171905 -1.395288     1.00   \n",
      "89190  -1.016579 -0.071361 -0.335869  0.441044  1.520613 -1.115937  1402.16   \n",
      "137695  0.036700  0.317955 -0.127548  0.085742  0.471017  0.242531     9.84   \n",
      "249167 -1.463421 -0.624231 -0.176462  0.400348  0.152947  0.477775  1504.93   \n",
      "\n",
      "        Class  \n",
      "216400      0  \n",
      "79525       1  \n",
      "169223      0  \n",
      "201601      1  \n",
      "261925      1  \n",
      "...       ...  \n",
      "191267      1  \n",
      "11343       1  \n",
      "89190       1  \n",
      "137695      0  \n",
      "249167      1  \n",
      "\n",
      "[948 rows x 31 columns]>\n"
     ]
    }
   ],
   "source": [
    "print(df.info)"
   ]
  },
  {
   "cell_type": "code",
   "execution_count": 43,
   "id": "09991768",
   "metadata": {},
   "outputs": [
    {
     "data": {
      "text/html": [
       "<div>\n",
       "<style scoped>\n",
       "    .dataframe tbody tr th:only-of-type {\n",
       "        vertical-align: middle;\n",
       "    }\n",
       "\n",
       "    .dataframe tbody tr th {\n",
       "        vertical-align: top;\n",
       "    }\n",
       "\n",
       "    .dataframe thead th {\n",
       "        text-align: right;\n",
       "    }\n",
       "</style>\n",
       "<table border=\"1\" class=\"dataframe\">\n",
       "  <thead>\n",
       "    <tr style=\"text-align: right;\">\n",
       "      <th></th>\n",
       "      <th>Time</th>\n",
       "      <th>V1</th>\n",
       "      <th>V2</th>\n",
       "      <th>V3</th>\n",
       "      <th>V4</th>\n",
       "      <th>V5</th>\n",
       "      <th>V6</th>\n",
       "      <th>V7</th>\n",
       "      <th>V8</th>\n",
       "      <th>V9</th>\n",
       "      <th>...</th>\n",
       "      <th>V21</th>\n",
       "      <th>V22</th>\n",
       "      <th>V23</th>\n",
       "      <th>V24</th>\n",
       "      <th>V25</th>\n",
       "      <th>V26</th>\n",
       "      <th>V27</th>\n",
       "      <th>V28</th>\n",
       "      <th>Amount</th>\n",
       "      <th>Class</th>\n",
       "    </tr>\n",
       "  </thead>\n",
       "  <tbody>\n",
       "    <tr>\n",
       "      <th>count</th>\n",
       "      <td>948.000000</td>\n",
       "      <td>948.000000</td>\n",
       "      <td>948.000000</td>\n",
       "      <td>948.000000</td>\n",
       "      <td>948.000000</td>\n",
       "      <td>948.000000</td>\n",
       "      <td>948.000000</td>\n",
       "      <td>948.000000</td>\n",
       "      <td>948.000000</td>\n",
       "      <td>948.000000</td>\n",
       "      <td>...</td>\n",
       "      <td>948.000000</td>\n",
       "      <td>948.000000</td>\n",
       "      <td>948.000000</td>\n",
       "      <td>948.000000</td>\n",
       "      <td>948.000000</td>\n",
       "      <td>948.000000</td>\n",
       "      <td>948.000000</td>\n",
       "      <td>948.000000</td>\n",
       "      <td>948.000000</td>\n",
       "      <td>948.000000</td>\n",
       "    </tr>\n",
       "    <tr>\n",
       "      <th>mean</th>\n",
       "      <td>89155.422996</td>\n",
       "      <td>-1.909052</td>\n",
       "      <td>1.446440</td>\n",
       "      <td>-2.980651</td>\n",
       "      <td>2.026666</td>\n",
       "      <td>-1.242342</td>\n",
       "      <td>-0.702575</td>\n",
       "      <td>-2.145092</td>\n",
       "      <td>0.437635</td>\n",
       "      <td>-1.076312</td>\n",
       "      <td>...</td>\n",
       "      <td>0.512456</td>\n",
       "      <td>-0.074858</td>\n",
       "      <td>-0.079973</td>\n",
       "      <td>-0.048935</td>\n",
       "      <td>0.030169</td>\n",
       "      <td>0.044381</td>\n",
       "      <td>0.164629</td>\n",
       "      <td>0.050741</td>\n",
       "      <td>112.541762</td>\n",
       "      <td>0.482068</td>\n",
       "    </tr>\n",
       "    <tr>\n",
       "      <th>std</th>\n",
       "      <td>49961.768339</td>\n",
       "      <td>4.834376</td>\n",
       "      <td>3.267567</td>\n",
       "      <td>5.417703</td>\n",
       "      <td>2.978299</td>\n",
       "      <td>3.698782</td>\n",
       "      <td>1.670773</td>\n",
       "      <td>4.479243</td>\n",
       "      <td>4.307811</td>\n",
       "      <td>1.995270</td>\n",
       "      <td>...</td>\n",
       "      <td>2.485836</td>\n",
       "      <td>1.049214</td>\n",
       "      <td>1.263438</td>\n",
       "      <td>0.542291</td>\n",
       "      <td>0.669225</td>\n",
       "      <td>0.479186</td>\n",
       "      <td>0.733081</td>\n",
       "      <td>0.440781</td>\n",
       "      <td>292.746274</td>\n",
       "      <td>0.499942</td>\n",
       "    </tr>\n",
       "    <tr>\n",
       "      <th>min</th>\n",
       "      <td>89.000000</td>\n",
       "      <td>-30.552380</td>\n",
       "      <td>-15.458834</td>\n",
       "      <td>-31.103685</td>\n",
       "      <td>-3.273477</td>\n",
       "      <td>-22.105532</td>\n",
       "      <td>-8.332938</td>\n",
       "      <td>-21.922811</td>\n",
       "      <td>-37.353443</td>\n",
       "      <td>-9.283925</td>\n",
       "      <td>...</td>\n",
       "      <td>-6.389132</td>\n",
       "      <td>-8.887017</td>\n",
       "      <td>-19.254328</td>\n",
       "      <td>-2.122026</td>\n",
       "      <td>-4.781606</td>\n",
       "      <td>-1.247547</td>\n",
       "      <td>-3.908080</td>\n",
       "      <td>-2.431931</td>\n",
       "      <td>0.000000</td>\n",
       "      <td>0.000000</td>\n",
       "    </tr>\n",
       "    <tr>\n",
       "      <th>25%</th>\n",
       "      <td>45531.000000</td>\n",
       "      <td>-2.405300</td>\n",
       "      <td>-0.228073</td>\n",
       "      <td>-4.600223</td>\n",
       "      <td>-0.267630</td>\n",
       "      <td>-1.533400</td>\n",
       "      <td>-1.463010</td>\n",
       "      <td>-2.655229</td>\n",
       "      <td>-0.175170</td>\n",
       "      <td>-1.993213</td>\n",
       "      <td>...</td>\n",
       "      <td>-0.159631</td>\n",
       "      <td>-0.536305</td>\n",
       "      <td>-0.239023</td>\n",
       "      <td>-0.388661</td>\n",
       "      <td>-0.306473</td>\n",
       "      <td>-0.281755</td>\n",
       "      <td>-0.062098</td>\n",
       "      <td>-0.047269</td>\n",
       "      <td>1.857500</td>\n",
       "      <td>0.000000</td>\n",
       "    </tr>\n",
       "    <tr>\n",
       "      <th>50%</th>\n",
       "      <td>79498.000000</td>\n",
       "      <td>-0.669749</td>\n",
       "      <td>0.930547</td>\n",
       "      <td>-1.216462</td>\n",
       "      <td>1.194670</td>\n",
       "      <td>-0.418876</td>\n",
       "      <td>-0.639502</td>\n",
       "      <td>-0.572193</td>\n",
       "      <td>0.143615</td>\n",
       "      <td>-0.667215</td>\n",
       "      <td>...</td>\n",
       "      <td>0.155088</td>\n",
       "      <td>-0.025444</td>\n",
       "      <td>-0.040489</td>\n",
       "      <td>-0.002984</td>\n",
       "      <td>0.061181</td>\n",
       "      <td>-0.007438</td>\n",
       "      <td>0.041699</td>\n",
       "      <td>0.035679</td>\n",
       "      <td>19.990000</td>\n",
       "      <td>0.000000</td>\n",
       "    </tr>\n",
       "    <tr>\n",
       "      <th>75%</th>\n",
       "      <td>139877.500000</td>\n",
       "      <td>1.088945</td>\n",
       "      <td>2.561368</td>\n",
       "      <td>0.314537</td>\n",
       "      <td>3.891759</td>\n",
       "      <td>0.460560</td>\n",
       "      <td>0.052901</td>\n",
       "      <td>0.275929</td>\n",
       "      <td>0.825974</td>\n",
       "      <td>0.184290</td>\n",
       "      <td>...</td>\n",
       "      <td>0.624776</td>\n",
       "      <td>0.533785</td>\n",
       "      <td>0.174079</td>\n",
       "      <td>0.358724</td>\n",
       "      <td>0.383531</td>\n",
       "      <td>0.362772</td>\n",
       "      <td>0.454884</td>\n",
       "      <td>0.217460</td>\n",
       "      <td>99.990000</td>\n",
       "      <td>1.000000</td>\n",
       "    </tr>\n",
       "    <tr>\n",
       "      <th>max</th>\n",
       "      <td>172651.000000</td>\n",
       "      <td>2.351382</td>\n",
       "      <td>16.713389</td>\n",
       "      <td>3.381155</td>\n",
       "      <td>11.927512</td>\n",
       "      <td>11.095089</td>\n",
       "      <td>6.847786</td>\n",
       "      <td>10.198734</td>\n",
       "      <td>20.007208</td>\n",
       "      <td>4.527454</td>\n",
       "      <td>...</td>\n",
       "      <td>27.202839</td>\n",
       "      <td>2.941475</td>\n",
       "      <td>5.303607</td>\n",
       "      <td>1.210156</td>\n",
       "      <td>2.208209</td>\n",
       "      <td>2.745261</td>\n",
       "      <td>3.237151</td>\n",
       "      <td>4.556697</td>\n",
       "      <td>5714.580000</td>\n",
       "      <td>1.000000</td>\n",
       "    </tr>\n",
       "  </tbody>\n",
       "</table>\n",
       "<p>8 rows × 31 columns</p>\n",
       "</div>"
      ],
      "text/plain": [
       "                Time          V1          V2          V3          V4  \\\n",
       "count     948.000000  948.000000  948.000000  948.000000  948.000000   \n",
       "mean    89155.422996   -1.909052    1.446440   -2.980651    2.026666   \n",
       "std     49961.768339    4.834376    3.267567    5.417703    2.978299   \n",
       "min        89.000000  -30.552380  -15.458834  -31.103685   -3.273477   \n",
       "25%     45531.000000   -2.405300   -0.228073   -4.600223   -0.267630   \n",
       "50%     79498.000000   -0.669749    0.930547   -1.216462    1.194670   \n",
       "75%    139877.500000    1.088945    2.561368    0.314537    3.891759   \n",
       "max    172651.000000    2.351382   16.713389    3.381155   11.927512   \n",
       "\n",
       "               V5          V6          V7          V8          V9  ...  \\\n",
       "count  948.000000  948.000000  948.000000  948.000000  948.000000  ...   \n",
       "mean    -1.242342   -0.702575   -2.145092    0.437635   -1.076312  ...   \n",
       "std      3.698782    1.670773    4.479243    4.307811    1.995270  ...   \n",
       "min    -22.105532   -8.332938  -21.922811  -37.353443   -9.283925  ...   \n",
       "25%     -1.533400   -1.463010   -2.655229   -0.175170   -1.993213  ...   \n",
       "50%     -0.418876   -0.639502   -0.572193    0.143615   -0.667215  ...   \n",
       "75%      0.460560    0.052901    0.275929    0.825974    0.184290  ...   \n",
       "max     11.095089    6.847786   10.198734   20.007208    4.527454  ...   \n",
       "\n",
       "              V21         V22         V23         V24         V25         V26  \\\n",
       "count  948.000000  948.000000  948.000000  948.000000  948.000000  948.000000   \n",
       "mean     0.512456   -0.074858   -0.079973   -0.048935    0.030169    0.044381   \n",
       "std      2.485836    1.049214    1.263438    0.542291    0.669225    0.479186   \n",
       "min     -6.389132   -8.887017  -19.254328   -2.122026   -4.781606   -1.247547   \n",
       "25%     -0.159631   -0.536305   -0.239023   -0.388661   -0.306473   -0.281755   \n",
       "50%      0.155088   -0.025444   -0.040489   -0.002984    0.061181   -0.007438   \n",
       "75%      0.624776    0.533785    0.174079    0.358724    0.383531    0.362772   \n",
       "max     27.202839    2.941475    5.303607    1.210156    2.208209    2.745261   \n",
       "\n",
       "              V27         V28       Amount       Class  \n",
       "count  948.000000  948.000000   948.000000  948.000000  \n",
       "mean     0.164629    0.050741   112.541762    0.482068  \n",
       "std      0.733081    0.440781   292.746274    0.499942  \n",
       "min     -3.908080   -2.431931     0.000000    0.000000  \n",
       "25%     -0.062098   -0.047269     1.857500    0.000000  \n",
       "50%      0.041699    0.035679    19.990000    0.000000  \n",
       "75%      0.454884    0.217460    99.990000    1.000000  \n",
       "max      3.237151    4.556697  5714.580000    1.000000  \n",
       "\n",
       "[8 rows x 31 columns]"
      ]
     },
     "execution_count": 43,
     "metadata": {},
     "output_type": "execute_result"
    }
   ],
   "source": [
    "df.describe()"
   ]
  },
  {
   "cell_type": "markdown",
   "id": "3e5c0969",
   "metadata": {},
   "source": [
    "## Data normalization"
   ]
  },
  {
   "cell_type": "code",
   "execution_count": 44,
   "id": "07024a50",
   "metadata": {},
   "outputs": [],
   "source": [
    "def featureNormalization(X):\n",
    "    \"\"\"\n",
    "    Take in numpy array of X values and return normalize X values,\n",
    "    the mean and standard deviation of each feature\n",
    "    \"\"\"\n",
    "    mean= np.mean(X, axis=0)\n",
    "    std= np.std(X, axis=0)\n",
    "    \n",
    "    X_norm = (X - mean)/std\n",
    "    \n",
    "    return X_norm , mean , std"
   ]
  },
  {
   "cell_type": "code",
   "execution_count": 45,
   "id": "027ca25f",
   "metadata": {},
   "outputs": [],
   "source": [
    "X = df.drop(\"Class\", axis=1)\n",
    "y = df[\"Class\"]\n",
    "m, n = X.shape[0], X.shape[1]\n",
    "X = X.to_numpy()\n",
    "y = y.values\n",
    "\n",
    "# Normalize the data\n",
    "X, X_mean, X_std = featureNormalization(X)\n",
    "\n",
    "#After normalizing the features, add an extra column of 1's corresponding to x0 = 1.\n",
    "X = np.append(np.ones((m, 1)), X, axis=1)"
   ]
  },
  {
   "cell_type": "markdown",
   "id": "5f9a8121",
   "metadata": {},
   "source": [
    "### Splitting our dataset into training subset and testing subset"
   ]
  },
  {
   "cell_type": "code",
   "execution_count": 46,
   "id": "142b411e",
   "metadata": {},
   "outputs": [],
   "source": [
    "X_train, X_test, Y_train, Y_test = train_test_split(X, y, test_size=0.2, stratify=y, random_state=2)"
   ]
  },
  {
   "cell_type": "markdown",
   "id": "b7ac8f9a",
   "metadata": {},
   "source": [
    "# Models"
   ]
  },
  {
   "cell_type": "code",
   "execution_count": 47,
   "id": "b449ef2b",
   "metadata": {},
   "outputs": [],
   "source": [
    "# Some helper functions\n",
    "\n",
    "def train_and_analyze(model, X, y):\n",
    "    model.fit(X, y)\n",
    "    \n",
    "    print(f\"> Model: {model.__class__}\\n\")\n",
    "    \n",
    "    X_test_prediction = model.predict(X_test)\n",
    "    test_data_accuracy = accuracy_score(X_test_prediction, Y_test)\n",
    "    f1 = f1_score(Y_test, X_test_prediction)\n",
    "\n",
    "    print()\n",
    "    print(\"---- Model Analysis ----\")\n",
    "    print('Accuracy: ', test_data_accuracy)\n",
    "    print('F1 Score: ', f1)\n",
    "    \n",
    "    print()\n",
    "    \n",
    "    print(\"Confusion Matrix: \")\n",
    "    cm = confusion_matrix(Y_test, model.predict(X_test))\n",
    "\n",
    "    fig, ax = plt.subplots(figsize=(8, 8))\n",
    "    ax.imshow(cm)\n",
    "    ax.grid(False)\n",
    "    ax.xaxis.set(ticks=(0, 1), ticklabels=('Predicted 0s', 'Predicted 1s'))\n",
    "    ax.yaxis.set(ticks=(0, 1), ticklabels=('Actual 0s', 'Actual 1s'))\n",
    "    ax.set_ylim(1.5, -0.5)\n",
    "    for i in range(2):\n",
    "        for j in range(2):\n",
    "            ax.text(j, i, cm[i, j], ha='center', va='center', color='red')\n",
    "    plt.show()\n",
    "    \n",
    "    print()\n",
    "    print(\"---- Classification Report ----\")\n",
    "    print(classification_report(Y_test, model.predict(X_test)))\n",
    "    \n",
    "    \n",
    "def hyperparameters(model, params, X, y):\n",
    "    \"\"\"\n",
    "    Find hyperparameters for a model\n",
    "    \"\"\"\n",
    "    print(\"> Hyper Parameter Tuning\")\n",
    "    print(\"Finding Best Params for Model \", model.__class__)\n",
    "    model = GridSearchCV(model, params, scoring=\"accuracy\")\n",
    "    model.fit(X, y)\n",
    "    print(\" Best Params: \")\n",
    "    print(model.best_params_)\n",
    "    \n",
    "    return model.best_params_\n"
   ]
  },
  {
   "cell_type": "markdown",
   "id": "677ae879",
   "metadata": {},
   "source": [
    "## Logistic Regression\n",
    "\n",
    "Since we are handling a Classificaiton problem (our prediction will give us either 0, non-fraud or 1, fraud), we decided to implement the **Logistic Regression** algorithm.\n",
    "\n",
    "This means a function will be developed such as \n",
    "```\n",
    "f(x1, x2, ... xn) = theta0 + theta1 * x1 + theta2 * x2 + ... + thetan * xn\n",
    "```\n",
    "Where x1...xn are the n features of our dataset.\n",
    "Then f(x) is passed to the sigmoid function as an argument which will give us number between 0 and 1. That value represents how close to being a fraud or not our algorithm predicts based on the labels.\n"
   ]
  },
  {
   "cell_type": "code",
   "execution_count": 48,
   "id": "490fba0a",
   "metadata": {},
   "outputs": [
    {
     "name": "stdout",
     "output_type": "stream",
     "text": [
      "> Model: <class 'sklearn.linear_model._logistic.LogisticRegression'>\n",
      "\n",
      "\n",
      "---- Model Analysis ----\n",
      "Accuracy:  0.9421052631578948\n",
      "F1 Score:  0.9371428571428572\n",
      "\n",
      "Confusion Matrix: \n"
     ]
    },
    {
     "data": {
      "image/png": "[encoded data removed]",
      "text/plain": [
       "<Figure size 576x576 with 1 Axes>"
      ]
     },
     "metadata": {
      "needs_background": "light"
     },
     "output_type": "display_data"
    },
    {
     "name": "stdout",
     "output_type": "stream",
     "text": [
      "\n",
      "---- Classification Report ----\n",
      "              precision    recall  f1-score   support\n",
      "\n",
      "           0       0.91      0.99      0.95        98\n",
      "           1       0.99      0.89      0.94        92\n",
      "\n",
      "    accuracy                           0.94       190\n",
      "   macro avg       0.95      0.94      0.94       190\n",
      "weighted avg       0.95      0.94      0.94       190\n",
      "\n",
      "> Hyper Parameter Tuning\n",
      "Finding Best Params for Model  <class 'sklearn.linear_model._logistic.LogisticRegression'>\n",
      " Best Params: \n",
      "{'C': 10, 'class_weight': 'balanced', 'max_iter': 100, 'penalty': 'l2', 'solver': 'liblinear'}\n",
      "\n",
      " ***** HYPERTUNED LOGREG ****** \n",
      "\n",
      "> Model: <class 'sklearn.linear_model._logistic.LogisticRegression'>\n",
      "\n",
      "\n",
      "---- Model Analysis ----\n",
      "Accuracy:  0.9368421052631579\n",
      "F1 Score:  0.9318181818181818\n",
      "\n",
      "Confusion Matrix: \n"
     ]
    },
    {
     "data": {
      "image/png": "[encoded data removed]",
      "text/plain": [
       "<Figure size 576x576 with 1 Axes>"
      ]
     },
     "metadata": {
      "needs_background": "light"
     },
     "output_type": "display_data"
    },
    {
     "name": "stdout",
     "output_type": "stream",
     "text": [
      "\n",
      "---- Classification Report ----\n",
      "              precision    recall  f1-score   support\n",
      "\n",
      "           0       0.91      0.98      0.94        98\n",
      "           1       0.98      0.89      0.93        92\n",
      "\n",
      "    accuracy                           0.94       190\n",
      "   macro avg       0.94      0.94      0.94       190\n",
      "weighted avg       0.94      0.94      0.94       190\n",
      "\n"
     ]
    }
   ],
   "source": [
    "model = LogisticRegression()\n",
    "hypertuned_model = LogisticRegression()\n",
    "\n",
    "train_and_analyze(model, X_train, Y_train)\n",
    "\n",
    "# Hypertuned logreg\n",
    "logreg_params = [{'solver': ['liblinear'], 'max_iter': [100, 400, 800],\n",
    "                         'C': [0.1, 1, 10, 100, 1000], 'class_weight': ['balanced'],\n",
    "                         'penalty': ['l1', 'l2']}]\n",
    "best_logreg_params = hyperparameters(LogisticRegression(), logreg_params , X_train, Y_train)\n",
    "\n",
    "print()\n",
    "print(\" ***** HYPERTUNED LOGREG ****** \")\n",
    "print()\n",
    "hypertuned_model.set_params(**best_logreg_params)\n",
    "train_and_analyze(hypertuned_model, X_train, Y_train)"
   ]
  },
  {
   "cell_type": "markdown",
   "id": "eef20f7b",
   "metadata": {},
   "source": [
    "## SVM"
   ]
  },
  {
   "cell_type": "code",
   "execution_count": 49,
   "id": "1b41ebfd",
   "metadata": {},
   "outputs": [
    {
     "name": "stdout",
     "output_type": "stream",
     "text": [
      "> Model: <class 'sklearn.svm._classes.SVC'>\n",
      "\n",
      "\n",
      "---- Model Analysis ----\n",
      "Accuracy:  0.9368421052631579\n",
      "F1 Score:  0.9325842696629213\n",
      "\n",
      "Confusion Matrix: \n"
     ]
    },
    {
     "data": {
      "image/png": "[encoded data removed]",
      "text/plain": [
       "<Figure size 576x576 with 1 Axes>"
      ]
     },
     "metadata": {
      "needs_background": "light"
     },
     "output_type": "display_data"
    },
    {
     "name": "stdout",
     "output_type": "stream",
     "text": [
      "\n",
      "---- Classification Report ----\n",
      "              precision    recall  f1-score   support\n",
      "\n",
      "           0       0.91      0.97      0.94        98\n",
      "           1       0.97      0.90      0.93        92\n",
      "\n",
      "    accuracy                           0.94       190\n",
      "   macro avg       0.94      0.94      0.94       190\n",
      "weighted avg       0.94      0.94      0.94       190\n",
      "\n",
      "> Hyper Parameter Tuning\n",
      "Finding Best Params for Model  <class 'sklearn.svm._classes.SVC'>\n",
      " Best Params: \n",
      "{'C': 50, 'gamma': 0.01, 'kernel': 'rbf'}\n",
      "\n",
      " ***** HYPERTUNED SVM ****** \n",
      "\n",
      "> Model: <class 'sklearn.svm._classes.SVC'>\n",
      "\n",
      "\n",
      "---- Model Analysis ----\n",
      "Accuracy:  0.9421052631578948\n",
      "F1 Score:  0.9392265193370166\n",
      "\n",
      "Confusion Matrix: \n"
     ]
    },
    {
     "data": {
      "image/png": "[encoded data removed]",
      "text/plain": [
       "<Figure size 576x576 with 1 Axes>"
      ]
     },
     "metadata": {
      "needs_background": "light"
     },
     "output_type": "display_data"
    },
    {
     "name": "stdout",
     "output_type": "stream",
     "text": [
      "\n",
      "---- Classification Report ----\n",
      "              precision    recall  f1-score   support\n",
      "\n",
      "           0       0.93      0.96      0.94        98\n",
      "           1       0.96      0.92      0.94        92\n",
      "\n",
      "    accuracy                           0.94       190\n",
      "   macro avg       0.94      0.94      0.94       190\n",
      "weighted avg       0.94      0.94      0.94       190\n",
      "\n"
     ]
    }
   ],
   "source": [
    "model = SVC()\n",
    "hypertuned_model = SVC()\n",
    "\n",
    "train_and_analyze(model, X_train, Y_train)\n",
    "\n",
    "svm_parameters = [{'C': [0.01, 0.1, 1, 10, 50, 100, 1000], \n",
    "              'gamma': [0.001, 0.01, 0.03, 0.1, 0.3, 1],\n",
    "              'kernel': ['rbf']}]\n",
    "best_svm_params = hyperparameters(SVC(), svm_parameters , X_train, Y_train)\n",
    "\n",
    "print()\n",
    "print(\" ***** HYPERTUNED SVM ****** \")\n",
    "print()\n",
    "hypertuned_model.set_params(**best_svm_params)\n",
    "train_and_analyze(hypertuned_model, X_train, Y_train)"
   ]
  },
  {
   "cell_type": "markdown",
   "id": "6a73e812",
   "metadata": {},
   "source": [
    "## Gaussian NB"
   ]
  },
  {
   "cell_type": "code",
   "execution_count": 50,
   "id": "2d65e01e",
   "metadata": {
    "scrolled": true
   },
   "outputs": [
    {
     "name": "stdout",
     "output_type": "stream",
     "text": [
      "> Model: <class 'sklearn.naive_bayes.GaussianNB'>\n",
      "\n",
      "\n",
      "---- Model Analysis ----\n",
      "Accuracy:  0.9157894736842105\n",
      "F1 Score:  0.9047619047619047\n",
      "\n",
      "Confusion Matrix: \n"
     ]
    },
    {
     "data": {
      "image/png": "[encoded data removed]",
      "text/plain": [
       "<Figure size 576x576 with 1 Axes>"
      ]
     },
     "metadata": {
      "needs_background": "light"
     },
     "output_type": "display_data"
    },
    {
     "name": "stdout",
     "output_type": "stream",
     "text": [
      "\n",
      "---- Classification Report ----\n",
      "              precision    recall  f1-score   support\n",
      "\n",
      "           0       0.86      1.00      0.92        98\n",
      "           1       1.00      0.83      0.90        92\n",
      "\n",
      "    accuracy                           0.92       190\n",
      "   macro avg       0.93      0.91      0.91       190\n",
      "weighted avg       0.93      0.92      0.91       190\n",
      "\n",
      "> Hyper Parameter Tuning\n",
      "Finding Best Params for Model  <class 'sklearn.naive_bayes.GaussianNB'>\n",
      " Best Params: \n",
      "{'var_smoothing': 1e-09}\n",
      "\n",
      " ***** HYPERTUNED Gaussian NB ****** \n",
      "\n",
      "> Model: <class 'sklearn.naive_bayes.GaussianNB'>\n",
      "\n",
      "\n",
      "---- Model Analysis ----\n",
      "Accuracy:  0.9157894736842105\n",
      "F1 Score:  0.9047619047619047\n",
      "\n",
      "Confusion Matrix: \n"
     ]
    },
    {
     "data": {
      "image/png": "[encoded data removed]",
      "text/plain": [
       "<Figure size 576x576 with 1 Axes>"
      ]
     },
     "metadata": {
      "needs_background": "light"
     },
     "output_type": "display_data"
    },
    {
     "name": "stdout",
     "output_type": "stream",
     "text": [
      "\n",
      "---- Classification Report ----\n",
      "              precision    recall  f1-score   support\n",
      "\n",
      "           0       0.86      1.00      0.92        98\n",
      "           1       1.00      0.83      0.90        92\n",
      "\n",
      "    accuracy                           0.92       190\n",
      "   macro avg       0.93      0.91      0.91       190\n",
      "weighted avg       0.93      0.92      0.91       190\n",
      "\n"
     ]
    }
   ],
   "source": [
    "model = GaussianNB()\n",
    "hypertuned_model = GaussianNB()\n",
    "\n",
    "train_and_analyze(model, X_train, Y_train)\n",
    "\n",
    "g_nb_parameters = [{'var_smoothing': [1e-09, 1e-05, 1e-02, 1]}]\n",
    "best_g_nb_params = hyperparameters(GaussianNB(), g_nb_parameters , X_train, Y_train)\n",
    "\n",
    "print()\n",
    "print(\" ***** HYPERTUNED Gaussian NB ****** \")\n",
    "print()\n",
    "hypertuned_model.set_params(**best_g_nb_params)\n",
    "train_and_analyze(hypertuned_model, X_train, Y_train)"
   ]
  },
  {
   "cell_type": "markdown",
   "id": "510e28f2",
   "metadata": {},
   "source": [
    "## Neural Network"
   ]
  },
  {
   "cell_type": "code",
   "execution_count": 54,
   "id": "4a5f4b46",
   "metadata": {},
   "outputs": [
    {
     "name": "stdout",
     "output_type": "stream",
     "text": [
      "> Model: <class 'sklearn.neural_network._multilayer_perceptron.MLPClassifier'>\n",
      "\n",
      "\n",
      "---- Model Analysis ----\n",
      "Accuracy:  0.9368421052631579\n",
      "F1 Score:  0.935483870967742\n",
      "\n",
      "Confusion Matrix: \n"
     ]
    },
    {
     "data": {
      "image/png": "[encoded data removed]",
      "text/plain": [
       "<Figure size 576x576 with 1 Axes>"
      ]
     },
     "metadata": {
      "needs_background": "light"
     },
     "output_type": "display_data"
    },
    {
     "name": "stdout",
     "output_type": "stream",
     "text": [
      "\n",
      "---- Classification Report ----\n",
      "              precision    recall  f1-score   support\n",
      "\n",
      "           0       0.95      0.93      0.94        98\n",
      "           1       0.93      0.95      0.94        92\n",
      "\n",
      "    accuracy                           0.94       190\n",
      "   macro avg       0.94      0.94      0.94       190\n",
      "weighted avg       0.94      0.94      0.94       190\n",
      "\n",
      "> Hyper Parameter Tuning\n",
      "Finding Best Params for Model  <class 'sklearn.neural_network._multilayer_perceptron.MLPClassifier'>\n",
      " Best Params: \n",
      "{'activation': 'tanh', 'alpha': 0.001, 'hidden_layer_sizes': (12, 12), 'learning_rate': 'constant', 'learning_rate_init': 0.001, 'max_iter': 1000, 'solver': 'adam'}\n",
      "\n",
      " ***** HYPERTUNED Neural Network ****** \n",
      "\n",
      "> Model: <class 'sklearn.neural_network._multilayer_perceptron.MLPClassifier'>\n",
      "\n",
      "\n",
      "---- Model Analysis ----\n",
      "Accuracy:  0.9421052631578948\n",
      "F1 Score:  0.9378531073446328\n",
      "\n",
      "Confusion Matrix: \n"
     ]
    },
    {
     "data": {
      "image/png": "[encoded data removed]",
      "text/plain": [
       "<Figure size 576x576 with 1 Axes>"
      ]
     },
     "metadata": {
      "needs_background": "light"
     },
     "output_type": "display_data"
    },
    {
     "name": "stdout",
     "output_type": "stream",
     "text": [
      "\n",
      "---- Classification Report ----\n",
      "              precision    recall  f1-score   support\n",
      "\n",
      "           0       0.91      0.98      0.95        98\n",
      "           1       0.98      0.90      0.94        92\n",
      "\n",
      "    accuracy                           0.94       190\n",
      "   macro avg       0.95      0.94      0.94       190\n",
      "weighted avg       0.94      0.94      0.94       190\n",
      "\n"
     ]
    }
   ],
   "source": [
    "model = MLPClassifier( max_iter=800)\n",
    "hypertuned_model = MLPClassifier()\n",
    "train_and_analyze(model, X_train, Y_train)\n",
    "\n",
    "nn_parameters = [{'solver': ['adam'], 'max_iter': [1000],\n",
    "                     'hidden_layer_sizes': [(12,12), (12,12,12)], 'activation': ['tanh', 'relu'],\n",
    "                     'alpha': [1e-3,1e-4], 'learning_rate': ['constant', 'invscaling'], \n",
    "                     'learning_rate_init': [0.001, 0.01]}]\n",
    "\n",
    "best_nn_params = hyperparameters(MLPClassifier(), nn_parameters , X_train, Y_train)\n",
    "\n",
    "print()\n",
    "print(\" ***** HYPERTUNED Neural Network ****** \")\n",
    "print()\n",
    "hypertuned_model.set_params(**best_nn_params)\n",
    "train_and_analyze(hypertuned_model, X_train, Y_train)\n"
   ]
  },
  {
   "cell_type": "code",
   "execution_count": null,
   "id": "7596ee80",
   "metadata": {},
   "outputs": [],
   "source": []
  }
 ],
 "metadata": {
  "kernelspec": {
   "display_name": "Python 3 (ipykernel)",
   "language": "python",
   "name": "python3"
  },
  "language_info": {
   "codemirror_mode": {
    "name": "ipython",
    "version": 3
   },
   "file_extension": ".py",
   "mimetype": "text/x-python",
   "name": "python",
   "nbconvert_exporter": "python",
   "pygments_lexer": "ipython3",
   "version": "3.10.4"
  }
 },
 "nbformat": 4,
 "nbformat_minor": 5
}
