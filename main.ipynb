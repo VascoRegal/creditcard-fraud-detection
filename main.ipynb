{
 "cells": [
  {
   "cell_type": "markdown",
   "id": "62b4ab75",
   "metadata": {},
   "source": [
    "## Dependencies and data import"
   ]
  },
  {
   "cell_type": "code",
   "execution_count": 38,
   "id": "13ba003b",
   "metadata": {},
   "outputs": [
    {
     "data": {
      "text/html": [
       "<div>\n",
       "<style scoped>\n",
       "    .dataframe tbody tr th:only-of-type {\n",
       "        vertical-align: middle;\n",
       "    }\n",
       "\n",
       "    .dataframe tbody tr th {\n",
       "        vertical-align: top;\n",
       "    }\n",
       "\n",
       "    .dataframe thead th {\n",
       "        text-align: right;\n",
       "    }\n",
       "</style>\n",
       "<table border=\"1\" class=\"dataframe\">\n",
       "  <thead>\n",
       "    <tr style=\"text-align: right;\">\n",
       "      <th></th>\n",
       "      <th>Time</th>\n",
       "      <th>V1</th>\n",
       "      <th>V2</th>\n",
       "      <th>V3</th>\n",
       "      <th>V4</th>\n",
       "      <th>V5</th>\n",
       "      <th>V6</th>\n",
       "      <th>V7</th>\n",
       "      <th>V8</th>\n",
       "      <th>V9</th>\n",
       "      <th>...</th>\n",
       "      <th>V21</th>\n",
       "      <th>V22</th>\n",
       "      <th>V23</th>\n",
       "      <th>V24</th>\n",
       "      <th>V25</th>\n",
       "      <th>V26</th>\n",
       "      <th>V27</th>\n",
       "      <th>V28</th>\n",
       "      <th>Amount</th>\n",
       "      <th>Class</th>\n",
       "    </tr>\n",
       "  </thead>\n",
       "  <tbody>\n",
       "    <tr>\n",
       "      <th>0</th>\n",
       "      <td>0.0</td>\n",
       "      <td>-1.359807</td>\n",
       "      <td>-0.072781</td>\n",
       "      <td>2.536347</td>\n",
       "      <td>1.378155</td>\n",
       "      <td>-0.338321</td>\n",
       "      <td>0.462388</td>\n",
       "      <td>0.239599</td>\n",
       "      <td>0.098698</td>\n",
       "      <td>0.363787</td>\n",
       "      <td>...</td>\n",
       "      <td>-0.018307</td>\n",
       "      <td>0.277838</td>\n",
       "      <td>-0.110474</td>\n",
       "      <td>0.066928</td>\n",
       "      <td>0.128539</td>\n",
       "      <td>-0.189115</td>\n",
       "      <td>0.133558</td>\n",
       "      <td>-0.021053</td>\n",
       "      <td>149.62</td>\n",
       "      <td>0</td>\n",
       "    </tr>\n",
       "    <tr>\n",
       "      <th>1</th>\n",
       "      <td>0.0</td>\n",
       "      <td>1.191857</td>\n",
       "      <td>0.266151</td>\n",
       "      <td>0.166480</td>\n",
       "      <td>0.448154</td>\n",
       "      <td>0.060018</td>\n",
       "      <td>-0.082361</td>\n",
       "      <td>-0.078803</td>\n",
       "      <td>0.085102</td>\n",
       "      <td>-0.255425</td>\n",
       "      <td>...</td>\n",
       "      <td>-0.225775</td>\n",
       "      <td>-0.638672</td>\n",
       "      <td>0.101288</td>\n",
       "      <td>-0.339846</td>\n",
       "      <td>0.167170</td>\n",
       "      <td>0.125895</td>\n",
       "      <td>-0.008983</td>\n",
       "      <td>0.014724</td>\n",
       "      <td>2.69</td>\n",
       "      <td>0</td>\n",
       "    </tr>\n",
       "    <tr>\n",
       "      <th>2</th>\n",
       "      <td>1.0</td>\n",
       "      <td>-1.358354</td>\n",
       "      <td>-1.340163</td>\n",
       "      <td>1.773209</td>\n",
       "      <td>0.379780</td>\n",
       "      <td>-0.503198</td>\n",
       "      <td>1.800499</td>\n",
       "      <td>0.791461</td>\n",
       "      <td>0.247676</td>\n",
       "      <td>-1.514654</td>\n",
       "      <td>...</td>\n",
       "      <td>0.247998</td>\n",
       "      <td>0.771679</td>\n",
       "      <td>0.909412</td>\n",
       "      <td>-0.689281</td>\n",
       "      <td>-0.327642</td>\n",
       "      <td>-0.139097</td>\n",
       "      <td>-0.055353</td>\n",
       "      <td>-0.059752</td>\n",
       "      <td>378.66</td>\n",
       "      <td>0</td>\n",
       "    </tr>\n",
       "    <tr>\n",
       "      <th>3</th>\n",
       "      <td>1.0</td>\n",
       "      <td>-0.966272</td>\n",
       "      <td>-0.185226</td>\n",
       "      <td>1.792993</td>\n",
       "      <td>-0.863291</td>\n",
       "      <td>-0.010309</td>\n",
       "      <td>1.247203</td>\n",
       "      <td>0.237609</td>\n",
       "      <td>0.377436</td>\n",
       "      <td>-1.387024</td>\n",
       "      <td>...</td>\n",
       "      <td>-0.108300</td>\n",
       "      <td>0.005274</td>\n",
       "      <td>-0.190321</td>\n",
       "      <td>-1.175575</td>\n",
       "      <td>0.647376</td>\n",
       "      <td>-0.221929</td>\n",
       "      <td>0.062723</td>\n",
       "      <td>0.061458</td>\n",
       "      <td>123.50</td>\n",
       "      <td>0</td>\n",
       "    </tr>\n",
       "    <tr>\n",
       "      <th>4</th>\n",
       "      <td>2.0</td>\n",
       "      <td>-1.158233</td>\n",
       "      <td>0.877737</td>\n",
       "      <td>1.548718</td>\n",
       "      <td>0.403034</td>\n",
       "      <td>-0.407193</td>\n",
       "      <td>0.095921</td>\n",
       "      <td>0.592941</td>\n",
       "      <td>-0.270533</td>\n",
       "      <td>0.817739</td>\n",
       "      <td>...</td>\n",
       "      <td>-0.009431</td>\n",
       "      <td>0.798278</td>\n",
       "      <td>-0.137458</td>\n",
       "      <td>0.141267</td>\n",
       "      <td>-0.206010</td>\n",
       "      <td>0.502292</td>\n",
       "      <td>0.219422</td>\n",
       "      <td>0.215153</td>\n",
       "      <td>69.99</td>\n",
       "      <td>0</td>\n",
       "    </tr>\n",
       "  </tbody>\n",
       "</table>\n",
       "<p>5 rows × 31 columns</p>\n",
       "</div>"
      ],
      "text/plain": [
       "   Time        V1        V2        V3        V4        V5        V6        V7  \\\n",
       "0   0.0 -1.359807 -0.072781  2.536347  1.378155 -0.338321  0.462388  0.239599   \n",
       "1   0.0  1.191857  0.266151  0.166480  0.448154  0.060018 -0.082361 -0.078803   \n",
       "2   1.0 -1.358354 -1.340163  1.773209  0.379780 -0.503198  1.800499  0.791461   \n",
       "3   1.0 -0.966272 -0.185226  1.792993 -0.863291 -0.010309  1.247203  0.237609   \n",
       "4   2.0 -1.158233  0.877737  1.548718  0.403034 -0.407193  0.095921  0.592941   \n",
       "\n",
       "         V8        V9  ...       V21       V22       V23       V24       V25  \\\n",
       "0  0.098698  0.363787  ... -0.018307  0.277838 -0.110474  0.066928  0.128539   \n",
       "1  0.085102 -0.255425  ... -0.225775 -0.638672  0.101288 -0.339846  0.167170   \n",
       "2  0.247676 -1.514654  ...  0.247998  0.771679  0.909412 -0.689281 -0.327642   \n",
       "3  0.377436 -1.387024  ... -0.108300  0.005274 -0.190321 -1.175575  0.647376   \n",
       "4 -0.270533  0.817739  ... -0.009431  0.798278 -0.137458  0.141267 -0.206010   \n",
       "\n",
       "        V26       V27       V28  Amount  Class  \n",
       "0 -0.189115  0.133558 -0.021053  149.62      0  \n",
       "1  0.125895 -0.008983  0.014724    2.69      0  \n",
       "2 -0.139097 -0.055353 -0.059752  378.66      0  \n",
       "3 -0.221929  0.062723  0.061458  123.50      0  \n",
       "4  0.502292  0.219422  0.215153   69.99      0  \n",
       "\n",
       "[5 rows x 31 columns]"
      ]
     },
     "execution_count": 38,
     "metadata": {},
     "output_type": "execute_result"
    }
   ],
   "source": [
    "import numpy as np # linear algebra\n",
    "import pandas as pd # data processing, CSV file I/O (e.g. pd.read_csv)\n",
    "from sklearn.model_selection import train_test_split\n",
    "from sklearn.model_selection import StratifiedKFold\n",
    "from sklearn.model_selection import train_test_split\n",
    "from sklearn.linear_model import LogisticRegression\n",
    "from sklearn.svm import SVC\n",
    "from sklearn.metrics import accuracy_score, f1_score\n",
    "from sklearn.metrics import classification_report, confusion_matrix\n",
    "from scipy.stats import norm\n",
    "import seaborn as sns\n",
    "import matplotlib.pyplot as plt\n",
    "\n",
    "\n",
    "df = pd.read_csv('./dataset/creditcard.csv')\n",
    "df.head()"
   ]
  },
  {
   "cell_type": "markdown",
   "id": "5a6998d5",
   "metadata": {},
   "source": [
    "## Data Preparation\n",
    "\n",
    "#### Problem\n",
    "\n",
    "This dataset is not balanced. Using the original dataset will cause some Overfitting and Wrong Correlation issues - We want our model to be certain when a fraud occurs but with it being unbalanced it would assume that in most cases there are no frauds. This means that we need to do some pre processing in order to be able to make conclusions."
   ]
  },
  {
   "cell_type": "code",
   "execution_count": 2,
   "id": "00433dda",
   "metadata": {
    "scrolled": false
   },
   "outputs": [
    {
     "name": "stdout",
     "output_type": "stream",
     "text": [
      "No Frauds: 99.83 % \n",
      "Frauds: 0.17 % \n"
     ]
    },
    {
     "data": {
      "text/plain": [
       "Text(0.5, 1.0, 'Class Distributions \\n (0: No Fraud || 1: Fraud)')"
      ]
     },
     "execution_count": 2,
     "metadata": {},
     "output_type": "execute_result"
    },
    {
     "data": {
      "image/png": "[encoded data removed]",
      "text/plain": [
       "<Figure size 432x288 with 1 Axes>"
      ]
     },
     "metadata": {
      "needs_background": "light"
     },
     "output_type": "display_data"
    }
   ],
   "source": [
    "print('No Frauds:', round(df['Class'].value_counts()[0]/len(df) * 100,2), '% ')\n",
    "print('Frauds:', round(df['Class'].value_counts()[1]/len(df) * 100,2),'% ')\n",
    "\n",
    "sns.countplot(x='Class', data=df)\n",
    "plt.title('Class Distributions \\n (0: No Fraud || 1: Fraud)', fontsize=14)"
   ]
  },
  {
   "cell_type": "markdown",
   "id": "f3465c6a",
   "metadata": {},
   "source": [
    "An inbalanced dataset would raise a lot of overfitting problems, since our algorithm would assume that most transactions are not frauds. By normalizing the data (having a good proportion between frauds and not frauds), we can develop a model to find the patterns that form an actual fraud."
   ]
  },
  {
   "cell_type": "markdown",
   "id": "d59e0734",
   "metadata": {},
   "source": [
    "## Scaling and Distribution\n",
    "\n",
    "We need to create a sub sample of the dataset that offers an equal amount of Fraud and Non-Fraud cases. This will help our algorithm to better understand patterns that determines whether a transaction is a fraud or not. We will create a subsample with a 50/50 ratio of fraud and non-fraud transactions.\n",
    "\n",
    "There are 492 cases of fraud in our dataset. We will need to choose 492 non-fraud cases which can be done randomly from the over thousands of cases present in the data given to create this new subsample with a balanced 50/50 ratio."
   ]
  },
  {
   "cell_type": "markdown",
   "id": "b01879b2",
   "metadata": {},
   "source": [
    "### Splitting the Data on the Original Dataset\n",
    "\n",
    "Before proceeding with the Random Undersampling technique we need to separate the original dataset for testing purposes because we want to test our models on the original testing set and not on the generated set from either of these techniques. We want to fit the model either with the undersample and oversample for our models to detect the patterns and then test it on the original testing set"
   ]
  },
  {
   "cell_type": "code",
   "execution_count": 3,
   "id": "771c097b",
   "metadata": {},
   "outputs": [
    {
     "name": "stdout",
     "output_type": "stream",
     "text": [
      "Train: [ 30473  30496  31002 ... 284804 284805 284806] Test: [    0     1     2 ... 57017 57018 57019]\n",
      "Train: [     0      1      2 ... 284804 284805 284806] Test: [ 30473  30496  31002 ... 113964 113965 113966]\n",
      "Train: [     0      1      2 ... 284804 284805 284806] Test: [ 81609  82400  83053 ... 170946 170947 170948]\n",
      "Train: [     0      1      2 ... 284804 284805 284806] Test: [150654 150660 150661 ... 227866 227867 227868]\n",
      "Train: [     0      1      2 ... 227866 227867 227868] Test: [212516 212644 213092 ... 284804 284805 284806]\n",
      "----------------------------------------------------------------------------------------------------\n",
      "Label Distributions: \n",
      "\n",
      "[0.99827076 0.00172924]\n",
      "[0.99827952 0.00172048]\n"
     ]
    }
   ],
   "source": [
    "X = df.drop('Class', axis=1)\n",
    "y = df['Class']\n",
    "\n",
    "sss = StratifiedKFold(n_splits=5, random_state=None, shuffle=False)\n",
    "\n",
    "for train_index, test_index in sss.split(X, y):\n",
    "    print(\"Train:\", train_index, \"Test:\", test_index)\n",
    "    original_Xtrain, original_Xtest = X.iloc[train_index], X.iloc[test_index]\n",
    "    original_ytrain, original_ytest = y.iloc[train_index], y.iloc[test_index]\n",
    "\n",
    "# We already have X_train and y_train for undersample data thats why I am using original to distinguish and to not overwrite these variables.\n",
    "# original_Xtrain, original_Xtest, original_ytrain, original_ytest = train_test_split(X, y, test_size=0.2, random_state=42)\n",
    "\n",
    "# Check the Distribution of the labels\n",
    "\n",
    "\n",
    "# Turn into an array\n",
    "original_Xtrain = original_Xtrain.values\n",
    "original_Xtest = original_Xtest.values\n",
    "original_ytrain = original_ytrain.values\n",
    "original_ytest = original_ytest.values\n",
    "\n",
    "# See if both the train and test label distribution are similarly distributed\n",
    "train_unique_label, train_counts_label = np.unique(original_ytrain, return_counts=True)\n",
    "test_unique_label, test_counts_label = np.unique(original_ytest, return_counts=True)\n",
    "print('-' * 100)\n",
    "\n",
    "print('Label Distributions: \\n')\n",
    "print(train_counts_label/ len(original_ytrain))\n",
    "print(test_counts_label/ len(original_ytest))"
   ]
  },
  {
   "cell_type": "markdown",
   "id": "0c013ab1",
   "metadata": {},
   "source": [
    "### Random Under-Sampling\n",
    "In this phase we will remove data to better balance the dataset and avoid overfitting by our model. For this we have to determine how imbalanced is our class and how many instances are considered fraud transactions. We want to have an equal number of fraud and non-fraud transactions in our dataset so for that to happen we can use the 492 fraud causes and randomnly choose another 492 non-fraud transactions to create a new balanced dataset. Lastly, we will shuffle the data to check if our models can maintain a certain accuracy everytime we run this script. Bringing 284,315 non-fraud causes to only 492 makes us lose a lot of data so there is a risk that our classification models will not perform as accurate as we would like to."
   ]
  },
  {
   "cell_type": "code",
   "execution_count": 4,
   "id": "ae94b083",
   "metadata": {},
   "outputs": [
    {
     "name": "stdout",
     "output_type": "stream",
     "text": [
      "Distribution of the Classes in the subsample dataset\n",
      "0    0.5\n",
      "1    0.5\n",
      "Name: Class, dtype: float64\n"
     ]
    },
    {
     "data": {
      "image/png": "[encoded data removed]",
      "text/plain": [
       "<Figure size 432x288 with 1 Axes>"
      ]
     },
     "metadata": {
      "needs_background": "light"
     },
     "output_type": "display_data"
    }
   ],
   "source": [
    "# Since our classes are highly skewed we should make them equivalent in order to have a normal distribution of the classes.\n",
    "\n",
    "# Lets shuffle the data before creating the subsamples\n",
    "\n",
    "df = df.sample(frac=1)\n",
    "\n",
    "# amount of fraud classes 492 rows.\n",
    "fraud_df = df.loc[df['Class'] == 1]\n",
    "non_fraud_df = df.loc[df['Class'] == 0][:492]\n",
    "\n",
    "normal_distributed_df = pd.concat([fraud_df, non_fraud_df])\n",
    "\n",
    "# Shuffle dataframe rows\n",
    "new_df = normal_distributed_df.sample(frac=1, random_state=42)\n",
    "\n",
    "new_df.head()\n",
    "\n",
    "print('Distribution of the Classes in the subsample dataset')\n",
    "print(new_df['Class'].value_counts()/len(new_df))\n",
    "\n",
    "\n",
    "\n",
    "sns.countplot(x='Class', data=new_df)\n",
    "plt.title('Equally Distributed Classes', fontsize=14)\n",
    "plt.show()"
   ]
  },
  {
   "cell_type": "markdown",
   "id": "39191923",
   "metadata": {},
   "source": [
    "## Correlation Matrices\n",
    "Correlation matrices are essential to understand our data. We want to learn if there are features that will heavily influence the decision if a transaction is or is not a fraud. For that, we need to use the subsample we generated above to understand which features have a high positive or negative correlation to fraud transactions."
   ]
  },
  {
   "cell_type": "code",
   "execution_count": 5,
   "id": "26f36324",
   "metadata": {},
   "outputs": [
    {
     "data": {
      "image/png": "[encoded data removed]",
      "text/plain": [
       "<Figure size 1728x1440 with 4 Axes>"
      ]
     },
     "metadata": {
      "needs_background": "light"
     },
     "output_type": "display_data"
    }
   ],
   "source": [
    "# Make sure we use the subsample in our correlation\n",
    "\n",
    "f, (ax1, ax2) = plt.subplots(2, 1, figsize=(24,20))\n",
    "\n",
    "# Entire DataFrame\n",
    "corr = df.corr()\n",
    "sns.heatmap(corr, cmap='coolwarm_r', annot_kws={'size':20}, ax=ax1)\n",
    "ax1.set_title(\"Imbalanced Correlation Matrix\", fontsize=14)\n",
    "\n",
    "\n",
    "sub_sample_corr = new_df.corr()\n",
    "sns.heatmap(sub_sample_corr, cmap='coolwarm_r', annot_kws={'size':20}, ax=ax2)\n",
    "ax2.set_title('SubSample Correlation Matrix', fontsize=14)\n",
    "plt.show()"
   ]
  },
  {
   "cell_type": "code",
   "execution_count": 6,
   "id": "2da4dcaa",
   "metadata": {},
   "outputs": [
    {
     "data": {
      "image/png": "[encoded data removed]",
      "text/plain": [
       "<Figure size 1440x288 with 4 Axes>"
      ]
     },
     "metadata": {
      "needs_background": "light"
     },
     "output_type": "display_data"
    }
   ],
   "source": [
    "f, axes = plt.subplots(ncols=4, figsize=(20,4))\n",
    "\n",
    "# Negative Correlations with our Class (The lower our feature value the more likely it will be a fraud transaction)\n",
    "sns.boxplot(x=\"Class\", y=\"V17\", data=new_df, ax=axes[0])\n",
    "axes[0].set_title('V17 vs Class Negative Correlation')\n",
    "\n",
    "sns.boxplot(x=\"Class\", y=\"V14\", data=new_df, ax=axes[1])\n",
    "axes[1].set_title('V14 vs Class Negative Correlation')\n",
    "\n",
    "\n",
    "sns.boxplot(x=\"Class\", y=\"V12\", data=new_df, ax=axes[2])\n",
    "axes[2].set_title('V12 vs Class Negative Correlation')\n",
    "\n",
    "\n",
    "sns.boxplot(x=\"Class\", y=\"V10\", data=new_df, ax=axes[3])\n",
    "axes[3].set_title('V10 vs Class Negative Correlation')\n",
    "\n",
    "plt.show()"
   ]
  },
  {
   "cell_type": "code",
   "execution_count": 7,
   "id": "3ce46514",
   "metadata": {},
   "outputs": [
    {
     "data": {
      "image/png": "[encoded data removed]",
      "text/plain": [
       "<Figure size 1440x288 with 4 Axes>"
      ]
     },
     "metadata": {
      "needs_background": "light"
     },
     "output_type": "display_data"
    }
   ],
   "source": [
    "f, axes = plt.subplots(ncols=4, figsize=(20,4))\n",
    "\n",
    "# Positive correlations (The higher the feature the probability increases that it will be a fraud transaction)\n",
    "sns.boxplot(x=\"Class\", y=\"V11\", data=new_df, ax=axes[0])\n",
    "axes[0].set_title('V11 vs Class Positive Correlation')\n",
    "\n",
    "sns.boxplot(x=\"Class\", y=\"V4\", data=new_df, ax=axes[1])\n",
    "axes[1].set_title('V4 vs Class Positive Correlation')\n",
    "\n",
    "\n",
    "sns.boxplot(x=\"Class\", y=\"V2\", data=new_df, ax=axes[2])\n",
    "axes[2].set_title('V2 vs Class Positive Correlation')\n",
    "\n",
    "\n",
    "sns.boxplot(x=\"Class\", y=\"V19\", data=new_df, ax=axes[3])\n",
    "axes[3].set_title('V19 vs Class Positive Correlation')\n",
    "\n",
    "plt.show()"
   ]
  },
  {
   "cell_type": "markdown",
   "id": "4d934fbf",
   "metadata": {},
   "source": [
    "### Anomaly Detection\n",
    "There can be some extreme outliers that have to be removed from features. This will positively impact the accuracy of our models.\n",
    "\n",
    "We will use the Interquartile Range Method: We calculate this with the difference between the 75th percentile and 25th percentile. Then we create a threshold beyond the 75th & 25th percentile that will remove outliers that pass this threshold.\n",
    "\n",
    "Since we want to focus on extreme outlier we have to be careful to how far do we want the threshold for removing these outliers."
   ]
  },
  {
   "cell_type": "code",
   "execution_count": 8,
   "id": "d8fd311f",
   "metadata": {
    "scrolled": true
   },
   "outputs": [
    {
     "name": "stderr",
     "output_type": "stream",
     "text": [
      "/home/vregal/.local/lib/python3.10/site-packages/seaborn/distributions.py:2619: FutureWarning: `distplot` is a deprecated function and will be removed in a future version. Please adapt your code to use either `displot` (a figure-level function with similar flexibility) or `histplot` (an axes-level function for histograms).\n",
      "  warnings.warn(msg, FutureWarning)\n",
      "/home/vregal/.local/lib/python3.10/site-packages/seaborn/distributions.py:2619: FutureWarning: `distplot` is a deprecated function and will be removed in a future version. Please adapt your code to use either `displot` (a figure-level function with similar flexibility) or `histplot` (an axes-level function for histograms).\n",
      "  warnings.warn(msg, FutureWarning)\n",
      "/home/vregal/.local/lib/python3.10/site-packages/seaborn/distributions.py:2619: FutureWarning: `distplot` is a deprecated function and will be removed in a future version. Please adapt your code to use either `displot` (a figure-level function with similar flexibility) or `histplot` (an axes-level function for histograms).\n",
      "  warnings.warn(msg, FutureWarning)\n"
     ]
    },
    {
     "data": {
      "image/png": "[encoded data removed]",
      "text/plain": [
       "<Figure size 1440x432 with 3 Axes>"
      ]
     },
     "metadata": {
      "needs_background": "light"
     },
     "output_type": "display_data"
    }
   ],
   "source": [
    "f, (ax1, ax2, ax3) = plt.subplots(1,3, figsize=(20, 6))\n",
    "\n",
    "v14_fraud_dist = new_df['V14'].loc[new_df['Class'] == 1].values\n",
    "sns.distplot(v14_fraud_dist,ax=ax1, fit=norm, color='#FB8861')\n",
    "ax1.set_title('V14 Distribution \\n (Fraud Transactions)', fontsize=14)\n",
    "\n",
    "v12_fraud_dist = new_df['V12'].loc[new_df['Class'] == 1].values\n",
    "sns.distplot(v12_fraud_dist,ax=ax2, fit=norm, color='#56F9BB')\n",
    "ax2.set_title('V12 Distribution \\n (Fraud Transactions)', fontsize=14)\n",
    "\n",
    "\n",
    "v10_fraud_dist = new_df['V10'].loc[new_df['Class'] == 1].values\n",
    "sns.distplot(v10_fraud_dist,ax=ax3, fit=norm, color='#C5B3F9')\n",
    "ax3.set_title('V10 Distribution \\n (Fraud Transactions)', fontsize=14)\n",
    "\n",
    "plt.show()"
   ]
  },
  {
   "cell_type": "code",
   "execution_count": 9,
   "id": "067ea25f",
   "metadata": {},
   "outputs": [
    {
     "name": "stdout",
     "output_type": "stream",
     "text": [
      "Quartile 25: -9.692722964972386 | Quartile 75: -4.282820849486865\n",
      "iqr: 5.409902115485521\n",
      "Cut Off: 8.114853173228282\n",
      "V14 Lower: -17.807576138200666\n",
      "V14 Upper: 3.8320323237414167\n",
      "Feature V14 Outliers for Fraud Cases: 4\n",
      "V10 outliers:[-19.2143254902614, -18.4937733551053, -18.8220867423816, -18.0499976898594]\n",
      "\n",
      "\n",
      "V12 Lower: -17.3430371579634\n",
      "V12 Upper: 5.776973384895937\n",
      "V12 outliers: [-18.6837146333443, -18.5536970096458, -18.0475965708216, -18.4311310279993]\n",
      "Feature V12 Outliers for Fraud Cases: 4\n",
      "Number of Instances after outliers removal: 975\n",
      "\n",
      "\n",
      "V10 Lower: -14.89885463232024\n",
      "V10 Upper: 4.92033495834214\n",
      "V10 outliers: [-24.4031849699728, -23.2282548357516, -15.2399619587112, -15.1237521803455, -15.1241628144947, -22.1870885620007, -15.2318333653018, -16.7460441053944, -22.1870885620007, -15.3460988468775, -20.9491915543611, -15.2399619587112, -14.9246547735487, -16.6011969664137, -24.5882624372475, -18.9132433348732, -22.1870885620007, -15.5637913387301, -15.5637913387301, -16.2556117491401, -22.1870885620007, -18.2711681738888, -19.836148851696, -16.6496281595399, -16.3035376590131, -14.9246547735487, -17.1415136412892]\n",
      "Feature V10 Outliers for Fraud Cases: 27\n",
      "Number of Instances after outliers removal: 947\n"
     ]
    }
   ],
   "source": [
    "# # -----> V14 Removing Outliers (Highest Negative Correlated with Labels)\n",
    "v14_fraud = new_df['V14'].loc[new_df['Class'] == 1].values\n",
    "q25, q75 = np.percentile(v14_fraud, 25), np.percentile(v14_fraud, 75)\n",
    "print('Quartile 25: {} | Quartile 75: {}'.format(q25, q75))\n",
    "v14_iqr = q75 - q25\n",
    "print('iqr: {}'.format(v14_iqr))\n",
    "\n",
    "v14_cut_off = v14_iqr * 1.5\n",
    "v14_lower, v14_upper = q25 - v14_cut_off, q75 + v14_cut_off\n",
    "print('Cut Off: {}'.format(v14_cut_off))\n",
    "print('V14 Lower: {}'.format(v14_lower))\n",
    "print('V14 Upper: {}'.format(v14_upper))\n",
    "\n",
    "outliers = [x for x in v14_fraud if x < v14_lower or x > v14_upper]\n",
    "print('Feature V14 Outliers for Fraud Cases: {}'.format(len(outliers)))\n",
    "print('V10 outliers:{}'.format(outliers))\n",
    "\n",
    "new_df = new_df.drop(new_df[(new_df['V14'] > v14_upper) | (new_df['V14'] < v14_lower)].index)\n",
    "print('\\n')\n",
    "\n",
    "# -----> V12 removing outliers from fraud transactions\n",
    "v12_fraud = new_df['V12'].loc[new_df['Class'] == 1].values\n",
    "q25, q75 = np.percentile(v12_fraud, 25), np.percentile(v12_fraud, 75)\n",
    "v12_iqr = q75 - q25\n",
    "\n",
    "v12_cut_off = v12_iqr * 1.5\n",
    "v12_lower, v12_upper = q25 - v12_cut_off, q75 + v12_cut_off\n",
    "print('V12 Lower: {}'.format(v12_lower))\n",
    "print('V12 Upper: {}'.format(v12_upper))\n",
    "outliers = [x for x in v12_fraud if x < v12_lower or x > v12_upper]\n",
    "print('V12 outliers: {}'.format(outliers))\n",
    "print('Feature V12 Outliers for Fraud Cases: {}'.format(len(outliers)))\n",
    "new_df = new_df.drop(new_df[(new_df['V12'] > v12_upper) | (new_df['V12'] < v12_lower)].index)\n",
    "print('Number of Instances after outliers removal: {}'.format(len(new_df)))\n",
    "print('\\n')\n",
    "\n",
    "\n",
    "# Removing outliers V10 Feature\n",
    "v10_fraud = new_df['V10'].loc[new_df['Class'] == 1].values\n",
    "q25, q75 = np.percentile(v10_fraud, 25), np.percentile(v10_fraud, 75)\n",
    "v10_iqr = q75 - q25\n",
    "\n",
    "v10_cut_off = v10_iqr * 1.5\n",
    "v10_lower, v10_upper = q25 - v10_cut_off, q75 + v10_cut_off\n",
    "print('V10 Lower: {}'.format(v10_lower))\n",
    "print('V10 Upper: {}'.format(v10_upper))\n",
    "outliers = [x for x in v10_fraud if x < v10_lower or x > v10_upper]\n",
    "print('V10 outliers: {}'.format(outliers))\n",
    "print('Feature V10 Outliers for Fraud Cases: {}'.format(len(outliers)))\n",
    "new_df = new_df.drop(new_df[(new_df['V10'] > v10_upper) | (new_df['V10'] < v10_lower)].index)\n",
    "print('Number of Instances after outliers removal: {}'.format(len(new_df)))"
   ]
  },
  {
   "cell_type": "markdown",
   "id": "0f1096ef",
   "metadata": {},
   "source": [
    "# Dataset analysis"
   ]
  },
  {
   "cell_type": "code",
   "execution_count": 10,
   "id": "dc8c731d",
   "metadata": {},
   "outputs": [
    {
     "name": "stdout",
     "output_type": "stream",
     "text": [
      "-----CREDIT CARD FRAUD DETECTION NORMALIZED DATASET-----\n",
      "\n",
      "-> Number of instances: 947\n",
      "\n",
      "-> Number of Features: 30\n",
      "\t - Time\n",
      "\t - V1\n",
      "\t - V2\n",
      "\t - V3\n",
      "\t - V4\n",
      "\t - V5\n",
      "\t - V6\n",
      "\t - V7\n",
      "\t - V8\n",
      "\t - V9\n",
      "\t - V10\n",
      "\t - V11\n",
      "\t - V12\n",
      "\t - V13\n",
      "\t - V14\n",
      "\t - V15\n",
      "\t - V16\n",
      "\t - V17\n",
      "\t - V18\n",
      "\t - V19\n",
      "\t - V20\n",
      "\t - V21\n",
      "\t - V22\n",
      "\t - V23\n",
      "\t - V24\n",
      "\t - V25\n",
      "\t - V26\n",
      "\t - V27\n",
      "\t - V28\n",
      "\t - Amount\n",
      "\n",
      "\tDue to privacy reasons, features have no description.\n",
      "\n",
      "-> Target label (Fraud or Non Fraud): Class\n"
     ]
    }
   ],
   "source": [
    "df = new_df\n",
    "\n",
    "print(\"-----CREDIT CARD FRAUD DETECTION NORMALIZED DATASET-----\\n\")\n",
    "print(f\"-> Number of instances: {len(df)}\\n\")\n",
    "\n",
    "features = df.columns[:-1]\n",
    "target = df.columns[-1]\n",
    "\n",
    "print(f\"-> Number of Features: {len(features)}\")\n",
    "\n",
    "for label in features:\n",
    "    print(f\"\\t - {label}\")\n",
    "\n",
    "print(\"\\n\\tDue to privacy reasons, features have no description.\\n\")\n",
    "print(f\"-> Target label (Fraud or Non Fraud): {target}\")"
   ]
  },
  {
   "cell_type": "code",
   "execution_count": 11,
   "id": "b4189f16",
   "metadata": {},
   "outputs": [
    {
     "name": "stdout",
     "output_type": "stream",
     "text": [
      "(947, 31)\n"
     ]
    }
   ],
   "source": [
    "print(df.shape)"
   ]
  },
  {
   "cell_type": "code",
   "execution_count": 12,
   "id": "f3c67190",
   "metadata": {},
   "outputs": [
    {
     "name": "stdout",
     "output_type": "stream",
     "text": [
      "<bound method DataFrame.info of             Time         V1         V2         V3        V4         V5  \\\n",
      "199674  133078.0  -1.560163   1.513575  -0.916212 -0.417082   0.499099   \n",
      "149522   91407.0  -3.951209   2.881805  -6.421490  2.434181  -1.327325   \n",
      "179071  123910.0  -0.395674   0.642944   0.399583 -0.928114   0.040403   \n",
      "154286  101051.0  -1.465316  -1.093377  -0.059768  1.064785  11.095089   \n",
      "30496    35953.0  -4.844372   5.649439  -6.730396  5.252842  -4.409566   \n",
      "...          ...        ...        ...        ...       ...        ...   \n",
      "238222  149582.0  -4.280584   1.421100  -3.908229  2.942946  -0.076205   \n",
      "10484    17187.0   1.088375   0.898474   0.394684  3.170258   0.175739   \n",
      "133482   80407.0  -0.712654   0.474931   1.161460 -0.827995   1.184030   \n",
      "15566    26961.0 -23.237920  13.487386 -25.188773  6.261733 -17.345188   \n",
      "142557   84789.0  -1.430864  -0.802529   1.123320  0.389760  -0.281214   \n",
      "\n",
      "              V6         V7         V8        V9  ...       V21       V22  \\\n",
      "199674 -1.168805   1.482403  -1.062502  1.577228  ...  0.123899  0.989583   \n",
      "149522 -2.122106  -3.227533  -0.685560  0.775985  ...  1.410479  0.279403   \n",
      "179071 -0.288880   0.100708   0.393033  0.570390  ...  0.435999  1.350421   \n",
      "154286 -5.430971  -9.378025  -0.446456  1.992110  ...  1.160623 -1.259697   \n",
      "30496  -1.740767  -6.311699   3.449167 -5.416284  ...  1.194888 -0.845753   \n",
      "...          ...        ...        ...       ...  ...       ...       ...   \n",
      "238222 -2.002526  -2.874155  -0.856005  0.963674  ... -0.140062 -0.907720   \n",
      "10484  -0.221981  -0.022989  -0.010874  0.860044  ... -0.423554 -0.800852   \n",
      "133482 -0.290135   0.501859   0.096044 -0.661336  ... -0.133775 -0.596767   \n",
      "15566  -4.534989 -17.100492  15.374630 -3.845567  ...  1.769708 -1.691973   \n",
      "142557 -0.055123   1.326232   0.195700 -0.546890  ...  0.325575  0.014002   \n",
      "\n",
      "              V23       V24       V25       V26       V27       V28  Amount  \\\n",
      "199674  -0.029990 -0.109257 -0.382022 -0.286792 -0.961465 -0.129444   55.04   \n",
      "149522   0.570821  0.656271 -0.298601 -0.407571 -1.378703  1.379130   52.69   \n",
      "179071  -0.080648 -0.600018 -0.867352 -0.410914  0.174014  0.194348   19.95   \n",
      "154286 -15.981649 -0.883670 -3.536716 -0.592965  0.675525  0.424849    0.92   \n",
      "30496    0.190674 -0.216443 -0.325033 -0.270328  0.210214  0.391855  111.70   \n",
      "...           ...       ...       ...       ...       ...       ...     ...   \n",
      "238222  -0.680108 -0.349170  0.056276 -1.149923 -1.809886  0.723051    1.10   \n",
      "10484    0.077614  0.167608  0.350182 -0.118941  0.012948  0.054254    3.79   \n",
      "133482  -0.092829 -0.847626 -0.274168 -0.077447  0.055501  0.123553    1.98   \n",
      "15566   -1.045673  0.143386  1.611577 -0.221576  1.481233  0.438125   99.99   \n",
      "142557   0.844946  0.114963  0.156365 -0.619437 -0.120351  0.035594  354.33   \n",
      "\n",
      "        Class  \n",
      "199674      0  \n",
      "149522      1  \n",
      "179071      0  \n",
      "154286      1  \n",
      "30496       1  \n",
      "...       ...  \n",
      "238222      1  \n",
      "10484       1  \n",
      "133482      0  \n",
      "15566       1  \n",
      "142557      1  \n",
      "\n",
      "[947 rows x 31 columns]>\n"
     ]
    }
   ],
   "source": [
    "print(df.info)"
   ]
  },
  {
   "cell_type": "code",
   "execution_count": 13,
   "id": "09991768",
   "metadata": {},
   "outputs": [
    {
     "data": {
      "text/html": [
       "<div>\n",
       "<style scoped>\n",
       "    .dataframe tbody tr th:only-of-type {\n",
       "        vertical-align: middle;\n",
       "    }\n",
       "\n",
       "    .dataframe tbody tr th {\n",
       "        vertical-align: top;\n",
       "    }\n",
       "\n",
       "    .dataframe thead th {\n",
       "        text-align: right;\n",
       "    }\n",
       "</style>\n",
       "<table border=\"1\" class=\"dataframe\">\n",
       "  <thead>\n",
       "    <tr style=\"text-align: right;\">\n",
       "      <th></th>\n",
       "      <th>Time</th>\n",
       "      <th>V1</th>\n",
       "      <th>V2</th>\n",
       "      <th>V3</th>\n",
       "      <th>V4</th>\n",
       "      <th>V5</th>\n",
       "      <th>V6</th>\n",
       "      <th>V7</th>\n",
       "      <th>V8</th>\n",
       "      <th>V9</th>\n",
       "      <th>...</th>\n",
       "      <th>V21</th>\n",
       "      <th>V22</th>\n",
       "      <th>V23</th>\n",
       "      <th>V24</th>\n",
       "      <th>V25</th>\n",
       "      <th>V26</th>\n",
       "      <th>V27</th>\n",
       "      <th>V28</th>\n",
       "      <th>Amount</th>\n",
       "      <th>Class</th>\n",
       "    </tr>\n",
       "  </thead>\n",
       "  <tbody>\n",
       "    <tr>\n",
       "      <th>count</th>\n",
       "      <td>947.000000</td>\n",
       "      <td>947.000000</td>\n",
       "      <td>947.000000</td>\n",
       "      <td>947.000000</td>\n",
       "      <td>947.000000</td>\n",
       "      <td>947.000000</td>\n",
       "      <td>947.000000</td>\n",
       "      <td>947.000000</td>\n",
       "      <td>947.000000</td>\n",
       "      <td>947.000000</td>\n",
       "      <td>...</td>\n",
       "      <td>947.000000</td>\n",
       "      <td>947.000000</td>\n",
       "      <td>947.000000</td>\n",
       "      <td>947.000000</td>\n",
       "      <td>947.000000</td>\n",
       "      <td>947.000000</td>\n",
       "      <td>947.000000</td>\n",
       "      <td>947.000000</td>\n",
       "      <td>947.000000</td>\n",
       "      <td>947.000000</td>\n",
       "    </tr>\n",
       "    <tr>\n",
       "      <th>mean</th>\n",
       "      <td>87617.304118</td>\n",
       "      <td>-1.938452</td>\n",
       "      <td>1.465545</td>\n",
       "      <td>-2.912859</td>\n",
       "      <td>2.049854</td>\n",
       "      <td>-1.207461</td>\n",
       "      <td>-0.687965</td>\n",
       "      <td>-2.129322</td>\n",
       "      <td>0.435844</td>\n",
       "      <td>-1.092566</td>\n",
       "      <td>...</td>\n",
       "      <td>0.490979</td>\n",
       "      <td>-0.075321</td>\n",
       "      <td>-0.034255</td>\n",
       "      <td>-0.073610</td>\n",
       "      <td>0.024146</td>\n",
       "      <td>0.038357</td>\n",
       "      <td>0.171060</td>\n",
       "      <td>0.056199</td>\n",
       "      <td>110.953041</td>\n",
       "      <td>0.482577</td>\n",
       "    </tr>\n",
       "    <tr>\n",
       "      <th>std</th>\n",
       "      <td>48714.294406</td>\n",
       "      <td>4.756618</td>\n",
       "      <td>3.225202</td>\n",
       "      <td>5.424397</td>\n",
       "      <td>2.966894</td>\n",
       "      <td>3.710589</td>\n",
       "      <td>1.687491</td>\n",
       "      <td>4.493477</td>\n",
       "      <td>4.287328</td>\n",
       "      <td>1.965064</td>\n",
       "      <td>...</td>\n",
       "      <td>2.442518</td>\n",
       "      <td>1.060693</td>\n",
       "      <td>1.141924</td>\n",
       "      <td>0.570755</td>\n",
       "      <td>0.644811</td>\n",
       "      <td>0.473353</td>\n",
       "      <td>0.716378</td>\n",
       "      <td>0.415762</td>\n",
       "      <td>271.126304</td>\n",
       "      <td>0.499960</td>\n",
       "    </tr>\n",
       "    <tr>\n",
       "      <th>min</th>\n",
       "      <td>23.000000</td>\n",
       "      <td>-30.552380</td>\n",
       "      <td>-12.231954</td>\n",
       "      <td>-31.103685</td>\n",
       "      <td>-3.565152</td>\n",
       "      <td>-22.105532</td>\n",
       "      <td>-8.423297</td>\n",
       "      <td>-21.922811</td>\n",
       "      <td>-37.353443</td>\n",
       "      <td>-9.283925</td>\n",
       "      <td>...</td>\n",
       "      <td>-6.389132</td>\n",
       "      <td>-8.887017</td>\n",
       "      <td>-19.254328</td>\n",
       "      <td>-2.028780</td>\n",
       "      <td>-4.781606</td>\n",
       "      <td>-1.155110</td>\n",
       "      <td>-3.908080</td>\n",
       "      <td>-1.950867</td>\n",
       "      <td>0.000000</td>\n",
       "      <td>0.000000</td>\n",
       "    </tr>\n",
       "    <tr>\n",
       "      <th>25%</th>\n",
       "      <td>46692.500000</td>\n",
       "      <td>-2.436621</td>\n",
       "      <td>-0.128653</td>\n",
       "      <td>-4.545179</td>\n",
       "      <td>-0.157670</td>\n",
       "      <td>-1.523707</td>\n",
       "      <td>-1.440955</td>\n",
       "      <td>-2.660320</td>\n",
       "      <td>-0.202020</td>\n",
       "      <td>-2.002121</td>\n",
       "      <td>...</td>\n",
       "      <td>-0.164215</td>\n",
       "      <td>-0.571174</td>\n",
       "      <td>-0.233903</td>\n",
       "      <td>-0.422785</td>\n",
       "      <td>-0.311293</td>\n",
       "      <td>-0.275620</td>\n",
       "      <td>-0.050480</td>\n",
       "      <td>-0.049758</td>\n",
       "      <td>1.790000</td>\n",
       "      <td>0.000000</td>\n",
       "    </tr>\n",
       "    <tr>\n",
       "      <th>50%</th>\n",
       "      <td>78750.000000</td>\n",
       "      <td>-0.731350</td>\n",
       "      <td>0.885657</td>\n",
       "      <td>-1.143279</td>\n",
       "      <td>1.240303</td>\n",
       "      <td>-0.328060</td>\n",
       "      <td>-0.637328</td>\n",
       "      <td>-0.542309</td>\n",
       "      <td>0.155360</td>\n",
       "      <td>-0.667939</td>\n",
       "      <td>...</td>\n",
       "      <td>0.145627</td>\n",
       "      <td>-0.020880</td>\n",
       "      <td>-0.026536</td>\n",
       "      <td>-0.030014</td>\n",
       "      <td>0.038040</td>\n",
       "      <td>-0.013588</td>\n",
       "      <td>0.057182</td>\n",
       "      <td>0.040574</td>\n",
       "      <td>19.950000</td>\n",
       "      <td>0.000000</td>\n",
       "    </tr>\n",
       "    <tr>\n",
       "      <th>75%</th>\n",
       "      <td>134848.500000</td>\n",
       "      <td>1.058099</td>\n",
       "      <td>2.497793</td>\n",
       "      <td>0.381548</td>\n",
       "      <td>3.907152</td>\n",
       "      <td>0.501589</td>\n",
       "      <td>0.040074</td>\n",
       "      <td>0.311441</td>\n",
       "      <td>0.831059</td>\n",
       "      <td>0.197048</td>\n",
       "      <td>...</td>\n",
       "      <td>0.621911</td>\n",
       "      <td>0.539764</td>\n",
       "      <td>0.190780</td>\n",
       "      <td>0.352648</td>\n",
       "      <td>0.377628</td>\n",
       "      <td>0.330284</td>\n",
       "      <td>0.445738</td>\n",
       "      <td>0.219201</td>\n",
       "      <td>99.990000</td>\n",
       "      <td>1.000000</td>\n",
       "    </tr>\n",
       "    <tr>\n",
       "      <th>max</th>\n",
       "      <td>172110.000000</td>\n",
       "      <td>2.291241</td>\n",
       "      <td>16.713389</td>\n",
       "      <td>2.979081</td>\n",
       "      <td>11.927512</td>\n",
       "      <td>13.286095</td>\n",
       "      <td>5.786094</td>\n",
       "      <td>10.665830</td>\n",
       "      <td>20.007208</td>\n",
       "      <td>4.583702</td>\n",
       "      <td>...</td>\n",
       "      <td>27.202839</td>\n",
       "      <td>2.941475</td>\n",
       "      <td>5.303607</td>\n",
       "      <td>3.432370</td>\n",
       "      <td>2.352145</td>\n",
       "      <td>2.745261</td>\n",
       "      <td>3.052358</td>\n",
       "      <td>2.887054</td>\n",
       "      <td>3497.700000</td>\n",
       "      <td>1.000000</td>\n",
       "    </tr>\n",
       "  </tbody>\n",
       "</table>\n",
       "<p>8 rows × 31 columns</p>\n",
       "</div>"
      ],
      "text/plain": [
       "                Time          V1          V2          V3          V4  \\\n",
       "count     947.000000  947.000000  947.000000  947.000000  947.000000   \n",
       "mean    87617.304118   -1.938452    1.465545   -2.912859    2.049854   \n",
       "std     48714.294406    4.756618    3.225202    5.424397    2.966894   \n",
       "min        23.000000  -30.552380  -12.231954  -31.103685   -3.565152   \n",
       "25%     46692.500000   -2.436621   -0.128653   -4.545179   -0.157670   \n",
       "50%     78750.000000   -0.731350    0.885657   -1.143279    1.240303   \n",
       "75%    134848.500000    1.058099    2.497793    0.381548    3.907152   \n",
       "max    172110.000000    2.291241   16.713389    2.979081   11.927512   \n",
       "\n",
       "               V5          V6          V7          V8          V9  ...  \\\n",
       "count  947.000000  947.000000  947.000000  947.000000  947.000000  ...   \n",
       "mean    -1.207461   -0.687965   -2.129322    0.435844   -1.092566  ...   \n",
       "std      3.710589    1.687491    4.493477    4.287328    1.965064  ...   \n",
       "min    -22.105532   -8.423297  -21.922811  -37.353443   -9.283925  ...   \n",
       "25%     -1.523707   -1.440955   -2.660320   -0.202020   -2.002121  ...   \n",
       "50%     -0.328060   -0.637328   -0.542309    0.155360   -0.667939  ...   \n",
       "75%      0.501589    0.040074    0.311441    0.831059    0.197048  ...   \n",
       "max     13.286095    5.786094   10.665830   20.007208    4.583702  ...   \n",
       "\n",
       "              V21         V22         V23         V24         V25         V26  \\\n",
       "count  947.000000  947.000000  947.000000  947.000000  947.000000  947.000000   \n",
       "mean     0.490979   -0.075321   -0.034255   -0.073610    0.024146    0.038357   \n",
       "std      2.442518    1.060693    1.141924    0.570755    0.644811    0.473353   \n",
       "min     -6.389132   -8.887017  -19.254328   -2.028780   -4.781606   -1.155110   \n",
       "25%     -0.164215   -0.571174   -0.233903   -0.422785   -0.311293   -0.275620   \n",
       "50%      0.145627   -0.020880   -0.026536   -0.030014    0.038040   -0.013588   \n",
       "75%      0.621911    0.539764    0.190780    0.352648    0.377628    0.330284   \n",
       "max     27.202839    2.941475    5.303607    3.432370    2.352145    2.745261   \n",
       "\n",
       "              V27         V28       Amount       Class  \n",
       "count  947.000000  947.000000   947.000000  947.000000  \n",
       "mean     0.171060    0.056199   110.953041    0.482577  \n",
       "std      0.716378    0.415762   271.126304    0.499960  \n",
       "min     -3.908080   -1.950867     0.000000    0.000000  \n",
       "25%     -0.050480   -0.049758     1.790000    0.000000  \n",
       "50%      0.057182    0.040574    19.950000    0.000000  \n",
       "75%      0.445738    0.219201    99.990000    1.000000  \n",
       "max      3.052358    2.887054  3497.700000    1.000000  \n",
       "\n",
       "[8 rows x 31 columns]"
      ]
     },
     "execution_count": 13,
     "metadata": {},
     "output_type": "execute_result"
    }
   ],
   "source": [
    "df.describe()"
   ]
  },
  {
   "cell_type": "markdown",
   "id": "3e5c0969",
   "metadata": {},
   "source": [
    "## Data normalization"
   ]
  },
  {
   "cell_type": "code",
   "execution_count": 15,
   "id": "07024a50",
   "metadata": {},
   "outputs": [],
   "source": [
    "def featureNormalization(X):\n",
    "    \"\"\"\n",
    "    Take in numpy array of X values and return normalize X values,\n",
    "    the mean and standard deviation of each feature\n",
    "    \"\"\"\n",
    "    mean= np.mean(X, axis=0)\n",
    "    std= np.std(X, axis=0)\n",
    "    \n",
    "    X_norm = (X - mean)/std\n",
    "    \n",
    "    return X_norm , mean , std"
   ]
  },
  {
   "cell_type": "code",
   "execution_count": 16,
   "id": "027ca25f",
   "metadata": {},
   "outputs": [],
   "source": [
    "X = df.drop(\"Class\", axis=1)\n",
    "y = df[\"Class\"]\n",
    "m, n = X.shape[0], X.shape[1]\n",
    "X = X.to_numpy()\n",
    "y = y.values\n",
    "\n",
    "# Normalize the data\n",
    "X, X_mean, X_std = featureNormalization(X)\n",
    "\n",
    "#After normalizing the features, add an extra column of 1's corresponding to x0 = 1.\n",
    "X = np.append(np.ones((m, 1)), X, axis=1)"
   ]
  },
  {
   "cell_type": "markdown",
   "id": "5f9a8121",
   "metadata": {},
   "source": [
    "### Splitting our dataset into training subset and testing subset"
   ]
  },
  {
   "cell_type": "code",
   "execution_count": 17,
   "id": "142b411e",
   "metadata": {},
   "outputs": [],
   "source": [
    "X_train, X_test, Y_train, Y_test = train_test_split(X, y, test_size=0.2, stratify=y, random_state=2)"
   ]
  },
  {
   "cell_type": "markdown",
   "id": "787b2863",
   "metadata": {},
   "source": [
    "# Models"
   ]
  },
  {
   "cell_type": "code",
   "execution_count": 56,
   "id": "b449ef2b",
   "metadata": {},
   "outputs": [],
   "source": [
    "# Some helper functions\n",
    "\n",
    "def train_and_analyze(model, X, y):\n",
    "    model.fit(X, y)\n",
    "    \n",
    "    print(f\"> Model: {model.__class__}\\n\")\n",
    "    \n",
    "    print(\"---- Optimal Theta Values ----\")\n",
    "    print(model.coef_)\n",
    "    \n",
    "    X_test_prediction = model.predict(X_test)\n",
    "    test_data_accuracy = accuracy_score(X_test_prediction, Y_test)\n",
    "    f1 = f1_score(Y_test, X_test_prediction)\n",
    "\n",
    "    print()\n",
    "    print(\"---- Model Analysis ----\")\n",
    "    print('Accuracy: ', test_data_accuracy)\n",
    "    print('F1 Score: ', f1)\n",
    "    \n",
    "    print()\n",
    "    \n",
    "    print(\"Confusion Matrix: \")\n",
    "    cm = confusion_matrix(Y_test, model.predict(X_test))\n",
    "\n",
    "    fig, ax = plt.subplots(figsize=(8, 8))\n",
    "    ax.imshow(cm)\n",
    "    ax.grid(False)\n",
    "    ax.xaxis.set(ticks=(0, 1), ticklabels=('Predicted 0s', 'Predicted 1s'))\n",
    "    ax.yaxis.set(ticks=(0, 1), ticklabels=('Actual 0s', 'Actual 1s'))\n",
    "    ax.set_ylim(1.5, -0.5)\n",
    "    for i in range(2):\n",
    "        for j in range(2):\n",
    "            ax.text(j, i, cm[i, j], ha='center', va='center', color='red')\n",
    "    plt.show()\n",
    "    \n",
    "    print()\n",
    "    print(\"---- Classification Report ----\")\n",
    "    print(classification_report(Y_test, model.predict(X_test)))\n"
   ]
  },
  {
   "cell_type": "markdown",
   "id": "677ae879",
   "metadata": {},
   "source": [
    "## Logistic Regression\n",
    "\n",
    "Since we are handling a Classificaiton problem (our prediction will give us either 0, non-fraud or 1, fraud), we decided to implement the **Logistic Regression** algorithm.\n",
    "\n",
    "This means a function will be developed such as \n",
    "```\n",
    "f(x1, x2, ... xn) = theta0 + theta1 * x1 + theta2 * x2 + ... + thetan * xn\n",
    "```\n",
    "Where x1...xn are the n features of our dataset.\n",
    "Then f(x) is passed to the sigmoid function as an argument which will give us number between 0 and 1. That value represents how close to being a fraud or not our algorithm predicts based on the labels.\n",
    "\n",
    "To find the best values of theta, \n",
    "\n",
    "Before actually training the model to find the best regression parameters, we define a couple of utility functions, which will later be used."
   ]
  },
  {
   "cell_type": "markdown",
   "id": "7c402780",
   "metadata": {},
   "source": [
    "#### Creating and training the model"
   ]
  },
  {
   "cell_type": "code",
   "execution_count": 52,
   "id": "490fba0a",
   "metadata": {},
   "outputs": [
    {
     "name": "stdout",
     "output_type": "stream",
     "text": [
      "> Model: <class 'sklearn.linear_model._logistic.LogisticRegression'>\n",
      "\n",
      "---- Optimal Theta Values ----\n",
      "[[ 5.56158824e-04 -1.92285663e-01  1.70994378e-01  4.60558866e-01\n",
      "  -2.79400983e-01  2.18544982e+00  6.37425554e-01 -2.65316719e-01\n",
      "  -8.76395151e-02 -1.47373685e+00 -2.78553807e-01 -1.04745998e+00\n",
      "   6.69191949e-01 -1.58676367e+00 -4.99912662e-01 -2.39225036e+00\n",
      "  -1.01159749e-01 -5.70173544e-01 -3.98098112e-01  1.55061106e-01\n",
      "   2.70679123e-01 -3.22111319e-01  6.10710707e-01  8.02477651e-01\n",
      "  -2.08267403e-01  5.95752561e-02  1.26709384e-01 -2.80833076e-01\n",
      "   3.83521773e-01 -1.07781602e-01  5.03633958e-01]]\n",
      "\n",
      "---- Model Analysis ----\n",
      "Accuracy:  0.9157894736842105\n",
      "F1 Score:  0.909090909090909\n",
      "\n",
      "Confusion Matrix: \n"
     ]
    },
    {
     "data": {
      "image/png": "[encoded data removed]",
      "text/plain": [
       "<Figure size 576x576 with 1 Axes>"
      ]
     },
     "metadata": {
      "needs_background": "light"
     },
     "output_type": "display_data"
    },
    {
     "name": "stdout",
     "output_type": "stream",
     "text": [
      "\n",
      "---- Classification Report ----\n",
      "              precision    recall  f1-score   support\n",
      "\n",
      "           0       0.89      0.96      0.92        98\n",
      "           1       0.95      0.87      0.91        92\n",
      "\n",
      "    accuracy                           0.92       190\n",
      "   macro avg       0.92      0.91      0.92       190\n",
      "weighted avg       0.92      0.92      0.92       190\n",
      "\n"
     ]
    }
   ],
   "source": [
    "train_and_analyze(LogisticRegression(), X_train, Y_train)"
   ]
  },
  {
   "cell_type": "markdown",
   "id": "4a23edd7",
   "metadata": {},
   "source": [
    "## SVM"
   ]
  },
  {
   "cell_type": "code",
   "execution_count": 57,
   "id": "1b41ebfd",
   "metadata": {},
   "outputs": [
    {
     "name": "stdout",
     "output_type": "stream",
     "text": [
      "> Model: <class 'sklearn.svm._classes.SVC'>\n",
      "\n",
      "---- Optimal Theta Values ----\n"
     ]
    },
    {
     "ename": "AttributeError",
     "evalue": "coef_ is only available when using a linear kernel",
     "output_type": "error",
     "traceback": [
      "\u001b[0;31m---------------------------------------------------------------------------\u001b[0m",
      "\u001b[0;31mAttributeError\u001b[0m                            Traceback (most recent call last)",
      "Input \u001b[0;32mIn [57]\u001b[0m, in \u001b[0;36m<cell line: 1>\u001b[0;34m()\u001b[0m\n\u001b[0;32m----> 1\u001b[0m \u001b[43mtrain_and_analyze\u001b[49m\u001b[43m(\u001b[49m\u001b[43mSVC\u001b[49m\u001b[43m(\u001b[49m\u001b[43mkernel\u001b[49m\u001b[38;5;241;43m=\u001b[39;49m\u001b[38;5;124;43m\"\u001b[39;49m\u001b[38;5;124;43mrbf\u001b[39;49m\u001b[38;5;124;43m\"\u001b[39;49m\u001b[43m)\u001b[49m\u001b[43m,\u001b[49m\u001b[43m \u001b[49m\u001b[43mX_train\u001b[49m\u001b[43m,\u001b[49m\u001b[43m \u001b[49m\u001b[43mY_train\u001b[49m\u001b[43m)\u001b[49m\n",
      "Input \u001b[0;32mIn [56]\u001b[0m, in \u001b[0;36mtrain_and_analyze\u001b[0;34m(model, X, y)\u001b[0m\n\u001b[1;32m      6\u001b[0m \u001b[38;5;28mprint\u001b[39m(\u001b[38;5;124mf\u001b[39m\u001b[38;5;124m\"\u001b[39m\u001b[38;5;124m> Model: \u001b[39m\u001b[38;5;132;01m{\u001b[39;00mmodel\u001b[38;5;241m.\u001b[39m\u001b[38;5;18m__class__\u001b[39m\u001b[38;5;132;01m}\u001b[39;00m\u001b[38;5;130;01m\\n\u001b[39;00m\u001b[38;5;124m\"\u001b[39m)\n\u001b[1;32m      8\u001b[0m \u001b[38;5;28mprint\u001b[39m(\u001b[38;5;124m\"\u001b[39m\u001b[38;5;124m---- Optimal Theta Values ----\u001b[39m\u001b[38;5;124m\"\u001b[39m)\n\u001b[0;32m----> 9\u001b[0m \u001b[38;5;28mprint\u001b[39m(\u001b[43mmodel\u001b[49m\u001b[38;5;241;43m.\u001b[39;49m\u001b[43mcoef_\u001b[49m)\n\u001b[1;32m     11\u001b[0m X_test_prediction \u001b[38;5;241m=\u001b[39m model\u001b[38;5;241m.\u001b[39mpredict(X_test)\n\u001b[1;32m     12\u001b[0m test_data_accuracy \u001b[38;5;241m=\u001b[39m accuracy_score(X_test_prediction, Y_test)\n",
      "File \u001b[0;32m~/.local/lib/python3.10/site-packages/sklearn/svm/_base.py:637\u001b[0m, in \u001b[0;36mBaseLibSVM.coef_\u001b[0;34m(self)\u001b[0m\n\u001b[1;32m    630\u001b[0m \u001b[38;5;124;03m\"\"\"Weights assigned to the features when `kernel=\"linear\"`.\u001b[39;00m\n\u001b[1;32m    631\u001b[0m \n\u001b[1;32m    632\u001b[0m \u001b[38;5;124;03mReturns\u001b[39;00m\n\u001b[1;32m    633\u001b[0m \u001b[38;5;124;03m-------\u001b[39;00m\n\u001b[1;32m    634\u001b[0m \u001b[38;5;124;03mndarray of shape (n_features, n_classes)\u001b[39;00m\n\u001b[1;32m    635\u001b[0m \u001b[38;5;124;03m\"\"\"\u001b[39;00m\n\u001b[1;32m    636\u001b[0m \u001b[38;5;28;01mif\u001b[39;00m \u001b[38;5;28mself\u001b[39m\u001b[38;5;241m.\u001b[39mkernel \u001b[38;5;241m!=\u001b[39m \u001b[38;5;124m\"\u001b[39m\u001b[38;5;124mlinear\u001b[39m\u001b[38;5;124m\"\u001b[39m:\n\u001b[0;32m--> 637\u001b[0m     \u001b[38;5;28;01mraise\u001b[39;00m \u001b[38;5;167;01mAttributeError\u001b[39;00m(\u001b[38;5;124m\"\u001b[39m\u001b[38;5;124mcoef_ is only available when using a linear kernel\u001b[39m\u001b[38;5;124m\"\u001b[39m)\n\u001b[1;32m    639\u001b[0m coef \u001b[38;5;241m=\u001b[39m \u001b[38;5;28mself\u001b[39m\u001b[38;5;241m.\u001b[39m_get_coef()\n\u001b[1;32m    641\u001b[0m \u001b[38;5;66;03m# coef_ being a read-only property, it's better to mark the value as\u001b[39;00m\n\u001b[1;32m    642\u001b[0m \u001b[38;5;66;03m# immutable to avoid hiding potential bugs for the unsuspecting user.\u001b[39;00m\n",
      "\u001b[0;31mAttributeError\u001b[0m: coef_ is only available when using a linear kernel"
     ]
    }
   ],
   "source": [
    "train_and_analyze(SVC(kernel=\"rbf\"), X_train, Y_train)"
   ]
  },
  {
   "cell_type": "code",
   "execution_count": 22,
   "id": "2d65e01e",
   "metadata": {},
   "outputs": [
    {
     "data": {
      "text/plain": [
       "'\\n\\nEu acho que esta parte ja nao é preciso, porque ja calculamos o modelo em cima com o LogisticRegression(), ja temos\\nos thetas... depois vou confirmar com o serras.\\n\\n\\nX = df.drop(\"Class\", axis=1)\\ny = df[\"Class\"]\\nm, n = X.shape[0], X.shape[1]\\nX = X.to_numpy()\\ny = y.values\\n\\nalpha = 0.01\\ni = 1500\\n\\n#Run featureNormalization to normalize X, store the means and stds.\\n\\nX, X_mean, X_std = featureNormalization(X)\\n\\n#After normalizing the features, add an extra column of 1\\'s corresponding to x0 = 1.\\nX = np.append(np.ones((m, 1)), X, axis=1)\\n\\n# Inicialize vector theta = 0\\ninitial_theta = np.zeros((n + 1, 1))\\n\\n#Run costFunction\\n\\ntheta, _ = gradDescent(X, y, initial_theta, alpha, i)\\nprint(\"Optimal theta values:\")\\nprint(theta)\\n#print(\"Cost of initial theta is\",round(cost,3) )   # ANSWER: Cost of initial theta is 0.693\\n#print(\"Gradient at initial theta (zeros):\",grad)  #ANSWER: Gradient at initial theta (zeros): [[-0.1 ] [-0.28122914] [-0.25098615]]\\n'"
      ]
     },
     "execution_count": 22,
     "metadata": {},
     "output_type": "execute_result"
    }
   ],
   "source": [
    "\"\"\"\n",
    "\n",
    "Eu acho que esta parte ja nao é preciso, porque ja calculamos o modelo em cima com o LogisticRegression(), ja temos\n",
    "os thetas... depois vou confirmar com o serras.\n",
    "\n",
    "\n",
    "X = df.drop(\"Class\", axis=1)\n",
    "y = df[\"Class\"]\n",
    "m, n = X.shape[0], X.shape[1]\n",
    "X = X.to_numpy()\n",
    "y = y.values\n",
    "\n",
    "alpha = 0.01\n",
    "i = 1500\n",
    "\n",
    "#Run featureNormalization to normalize X, store the means and stds.\n",
    "\n",
    "X, X_mean, X_std = featureNormalization(X)\n",
    "\n",
    "#After normalizing the features, add an extra column of 1's corresponding to x0 = 1.\n",
    "X = np.append(np.ones((m, 1)), X, axis=1)\n",
    "\n",
    "# Inicialize vector theta = 0\n",
    "initial_theta = np.zeros((n + 1, 1))\n",
    "\n",
    "#Run costFunction\n",
    "\n",
    "theta, _ = gradDescent(X, y, initial_theta, alpha, i)\n",
    "print(\"Optimal theta values:\")\n",
    "print(theta)\n",
    "#print(\"Cost of initial theta is\",round(cost,3) )   # ANSWER: Cost of initial theta is 0.693\n",
    "#print(\"Gradient at initial theta (zeros):\",grad)  #ANSWER: Gradient at initial theta (zeros): [[-0.1 ] [-0.28122914] [-0.25098615]]\n",
    "\"\"\""
   ]
  },
  {
   "cell_type": "code",
   "execution_count": null,
   "id": "f9da16e9",
   "metadata": {},
   "outputs": [],
   "source": []
  },
  {
   "cell_type": "markdown",
   "id": "515d9eaa",
   "metadata": {},
   "source": [
    "## Plot the Cost Function"
   ]
  },
  {
   "cell_type": "code",
   "execution_count": 23,
   "id": "c8228679",
   "metadata": {},
   "outputs": [
    {
     "ename": "NameError",
     "evalue": "name 'gradDescent' is not defined",
     "output_type": "error",
     "traceback": [
      "\u001b[0;31m---------------------------------------------------------------------------\u001b[0m",
      "\u001b[0;31mNameError\u001b[0m                                 Traceback (most recent call last)",
      "Input \u001b[0;32mIn [23]\u001b[0m, in \u001b[0;36m<cell line: 2>\u001b[0;34m()\u001b[0m\n\u001b[1;32m      1\u001b[0m lr\u001b[38;5;241m=\u001b[39m[\u001b[38;5;241m0.01\u001b[39m, \u001b[38;5;241m0.1\u001b[39m, \u001b[38;5;241m0.5\u001b[39m, \u001b[38;5;241m1\u001b[39m]\n\u001b[1;32m      2\u001b[0m \u001b[38;5;28;01mfor\u001b[39;00m i \u001b[38;5;129;01min\u001b[39;00m lr:\n\u001b[0;32m----> 3\u001b[0m     theta, J_history \u001b[38;5;241m=\u001b[39m \u001b[43mgradDescent\u001b[49m(X, y, initial_theta, i, \u001b[38;5;241m400\u001b[39m)\n\u001b[1;32m      4\u001b[0m     plt\u001b[38;5;241m.\u001b[39mplot(J_history)\n\u001b[1;32m      6\u001b[0m plt\u001b[38;5;241m.\u001b[39mxlabel(\u001b[38;5;124m\"\u001b[39m\u001b[38;5;124mIteration\u001b[39m\u001b[38;5;124m\"\u001b[39m)\n",
      "\u001b[0;31mNameError\u001b[0m: name 'gradDescent' is not defined"
     ]
    }
   ],
   "source": [
    "lr=[0.01, 0.1, 0.5, 1]\n",
    "for i in lr:\n",
    "    theta, J_history = gradDescent(X, y, initial_theta, i, 400)\n",
    "    plt.plot(J_history)\n",
    "\n",
    "plt.xlabel(\"Iteration\")\n",
    "plt.ylabel(\"$J(\\Theta)$\")\n",
    "plt.title(\"Cost function using Gradient Descent\")\n",
    "plt.legend(lr, loc=0)"
   ]
  },
  {
   "cell_type": "markdown",
   "id": "d74f56f6",
   "metadata": {},
   "source": [
    "### Plotting the decision boundary"
   ]
  },
  {
   "cell_type": "code",
   "execution_count": null,
   "id": "803b0ff1",
   "metadata": {},
   "outputs": [],
   "source": [
    "pos=(y==1)\n",
    "neg=(y==0)\n",
    "plt.scatter(X[pos,1],X[pos,2],c=\"r\",marker=\"+\")\n",
    "plt.scatter(X[neg,1],X[neg,2],c=\"b\",marker=\"o\")\n",
    "\n",
    "x_value= np.array([np.min(X[:,1]),np.max(X[:,1])])\n",
    "print(m)\n",
    "print(x_value.reshape(m,1))\n",
    "y_value=-(theta[0] +theta[1]*x_value)/theta[2]\n",
    "plt.plot(x_value,y_value, \"g\")"
   ]
  },
  {
   "cell_type": "code",
   "execution_count": null,
   "id": "8491ce43",
   "metadata": {},
   "outputs": [],
   "source": []
  }
 ],
 "metadata": {
  "kernelspec": {
   "display_name": "Python 3 (ipykernel)",
   "language": "python",
   "name": "python3"
  },
  "language_info": {
   "codemirror_mode": {
    "name": "ipython",
    "version": 3
   },
   "file_extension": ".py",
   "mimetype": "text/x-python",
   "name": "python",
   "nbconvert_exporter": "python",
   "pygments_lexer": "ipython3",
   "version": "3.10.4"
  }
 },
 "nbformat": 4,
 "nbformat_minor": 5
}
