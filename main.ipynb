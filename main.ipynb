{
 "cells": [
  {
   "cell_type": "markdown",
   "id": "62b4ab75",
   "metadata": {},
   "source": [
    "## Dependencies and data import"
   ]
  },
  {
   "cell_type": "code",
   "execution_count": 35,
   "id": "13ba003b",
   "metadata": {},
   "outputs": [
    {
     "data": {
      "text/html": [
       "<div>\n",
       "<style scoped>\n",
       "    .dataframe tbody tr th:only-of-type {\n",
       "        vertical-align: middle;\n",
       "    }\n",
       "\n",
       "    .dataframe tbody tr th {\n",
       "        vertical-align: top;\n",
       "    }\n",
       "\n",
       "    .dataframe thead th {\n",
       "        text-align: right;\n",
       "    }\n",
       "</style>\n",
       "<table border=\"1\" class=\"dataframe\">\n",
       "  <thead>\n",
       "    <tr style=\"text-align: right;\">\n",
       "      <th></th>\n",
       "      <th>Time</th>\n",
       "      <th>V1</th>\n",
       "      <th>V2</th>\n",
       "      <th>V3</th>\n",
       "      <th>V4</th>\n",
       "      <th>V5</th>\n",
       "      <th>V6</th>\n",
       "      <th>V7</th>\n",
       "      <th>V8</th>\n",
       "      <th>V9</th>\n",
       "      <th>...</th>\n",
       "      <th>V21</th>\n",
       "      <th>V22</th>\n",
       "      <th>V23</th>\n",
       "      <th>V24</th>\n",
       "      <th>V25</th>\n",
       "      <th>V26</th>\n",
       "      <th>V27</th>\n",
       "      <th>V28</th>\n",
       "      <th>Amount</th>\n",
       "      <th>Class</th>\n",
       "    </tr>\n",
       "  </thead>\n",
       "  <tbody>\n",
       "    <tr>\n",
       "      <th>0</th>\n",
       "      <td>0.0</td>\n",
       "      <td>-1.359807</td>\n",
       "      <td>-0.072781</td>\n",
       "      <td>2.536347</td>\n",
       "      <td>1.378155</td>\n",
       "      <td>-0.338321</td>\n",
       "      <td>0.462388</td>\n",
       "      <td>0.239599</td>\n",
       "      <td>0.098698</td>\n",
       "      <td>0.363787</td>\n",
       "      <td>...</td>\n",
       "      <td>-0.018307</td>\n",
       "      <td>0.277838</td>\n",
       "      <td>-0.110474</td>\n",
       "      <td>0.066928</td>\n",
       "      <td>0.128539</td>\n",
       "      <td>-0.189115</td>\n",
       "      <td>0.133558</td>\n",
       "      <td>-0.021053</td>\n",
       "      <td>149.62</td>\n",
       "      <td>0</td>\n",
       "    </tr>\n",
       "    <tr>\n",
       "      <th>1</th>\n",
       "      <td>0.0</td>\n",
       "      <td>1.191857</td>\n",
       "      <td>0.266151</td>\n",
       "      <td>0.166480</td>\n",
       "      <td>0.448154</td>\n",
       "      <td>0.060018</td>\n",
       "      <td>-0.082361</td>\n",
       "      <td>-0.078803</td>\n",
       "      <td>0.085102</td>\n",
       "      <td>-0.255425</td>\n",
       "      <td>...</td>\n",
       "      <td>-0.225775</td>\n",
       "      <td>-0.638672</td>\n",
       "      <td>0.101288</td>\n",
       "      <td>-0.339846</td>\n",
       "      <td>0.167170</td>\n",
       "      <td>0.125895</td>\n",
       "      <td>-0.008983</td>\n",
       "      <td>0.014724</td>\n",
       "      <td>2.69</td>\n",
       "      <td>0</td>\n",
       "    </tr>\n",
       "    <tr>\n",
       "      <th>2</th>\n",
       "      <td>1.0</td>\n",
       "      <td>-1.358354</td>\n",
       "      <td>-1.340163</td>\n",
       "      <td>1.773209</td>\n",
       "      <td>0.379780</td>\n",
       "      <td>-0.503198</td>\n",
       "      <td>1.800499</td>\n",
       "      <td>0.791461</td>\n",
       "      <td>0.247676</td>\n",
       "      <td>-1.514654</td>\n",
       "      <td>...</td>\n",
       "      <td>0.247998</td>\n",
       "      <td>0.771679</td>\n",
       "      <td>0.909412</td>\n",
       "      <td>-0.689281</td>\n",
       "      <td>-0.327642</td>\n",
       "      <td>-0.139097</td>\n",
       "      <td>-0.055353</td>\n",
       "      <td>-0.059752</td>\n",
       "      <td>378.66</td>\n",
       "      <td>0</td>\n",
       "    </tr>\n",
       "    <tr>\n",
       "      <th>3</th>\n",
       "      <td>1.0</td>\n",
       "      <td>-0.966272</td>\n",
       "      <td>-0.185226</td>\n",
       "      <td>1.792993</td>\n",
       "      <td>-0.863291</td>\n",
       "      <td>-0.010309</td>\n",
       "      <td>1.247203</td>\n",
       "      <td>0.237609</td>\n",
       "      <td>0.377436</td>\n",
       "      <td>-1.387024</td>\n",
       "      <td>...</td>\n",
       "      <td>-0.108300</td>\n",
       "      <td>0.005274</td>\n",
       "      <td>-0.190321</td>\n",
       "      <td>-1.175575</td>\n",
       "      <td>0.647376</td>\n",
       "      <td>-0.221929</td>\n",
       "      <td>0.062723</td>\n",
       "      <td>0.061458</td>\n",
       "      <td>123.50</td>\n",
       "      <td>0</td>\n",
       "    </tr>\n",
       "    <tr>\n",
       "      <th>4</th>\n",
       "      <td>2.0</td>\n",
       "      <td>-1.158233</td>\n",
       "      <td>0.877737</td>\n",
       "      <td>1.548718</td>\n",
       "      <td>0.403034</td>\n",
       "      <td>-0.407193</td>\n",
       "      <td>0.095921</td>\n",
       "      <td>0.592941</td>\n",
       "      <td>-0.270533</td>\n",
       "      <td>0.817739</td>\n",
       "      <td>...</td>\n",
       "      <td>-0.009431</td>\n",
       "      <td>0.798278</td>\n",
       "      <td>-0.137458</td>\n",
       "      <td>0.141267</td>\n",
       "      <td>-0.206010</td>\n",
       "      <td>0.502292</td>\n",
       "      <td>0.219422</td>\n",
       "      <td>0.215153</td>\n",
       "      <td>69.99</td>\n",
       "      <td>0</td>\n",
       "    </tr>\n",
       "  </tbody>\n",
       "</table>\n",
       "<p>5 rows × 31 columns</p>\n",
       "</div>"
      ],
      "text/plain": [
       "   Time        V1        V2        V3        V4        V5        V6        V7  \\\n",
       "0   0.0 -1.359807 -0.072781  2.536347  1.378155 -0.338321  0.462388  0.239599   \n",
       "1   0.0  1.191857  0.266151  0.166480  0.448154  0.060018 -0.082361 -0.078803   \n",
       "2   1.0 -1.358354 -1.340163  1.773209  0.379780 -0.503198  1.800499  0.791461   \n",
       "3   1.0 -0.966272 -0.185226  1.792993 -0.863291 -0.010309  1.247203  0.237609   \n",
       "4   2.0 -1.158233  0.877737  1.548718  0.403034 -0.407193  0.095921  0.592941   \n",
       "\n",
       "         V8        V9  ...       V21       V22       V23       V24       V25  \\\n",
       "0  0.098698  0.363787  ... -0.018307  0.277838 -0.110474  0.066928  0.128539   \n",
       "1  0.085102 -0.255425  ... -0.225775 -0.638672  0.101288 -0.339846  0.167170   \n",
       "2  0.247676 -1.514654  ...  0.247998  0.771679  0.909412 -0.689281 -0.327642   \n",
       "3  0.377436 -1.387024  ... -0.108300  0.005274 -0.190321 -1.175575  0.647376   \n",
       "4 -0.270533  0.817739  ... -0.009431  0.798278 -0.137458  0.141267 -0.206010   \n",
       "\n",
       "        V26       V27       V28  Amount  Class  \n",
       "0 -0.189115  0.133558 -0.021053  149.62      0  \n",
       "1  0.125895 -0.008983  0.014724    2.69      0  \n",
       "2 -0.139097 -0.055353 -0.059752  378.66      0  \n",
       "3 -0.221929  0.062723  0.061458  123.50      0  \n",
       "4  0.502292  0.219422  0.215153   69.99      0  \n",
       "\n",
       "[5 rows x 31 columns]"
      ]
     },
     "execution_count": 35,
     "metadata": {},
     "output_type": "execute_result"
    }
   ],
   "source": [
    "import numpy as np # linear algebra\n",
    "import pandas as pd # data processing, CSV file I/O (e.g. pd.read_csv)\n",
    "from sklearn.model_selection import train_test_split\n",
    "from sklearn.model_selection import StratifiedKFold\n",
    "from sklearn.model_selection import train_test_split\n",
    "from sklearn.linear_model import LogisticRegression\n",
    "from sklearn.svm import SVC\n",
    "from sklearn.naive_bayes import GaussianNB\n",
    "from sklearn.metrics import accuracy_score, f1_score\n",
    "from sklearn.metrics import classification_report, confusion_matrix\n",
    "from sklearn.model_selection import GridSearchCV, KFold, validation_curve, cross_validate\n",
    "from sklearn.neural_network import MLPClassifier\n",
    "from scipy.stats import norm\n",
    "import seaborn as sns\n",
    "import matplotlib.pyplot as plt\n",
    "\n",
    "\n",
    "df = pd.read_csv('./dataset/creditcard.csv')\n",
    "df.head()"
   ]
  },
  {
   "cell_type": "markdown",
   "id": "5a6998d5",
   "metadata": {},
   "source": [
    "## Data Preparation\n",
    "\n",
    "#### Problem\n",
    "\n",
    "This dataset is not balanced. Using the original dataset will cause some Overfitting and Wrong Correlation issues - We want our model to be certain when a fraud occurs but with it being unbalanced it would assume that in most cases there are no frauds. This means that we need to do some pre processing in order to be able to make conclusions."
   ]
  },
  {
   "cell_type": "code",
   "execution_count": 2,
   "id": "00433dda",
   "metadata": {
    "scrolled": false
   },
   "outputs": [
    {
     "name": "stdout",
     "output_type": "stream",
     "text": [
      "No Frauds: 99.83 % \n",
      "Frauds: 0.17 % \n"
     ]
    },
    {
     "data": {
      "text/plain": [
       "Text(0.5, 1.0, 'Class Distributions \\n (0: No Fraud || 1: Fraud)')"
      ]
     },
     "execution_count": 2,
     "metadata": {},
     "output_type": "execute_result"
    },
    {
     "data": {
      "image/png": "[encoded data removed]",
      "text/plain": [
       "<Figure size 432x288 with 1 Axes>"
      ]
     },
     "metadata": {
      "needs_background": "light"
     },
     "output_type": "display_data"
    }
   ],
   "source": [
    "print('No Frauds:', round(df['Class'].value_counts()[0]/len(df) * 100,2), '% ')\n",
    "print('Frauds:', round(df['Class'].value_counts()[1]/len(df) * 100,2),'% ')\n",
    "\n",
    "sns.countplot(x='Class', data=df)\n",
    "plt.title('Class Distributions \\n (0: No Fraud || 1: Fraud)', fontsize=14)"
   ]
  },
  {
   "cell_type": "markdown",
   "id": "f3465c6a",
   "metadata": {},
   "source": [
    "An inbalanced dataset would raise a lot of overfitting problems, since our algorithm would assume that most transactions are not frauds. By normalizing the data (having a good proportion between frauds and not frauds), we can develop a model to find the patterns that form an actual fraud."
   ]
  },
  {
   "cell_type": "markdown",
   "id": "d59e0734",
   "metadata": {},
   "source": [
    "## Scaling and Distribution\n",
    "\n",
    "We need to create a sub sample of the dataset that offers an equal amount of Fraud and Non-Fraud cases. This will help our algorithm to better understand patterns that determines whether a transaction is a fraud or not. We will create a subsample with a 50/50 ratio of fraud and non-fraud transactions.\n",
    "\n",
    "There are 492 cases of fraud in our dataset. We will need to choose 492 non-fraud cases which can be done randomly from the over thousands of cases present in the data given to create this new subsample with a balanced 50/50 ratio."
   ]
  },
  {
   "cell_type": "markdown",
   "id": "b01879b2",
   "metadata": {},
   "source": [
    "### Splitting the Data on the Original Dataset\n",
    "\n",
    "Before proceeding with the Random Undersampling technique we need to separate the original dataset for testing purposes because we want to test our models on the original testing set and not on the generated set from either of these techniques. We want to fit the model either with the undersample and oversample for our models to detect the patterns and then test it on the original testing set"
   ]
  },
  {
   "cell_type": "code",
   "execution_count": 3,
   "id": "771c097b",
   "metadata": {},
   "outputs": [
    {
     "name": "stdout",
     "output_type": "stream",
     "text": [
      "Train: [ 30473  30496  31002 ... 284804 284805 284806] Test: [    0     1     2 ... 57017 57018 57019]\n",
      "Train: [     0      1      2 ... 284804 284805 284806] Test: [ 30473  30496  31002 ... 113964 113965 113966]\n",
      "Train: [     0      1      2 ... 284804 284805 284806] Test: [ 81609  82400  83053 ... 170946 170947 170948]\n",
      "Train: [     0      1      2 ... 284804 284805 284806] Test: [150654 150660 150661 ... 227866 227867 227868]\n",
      "Train: [     0      1      2 ... 227866 227867 227868] Test: [212516 212644 213092 ... 284804 284805 284806]\n",
      "----------------------------------------------------------------------------------------------------\n",
      "Label Distributions: \n",
      "\n",
      "[0.99827076 0.00172924]\n",
      "[0.99827952 0.00172048]\n"
     ]
    }
   ],
   "source": [
    "X = df.drop('Class', axis=1)\n",
    "y = df['Class']\n",
    "\n",
    "sss = StratifiedKFold(n_splits=5, random_state=None, shuffle=False)\n",
    "\n",
    "for train_index, test_index in sss.split(X, y):\n",
    "    print(\"Train:\", train_index, \"Test:\", test_index)\n",
    "    original_Xtrain, original_Xtest = X.iloc[train_index], X.iloc[test_index]\n",
    "    original_ytrain, original_ytest = y.iloc[train_index], y.iloc[test_index]\n",
    "\n",
    "# We already have X_train and y_train for undersample data thats why I am using original to distinguish and to not overwrite these variables.\n",
    "# original_Xtrain, original_Xtest, original_ytrain, original_ytest = train_test_split(X, y, test_size=0.2, random_state=42)\n",
    "\n",
    "# Check the Distribution of the labels\n",
    "\n",
    "\n",
    "# Turn into an array\n",
    "original_Xtrain = original_Xtrain.values\n",
    "original_Xtest = original_Xtest.values\n",
    "original_ytrain = original_ytrain.values\n",
    "original_ytest = original_ytest.values\n",
    "\n",
    "# See if both the train and test label distribution are similarly distributed\n",
    "train_unique_label, train_counts_label = np.unique(original_ytrain, return_counts=True)\n",
    "test_unique_label, test_counts_label = np.unique(original_ytest, return_counts=True)\n",
    "print('-' * 100)\n",
    "\n",
    "print('Label Distributions: \\n')\n",
    "print(train_counts_label/ len(original_ytrain))\n",
    "print(test_counts_label/ len(original_ytest))"
   ]
  },
  {
   "cell_type": "markdown",
   "id": "0c013ab1",
   "metadata": {},
   "source": [
    "### Random Under-Sampling\n",
    "In this phase we will remove data to better balance the dataset and avoid overfitting by our model. For this we have to determine how imbalanced is our class and how many instances are considered fraud transactions. We want to have an equal number of fraud and non-fraud transactions in our dataset so for that to happen we can use the 492 fraud causes and randomnly choose another 492 non-fraud transactions to create a new balanced dataset. Lastly, we will shuffle the data to check if our models can maintain a certain accuracy everytime we run this script. Bringing 284,315 non-fraud causes to only 492 makes us lose a lot of data so there is a risk that our classification models will not perform as accurate as we would like to."
   ]
  },
  {
   "cell_type": "code",
   "execution_count": 4,
   "id": "ae94b083",
   "metadata": {},
   "outputs": [
    {
     "name": "stdout",
     "output_type": "stream",
     "text": [
      "Distribution of the Classes in the subsample dataset\n",
      "0    0.5\n",
      "1    0.5\n",
      "Name: Class, dtype: float64\n"
     ]
    },
    {
     "data": {
      "image/png": "[encoded data removed]",
      "text/plain": [
       "<Figure size 432x288 with 1 Axes>"
      ]
     },
     "metadata": {
      "needs_background": "light"
     },
     "output_type": "display_data"
    }
   ],
   "source": [
    "# Since our classes are highly skewed we should make them equivalent in order to have a normal distribution of the classes.\n",
    "\n",
    "# Lets shuffle the data before creating the subsamples\n",
    "\n",
    "df = df.sample(frac=1)\n",
    "\n",
    "# amount of fraud classes 492 rows.\n",
    "fraud_df = df.loc[df['Class'] == 1]\n",
    "non_fraud_df = df.loc[df['Class'] == 0][:492]\n",
    "\n",
    "normal_distributed_df = pd.concat([fraud_df, non_fraud_df])\n",
    "\n",
    "# Shuffle dataframe rows\n",
    "new_df = normal_distributed_df.sample(frac=1, random_state=42)\n",
    "\n",
    "new_df.head()\n",
    "\n",
    "print('Distribution of the Classes in the subsample dataset')\n",
    "print(new_df['Class'].value_counts()/len(new_df))\n",
    "\n",
    "\n",
    "\n",
    "sns.countplot(x='Class', data=new_df)\n",
    "plt.title('Equally Distributed Classes', fontsize=14)\n",
    "plt.show()"
   ]
  },
  {
   "cell_type": "markdown",
   "id": "39191923",
   "metadata": {},
   "source": [
    "## Correlation Matrices\n",
    "Correlation matrices are essential to understand our data. We want to learn if there are features that will heavily influence the decision if a transaction is or is not a fraud. For that, we need to use the subsample we generated above to understand which features have a high positive or negative correlation to fraud transactions."
   ]
  },
  {
   "cell_type": "code",
   "execution_count": 5,
   "id": "26f36324",
   "metadata": {},
   "outputs": [
    {
     "data": {
      "image/png": "[encoded data removed]",
      "text/plain": [
       "<Figure size 1728x1440 with 4 Axes>"
      ]
     },
     "metadata": {
      "needs_background": "light"
     },
     "output_type": "display_data"
    }
   ],
   "source": [
    "# Make sure we use the subsample in our correlation\n",
    "\n",
    "f, (ax1, ax2) = plt.subplots(2, 1, figsize=(24,20))\n",
    "\n",
    "# Entire DataFrame\n",
    "corr = df.corr()\n",
    "sns.heatmap(corr, cmap='coolwarm_r', annot_kws={'size':20}, ax=ax1)\n",
    "ax1.set_title(\"Imbalanced Correlation Matrix\", fontsize=14)\n",
    "\n",
    "\n",
    "sub_sample_corr = new_df.corr()\n",
    "sns.heatmap(sub_sample_corr, cmap='coolwarm_r', annot_kws={'size':20}, ax=ax2)\n",
    "ax2.set_title('SubSample Correlation Matrix', fontsize=14)\n",
    "plt.show()"
   ]
  },
  {
   "cell_type": "code",
   "execution_count": 6,
   "id": "2da4dcaa",
   "metadata": {},
   "outputs": [
    {
     "data": {
      "image/png": "[encoded data removed]",
      "text/plain": [
       "<Figure size 1440x288 with 4 Axes>"
      ]
     },
     "metadata": {
      "needs_background": "light"
     },
     "output_type": "display_data"
    }
   ],
   "source": [
    "f, axes = plt.subplots(ncols=4, figsize=(20,4))\n",
    "\n",
    "# Negative Correlations with our Class (The lower our feature value the more likely it will be a fraud transaction)\n",
    "sns.boxplot(x=\"Class\", y=\"V17\", data=new_df, ax=axes[0])\n",
    "axes[0].set_title('V17 vs Class Negative Correlation')\n",
    "\n",
    "sns.boxplot(x=\"Class\", y=\"V14\", data=new_df, ax=axes[1])\n",
    "axes[1].set_title('V14 vs Class Negative Correlation')\n",
    "\n",
    "\n",
    "sns.boxplot(x=\"Class\", y=\"V12\", data=new_df, ax=axes[2])\n",
    "axes[2].set_title('V12 vs Class Negative Correlation')\n",
    "\n",
    "\n",
    "sns.boxplot(x=\"Class\", y=\"V10\", data=new_df, ax=axes[3])\n",
    "axes[3].set_title('V10 vs Class Negative Correlation')\n",
    "\n",
    "plt.show()"
   ]
  },
  {
   "cell_type": "code",
   "execution_count": 7,
   "id": "3ce46514",
   "metadata": {},
   "outputs": [
    {
     "data": {
      "image/png": "[encoded data removed]",
      "text/plain": [
       "<Figure size 1440x288 with 4 Axes>"
      ]
     },
     "metadata": {
      "needs_background": "light"
     },
     "output_type": "display_data"
    }
   ],
   "source": [
    "f, axes = plt.subplots(ncols=4, figsize=(20,4))\n",
    "\n",
    "# Positive correlations (The higher the feature the probability increases that it will be a fraud transaction)\n",
    "sns.boxplot(x=\"Class\", y=\"V11\", data=new_df, ax=axes[0])\n",
    "axes[0].set_title('V11 vs Class Positive Correlation')\n",
    "\n",
    "sns.boxplot(x=\"Class\", y=\"V4\", data=new_df, ax=axes[1])\n",
    "axes[1].set_title('V4 vs Class Positive Correlation')\n",
    "\n",
    "\n",
    "sns.boxplot(x=\"Class\", y=\"V2\", data=new_df, ax=axes[2])\n",
    "axes[2].set_title('V2 vs Class Positive Correlation')\n",
    "\n",
    "\n",
    "sns.boxplot(x=\"Class\", y=\"V19\", data=new_df, ax=axes[3])\n",
    "axes[3].set_title('V19 vs Class Positive Correlation')\n",
    "\n",
    "plt.show()"
   ]
  },
  {
   "cell_type": "markdown",
   "id": "4d934fbf",
   "metadata": {},
   "source": [
    "### Anomaly Detection\n",
    "There can be some extreme outliers that have to be removed from features. This will positively impact the accuracy of our models.\n",
    "\n",
    "We will use the Interquartile Range Method: We calculate this with the difference between the 75th percentile and 25th percentile. Then we create a threshold beyond the 75th & 25th percentile that will remove outliers that pass this threshold.\n",
    "\n",
    "Since we want to focus on extreme outlier we have to be careful to how far do we want the threshold for removing these outliers."
   ]
  },
  {
   "cell_type": "code",
   "execution_count": 8,
   "id": "d8fd311f",
   "metadata": {
    "scrolled": true
   },
   "outputs": [
    {
     "name": "stderr",
     "output_type": "stream",
     "text": [
      "/home/vregal/.local/lib/python3.10/site-packages/seaborn/distributions.py:2619: FutureWarning: `distplot` is a deprecated function and will be removed in a future version. Please adapt your code to use either `displot` (a figure-level function with similar flexibility) or `histplot` (an axes-level function for histograms).\n",
      "  warnings.warn(msg, FutureWarning)\n",
      "/home/vregal/.local/lib/python3.10/site-packages/seaborn/distributions.py:2619: FutureWarning: `distplot` is a deprecated function and will be removed in a future version. Please adapt your code to use either `displot` (a figure-level function with similar flexibility) or `histplot` (an axes-level function for histograms).\n",
      "  warnings.warn(msg, FutureWarning)\n",
      "/home/vregal/.local/lib/python3.10/site-packages/seaborn/distributions.py:2619: FutureWarning: `distplot` is a deprecated function and will be removed in a future version. Please adapt your code to use either `displot` (a figure-level function with similar flexibility) or `histplot` (an axes-level function for histograms).\n",
      "  warnings.warn(msg, FutureWarning)\n"
     ]
    },
    {
     "data": {
      "image/png": "[encoded data removed]",
      "text/plain": [
       "<Figure size 1440x432 with 3 Axes>"
      ]
     },
     "metadata": {
      "needs_background": "light"
     },
     "output_type": "display_data"
    }
   ],
   "source": [
    "f, (ax1, ax2, ax3) = plt.subplots(1,3, figsize=(20, 6))\n",
    "\n",
    "v14_fraud_dist = new_df['V14'].loc[new_df['Class'] == 1].values\n",
    "sns.distplot(v14_fraud_dist,ax=ax1, fit=norm, color='#FB8861')\n",
    "ax1.set_title('V14 Distribution \\n (Fraud Transactions)', fontsize=14)\n",
    "\n",
    "v12_fraud_dist = new_df['V12'].loc[new_df['Class'] == 1].values\n",
    "sns.distplot(v12_fraud_dist,ax=ax2, fit=norm, color='#56F9BB')\n",
    "ax2.set_title('V12 Distribution \\n (Fraud Transactions)', fontsize=14)\n",
    "\n",
    "\n",
    "v10_fraud_dist = new_df['V10'].loc[new_df['Class'] == 1].values\n",
    "sns.distplot(v10_fraud_dist,ax=ax3, fit=norm, color='#C5B3F9')\n",
    "ax3.set_title('V10 Distribution \\n (Fraud Transactions)', fontsize=14)\n",
    "\n",
    "plt.show()"
   ]
  },
  {
   "cell_type": "code",
   "execution_count": 9,
   "id": "067ea25f",
   "metadata": {},
   "outputs": [
    {
     "name": "stdout",
     "output_type": "stream",
     "text": [
      "Quartile 25: -9.692722964972386 | Quartile 75: -4.282820849486865\n",
      "iqr: 5.409902115485521\n",
      "Cut Off: 8.114853173228282\n",
      "V14 Lower: -17.807576138200666\n",
      "V14 Upper: 3.8320323237414167\n",
      "Feature V14 Outliers for Fraud Cases: 4\n",
      "V10 outliers:[-18.8220867423816, -19.2143254902614, -18.0499976898594, -18.4937733551053]\n",
      "\n",
      "\n",
      "V12 Lower: -17.3430371579634\n",
      "V12 Upper: 5.776973384895937\n",
      "V12 outliers: [-18.4311310279993, -18.5536970096458, -18.6837146333443, -18.0475965708216]\n",
      "Feature V12 Outliers for Fraud Cases: 4\n",
      "Number of Instances after outliers removal: 975\n",
      "\n",
      "\n",
      "V10 Lower: -14.89885463232024\n",
      "V10 Upper: 4.92033495834214\n",
      "V10 outliers: [-16.6011969664137, -15.2399619587112, -19.836148851696, -18.9132433348732, -16.6496281595399, -16.7460441053944, -24.5882624372475, -15.1241628144947, -20.9491915543611, -15.5637913387301, -14.9246547735487, -23.2282548357516, -15.2318333653018, -17.1415136412892, -24.4031849699728, -15.5637913387301, -15.1237521803455, -22.1870885620007, -16.2556117491401, -22.1870885620007, -16.3035376590131, -15.2399619587112, -22.1870885620007, -18.2711681738888, -14.9246547735487, -15.3460988468775, -22.1870885620007]\n",
      "Feature V10 Outliers for Fraud Cases: 27\n",
      "Number of Instances after outliers removal: 947\n"
     ]
    }
   ],
   "source": [
    "# # -----> V14 Removing Outliers (Highest Negative Correlated with Labels)\n",
    "v14_fraud = new_df['V14'].loc[new_df['Class'] == 1].values\n",
    "q25, q75 = np.percentile(v14_fraud, 25), np.percentile(v14_fraud, 75)\n",
    "print('Quartile 25: {} | Quartile 75: {}'.format(q25, q75))\n",
    "v14_iqr = q75 - q25\n",
    "print('iqr: {}'.format(v14_iqr))\n",
    "\n",
    "v14_cut_off = v14_iqr * 1.5\n",
    "v14_lower, v14_upper = q25 - v14_cut_off, q75 + v14_cut_off\n",
    "print('Cut Off: {}'.format(v14_cut_off))\n",
    "print('V14 Lower: {}'.format(v14_lower))\n",
    "print('V14 Upper: {}'.format(v14_upper))\n",
    "\n",
    "outliers = [x for x in v14_fraud if x < v14_lower or x > v14_upper]\n",
    "print('Feature V14 Outliers for Fraud Cases: {}'.format(len(outliers)))\n",
    "print('V10 outliers:{}'.format(outliers))\n",
    "\n",
    "new_df = new_df.drop(new_df[(new_df['V14'] > v14_upper) | (new_df['V14'] < v14_lower)].index)\n",
    "print('\\n')\n",
    "\n",
    "# -----> V12 removing outliers from fraud transactions\n",
    "v12_fraud = new_df['V12'].loc[new_df['Class'] == 1].values\n",
    "q25, q75 = np.percentile(v12_fraud, 25), np.percentile(v12_fraud, 75)\n",
    "v12_iqr = q75 - q25\n",
    "\n",
    "v12_cut_off = v12_iqr * 1.5\n",
    "v12_lower, v12_upper = q25 - v12_cut_off, q75 + v12_cut_off\n",
    "print('V12 Lower: {}'.format(v12_lower))\n",
    "print('V12 Upper: {}'.format(v12_upper))\n",
    "outliers = [x for x in v12_fraud if x < v12_lower or x > v12_upper]\n",
    "print('V12 outliers: {}'.format(outliers))\n",
    "print('Feature V12 Outliers for Fraud Cases: {}'.format(len(outliers)))\n",
    "new_df = new_df.drop(new_df[(new_df['V12'] > v12_upper) | (new_df['V12'] < v12_lower)].index)\n",
    "print('Number of Instances after outliers removal: {}'.format(len(new_df)))\n",
    "print('\\n')\n",
    "\n",
    "\n",
    "# Removing outliers V10 Feature\n",
    "v10_fraud = new_df['V10'].loc[new_df['Class'] == 1].values\n",
    "q25, q75 = np.percentile(v10_fraud, 25), np.percentile(v10_fraud, 75)\n",
    "v10_iqr = q75 - q25\n",
    "\n",
    "v10_cut_off = v10_iqr * 1.5\n",
    "v10_lower, v10_upper = q25 - v10_cut_off, q75 + v10_cut_off\n",
    "print('V10 Lower: {}'.format(v10_lower))\n",
    "print('V10 Upper: {}'.format(v10_upper))\n",
    "outliers = [x for x in v10_fraud if x < v10_lower or x > v10_upper]\n",
    "print('V10 outliers: {}'.format(outliers))\n",
    "print('Feature V10 Outliers for Fraud Cases: {}'.format(len(outliers)))\n",
    "new_df = new_df.drop(new_df[(new_df['V10'] > v10_upper) | (new_df['V10'] < v10_lower)].index)\n",
    "print('Number of Instances after outliers removal: {}'.format(len(new_df)))"
   ]
  },
  {
   "cell_type": "markdown",
   "id": "0f1096ef",
   "metadata": {},
   "source": [
    "# Dataset analysis"
   ]
  },
  {
   "cell_type": "code",
   "execution_count": 10,
   "id": "dc8c731d",
   "metadata": {},
   "outputs": [
    {
     "name": "stdout",
     "output_type": "stream",
     "text": [
      "-----CREDIT CARD FRAUD DETECTION NORMALIZED DATASET-----\n",
      "\n",
      "-> Number of instances: 947\n",
      "\n",
      "-> Number of Features: 30\n",
      "\t - Time\n",
      "\t - V1\n",
      "\t - V2\n",
      "\t - V3\n",
      "\t - V4\n",
      "\t - V5\n",
      "\t - V6\n",
      "\t - V7\n",
      "\t - V8\n",
      "\t - V9\n",
      "\t - V10\n",
      "\t - V11\n",
      "\t - V12\n",
      "\t - V13\n",
      "\t - V14\n",
      "\t - V15\n",
      "\t - V16\n",
      "\t - V17\n",
      "\t - V18\n",
      "\t - V19\n",
      "\t - V20\n",
      "\t - V21\n",
      "\t - V22\n",
      "\t - V23\n",
      "\t - V24\n",
      "\t - V25\n",
      "\t - V26\n",
      "\t - V27\n",
      "\t - V28\n",
      "\t - Amount\n",
      "\n",
      "\tDue to privacy reasons, features have no description.\n",
      "\n",
      "-> Target label (Fraud or Non Fraud): Class\n"
     ]
    }
   ],
   "source": [
    "df = new_df\n",
    "\n",
    "print(\"-----CREDIT CARD FRAUD DETECTION NORMALIZED DATASET-----\\n\")\n",
    "print(f\"-> Number of instances: {len(df)}\\n\")\n",
    "\n",
    "features = df.columns[:-1]\n",
    "target = df.columns[-1]\n",
    "\n",
    "print(f\"-> Number of Features: {len(features)}\")\n",
    "\n",
    "for label in features:\n",
    "    print(f\"\\t - {label}\")\n",
    "\n",
    "print(\"\\n\\tDue to privacy reasons, features have no description.\\n\")\n",
    "print(f\"-> Target label (Fraud or Non Fraud): {target}\")"
   ]
  },
  {
   "cell_type": "code",
   "execution_count": 11,
   "id": "b4189f16",
   "metadata": {},
   "outputs": [
    {
     "name": "stdout",
     "output_type": "stream",
     "text": [
      "(947, 31)\n"
     ]
    }
   ],
   "source": [
    "print(df.shape)"
   ]
  },
  {
   "cell_type": "code",
   "execution_count": 12,
   "id": "f3c67190",
   "metadata": {
    "scrolled": true
   },
   "outputs": [
    {
     "name": "stdout",
     "output_type": "stream",
     "text": [
      "<bound method DataFrame.info of             Time        V1        V2         V3        V4        V5        V6  \\\n",
      "284373  172386.0 -1.152222 -2.967950   1.447248  2.045428  1.376408 -0.404361   \n",
      "123141   76826.0 -6.616293  3.563428  -7.058901  4.284346 -5.096299 -1.768618   \n",
      "183856  125981.0  0.278386  0.931510  -0.419376  2.158534  0.982213 -0.830993   \n",
      "149522   91407.0 -3.951209  2.881805  -6.421490  2.434181 -1.327325 -2.122106   \n",
      "154694  102622.0 -2.877176  4.569649  -9.553069  4.441079 -3.653961 -1.877981   \n",
      "...          ...       ...       ...        ...       ...       ...       ...   \n",
      "6899      8878.0 -2.661802  5.856393  -7.653616  6.379742 -0.060712 -3.131550   \n",
      "48094    43494.0 -1.278138  0.716242  -1.143279  0.217805 -1.293890 -1.168952   \n",
      "104780   69227.0  1.105025 -0.608257   0.993162 -0.520602 -1.070562  0.053009   \n",
      "150661   93853.0 -6.185857  7.102985 -13.030455  8.010823 -7.885237 -3.974550   \n",
      "153885  100501.0 -6.985267  5.151094  -4.599338  4.534479  0.849054 -0.210701   \n",
      "\n",
      "               V7        V8        V9  ...       V21       V22       V23  \\\n",
      "284373  -2.058035  0.503824  1.970252  ...  0.502764  1.063213  0.900125   \n",
      "123141  -4.937554  2.748460 -3.796760  ...  1.215976  0.041178 -1.059098   \n",
      "183856   0.875792 -0.402692 -0.682652  ...  0.247541  1.055532 -0.094932   \n",
      "149522  -3.227533 -0.685560  0.775985  ...  1.410479  0.279403  0.570821   \n",
      "154694  -3.514353  1.547608 -2.503304  ...  1.272896  1.300268 -0.003950   \n",
      "...           ...       ...       ...  ...       ...       ...       ...   \n",
      "6899    -3.103570  1.778492 -3.831154  ...  0.734775 -0.435901 -0.384766   \n",
      "48094   -2.564182  0.204532 -1.611155  ...  0.490183  0.470427 -0.126261   \n",
      "104780  -0.680934  0.100824  2.085660  ...  0.187584  1.048406 -0.240910   \n",
      "150661 -12.229608  4.971232 -4.248307  ...  2.502772  0.481691  0.480958   \n",
      "153885  -4.425230 -5.134525  0.069321  ...  5.453672 -2.056177 -0.280334   \n",
      "\n",
      "             V24       V25       V26       V27       V28  Amount  Class  \n",
      "284373  0.620340 -1.235530 -0.615231 -0.030770 -0.064758  110.90      0  \n",
      "123141  0.275662  0.057425 -0.265838 -0.514637  0.388590  254.76      1  \n",
      "183856  0.039536 -1.083236 -0.279740  0.260032  0.275509    1.00      0  \n",
      "149522  0.656271 -0.298601 -0.407571 -1.378703  1.379130   52.69      1  \n",
      "154694 -0.360848 -0.597526 -0.390901  0.592197 -0.241010  346.94      1  \n",
      "...          ...       ...       ...       ...       ...     ...    ...  \n",
      "6899   -0.286016  1.007934  0.413196  0.280284  0.303937    1.00      1  \n",
      "48094  -0.126644 -0.661908 -0.349793  0.454851  0.137843   24.90      1  \n",
      "104780  0.200656  0.770767 -0.382774  0.127695  0.035098   39.71      0  \n",
      "150661  0.360319 -0.293354 -0.199193 -0.203917  0.398927   44.90      1  \n",
      "153885  0.120771  0.569358  0.145971  0.300193  1.779364    0.76      1  \n",
      "\n",
      "[947 rows x 31 columns]>\n"
     ]
    }
   ],
   "source": [
    "print(df.info)"
   ]
  },
  {
   "cell_type": "code",
   "execution_count": 13,
   "id": "09991768",
   "metadata": {},
   "outputs": [
    {
     "data": {
      "text/html": [
       "<div>\n",
       "<style scoped>\n",
       "    .dataframe tbody tr th:only-of-type {\n",
       "        vertical-align: middle;\n",
       "    }\n",
       "\n",
       "    .dataframe tbody tr th {\n",
       "        vertical-align: top;\n",
       "    }\n",
       "\n",
       "    .dataframe thead th {\n",
       "        text-align: right;\n",
       "    }\n",
       "</style>\n",
       "<table border=\"1\" class=\"dataframe\">\n",
       "  <thead>\n",
       "    <tr style=\"text-align: right;\">\n",
       "      <th></th>\n",
       "      <th>Time</th>\n",
       "      <th>V1</th>\n",
       "      <th>V2</th>\n",
       "      <th>V3</th>\n",
       "      <th>V4</th>\n",
       "      <th>V5</th>\n",
       "      <th>V6</th>\n",
       "      <th>V7</th>\n",
       "      <th>V8</th>\n",
       "      <th>V9</th>\n",
       "      <th>...</th>\n",
       "      <th>V21</th>\n",
       "      <th>V22</th>\n",
       "      <th>V23</th>\n",
       "      <th>V24</th>\n",
       "      <th>V25</th>\n",
       "      <th>V26</th>\n",
       "      <th>V27</th>\n",
       "      <th>V28</th>\n",
       "      <th>Amount</th>\n",
       "      <th>Class</th>\n",
       "    </tr>\n",
       "  </thead>\n",
       "  <tbody>\n",
       "    <tr>\n",
       "      <th>count</th>\n",
       "      <td>947.000000</td>\n",
       "      <td>947.000000</td>\n",
       "      <td>947.000000</td>\n",
       "      <td>947.000000</td>\n",
       "      <td>947.000000</td>\n",
       "      <td>947.000000</td>\n",
       "      <td>947.000000</td>\n",
       "      <td>947.000000</td>\n",
       "      <td>947.000000</td>\n",
       "      <td>947.000000</td>\n",
       "      <td>...</td>\n",
       "      <td>947.000000</td>\n",
       "      <td>947.000000</td>\n",
       "      <td>947.000000</td>\n",
       "      <td>947.000000</td>\n",
       "      <td>947.000000</td>\n",
       "      <td>947.000000</td>\n",
       "      <td>947.000000</td>\n",
       "      <td>947.000000</td>\n",
       "      <td>947.000000</td>\n",
       "      <td>947.000000</td>\n",
       "    </tr>\n",
       "    <tr>\n",
       "      <th>mean</th>\n",
       "      <td>89905.960929</td>\n",
       "      <td>-1.858049</td>\n",
       "      <td>1.446950</td>\n",
       "      <td>-2.938585</td>\n",
       "      <td>2.034386</td>\n",
       "      <td>-1.210987</td>\n",
       "      <td>-0.656423</td>\n",
       "      <td>-2.128256</td>\n",
       "      <td>0.453688</td>\n",
       "      <td>-1.063886</td>\n",
       "      <td>...</td>\n",
       "      <td>0.507998</td>\n",
       "      <td>-0.031113</td>\n",
       "      <td>-0.051520</td>\n",
       "      <td>-0.052956</td>\n",
       "      <td>0.012699</td>\n",
       "      <td>0.027809</td>\n",
       "      <td>0.176058</td>\n",
       "      <td>0.053549</td>\n",
       "      <td>108.110180</td>\n",
       "      <td>0.482577</td>\n",
       "    </tr>\n",
       "    <tr>\n",
       "      <th>std</th>\n",
       "      <td>49529.703668</td>\n",
       "      <td>4.786839</td>\n",
       "      <td>3.181432</td>\n",
       "      <td>5.422788</td>\n",
       "      <td>2.963399</td>\n",
       "      <td>3.683571</td>\n",
       "      <td>1.708461</td>\n",
       "      <td>4.475099</td>\n",
       "      <td>4.252090</td>\n",
       "      <td>1.995868</td>\n",
       "      <td>...</td>\n",
       "      <td>2.405911</td>\n",
       "      <td>1.033128</td>\n",
       "      <td>1.121001</td>\n",
       "      <td>0.561392</td>\n",
       "      <td>0.676192</td>\n",
       "      <td>0.466909</td>\n",
       "      <td>0.717791</td>\n",
       "      <td>0.405891</td>\n",
       "      <td>232.194144</td>\n",
       "      <td>0.499960</td>\n",
       "    </tr>\n",
       "    <tr>\n",
       "      <th>min</th>\n",
       "      <td>406.000000</td>\n",
       "      <td>-30.552380</td>\n",
       "      <td>-9.296530</td>\n",
       "      <td>-31.103685</td>\n",
       "      <td>-3.006611</td>\n",
       "      <td>-22.105532</td>\n",
       "      <td>-6.406267</td>\n",
       "      <td>-21.922811</td>\n",
       "      <td>-37.353443</td>\n",
       "      <td>-9.283925</td>\n",
       "      <td>...</td>\n",
       "      <td>-6.389132</td>\n",
       "      <td>-8.887017</td>\n",
       "      <td>-19.254328</td>\n",
       "      <td>-2.155730</td>\n",
       "      <td>-4.781606</td>\n",
       "      <td>-1.152671</td>\n",
       "      <td>-3.932741</td>\n",
       "      <td>-1.869290</td>\n",
       "      <td>0.000000</td>\n",
       "      <td>0.000000</td>\n",
       "    </tr>\n",
       "    <tr>\n",
       "      <th>25%</th>\n",
       "      <td>46121.000000</td>\n",
       "      <td>-2.391370</td>\n",
       "      <td>-0.210624</td>\n",
       "      <td>-4.553347</td>\n",
       "      <td>-0.242638</td>\n",
       "      <td>-1.613409</td>\n",
       "      <td>-1.534919</td>\n",
       "      <td>-2.646767</td>\n",
       "      <td>-0.207918</td>\n",
       "      <td>-1.995771</td>\n",
       "      <td>...</td>\n",
       "      <td>-0.123632</td>\n",
       "      <td>-0.514434</td>\n",
       "      <td>-0.239116</td>\n",
       "      <td>-0.399267</td>\n",
       "      <td>-0.347852</td>\n",
       "      <td>-0.284008</td>\n",
       "      <td>-0.051294</td>\n",
       "      <td>-0.051684</td>\n",
       "      <td>1.980000</td>\n",
       "      <td>0.000000</td>\n",
       "    </tr>\n",
       "    <tr>\n",
       "      <th>50%</th>\n",
       "      <td>82661.000000</td>\n",
       "      <td>-0.613696</td>\n",
       "      <td>0.898474</td>\n",
       "      <td>-1.209607</td>\n",
       "      <td>1.228290</td>\n",
       "      <td>-0.402760</td>\n",
       "      <td>-0.662287</td>\n",
       "      <td>-0.575042</td>\n",
       "      <td>0.144059</td>\n",
       "      <td>-0.647019</td>\n",
       "      <td>...</td>\n",
       "      <td>0.158336</td>\n",
       "      <td>0.034758</td>\n",
       "      <td>-0.035808</td>\n",
       "      <td>0.003339</td>\n",
       "      <td>0.040871</td>\n",
       "      <td>-0.033355</td>\n",
       "      <td>0.060255</td>\n",
       "      <td>0.037612</td>\n",
       "      <td>19.730000</td>\n",
       "      <td>0.000000</td>\n",
       "    </tr>\n",
       "    <tr>\n",
       "      <th>75%</th>\n",
       "      <td>138918.000000</td>\n",
       "      <td>1.025311</td>\n",
       "      <td>2.503879</td>\n",
       "      <td>0.388663</td>\n",
       "      <td>3.907152</td>\n",
       "      <td>0.524010</td>\n",
       "      <td>0.068259</td>\n",
       "      <td>0.346368</td>\n",
       "      <td>0.832493</td>\n",
       "      <td>0.216434</td>\n",
       "      <td>...</td>\n",
       "      <td>0.636858</td>\n",
       "      <td>0.533711</td>\n",
       "      <td>0.190993</td>\n",
       "      <td>0.360319</td>\n",
       "      <td>0.390568</td>\n",
       "      <td>0.322238</td>\n",
       "      <td>0.456129</td>\n",
       "      <td>0.218856</td>\n",
       "      <td>99.990000</td>\n",
       "      <td>1.000000</td>\n",
       "    </tr>\n",
       "    <tr>\n",
       "      <th>max</th>\n",
       "      <td>172731.000000</td>\n",
       "      <td>2.369267</td>\n",
       "      <td>16.713389</td>\n",
       "      <td>3.080516</td>\n",
       "      <td>11.927512</td>\n",
       "      <td>11.095089</td>\n",
       "      <td>5.760059</td>\n",
       "      <td>5.802537</td>\n",
       "      <td>20.007208</td>\n",
       "      <td>4.730321</td>\n",
       "      <td>...</td>\n",
       "      <td>27.202839</td>\n",
       "      <td>2.941475</td>\n",
       "      <td>5.303607</td>\n",
       "      <td>1.236718</td>\n",
       "      <td>2.339487</td>\n",
       "      <td>2.745261</td>\n",
       "      <td>3.052358</td>\n",
       "      <td>3.522256</td>\n",
       "      <td>2125.870000</td>\n",
       "      <td>1.000000</td>\n",
       "    </tr>\n",
       "  </tbody>\n",
       "</table>\n",
       "<p>8 rows × 31 columns</p>\n",
       "</div>"
      ],
      "text/plain": [
       "                Time          V1          V2          V3          V4  \\\n",
       "count     947.000000  947.000000  947.000000  947.000000  947.000000   \n",
       "mean    89905.960929   -1.858049    1.446950   -2.938585    2.034386   \n",
       "std     49529.703668    4.786839    3.181432    5.422788    2.963399   \n",
       "min       406.000000  -30.552380   -9.296530  -31.103685   -3.006611   \n",
       "25%     46121.000000   -2.391370   -0.210624   -4.553347   -0.242638   \n",
       "50%     82661.000000   -0.613696    0.898474   -1.209607    1.228290   \n",
       "75%    138918.000000    1.025311    2.503879    0.388663    3.907152   \n",
       "max    172731.000000    2.369267   16.713389    3.080516   11.927512   \n",
       "\n",
       "               V5          V6          V7          V8          V9  ...  \\\n",
       "count  947.000000  947.000000  947.000000  947.000000  947.000000  ...   \n",
       "mean    -1.210987   -0.656423   -2.128256    0.453688   -1.063886  ...   \n",
       "std      3.683571    1.708461    4.475099    4.252090    1.995868  ...   \n",
       "min    -22.105532   -6.406267  -21.922811  -37.353443   -9.283925  ...   \n",
       "25%     -1.613409   -1.534919   -2.646767   -0.207918   -1.995771  ...   \n",
       "50%     -0.402760   -0.662287   -0.575042    0.144059   -0.647019  ...   \n",
       "75%      0.524010    0.068259    0.346368    0.832493    0.216434  ...   \n",
       "max     11.095089    5.760059    5.802537   20.007208    4.730321  ...   \n",
       "\n",
       "              V21         V22         V23         V24         V25         V26  \\\n",
       "count  947.000000  947.000000  947.000000  947.000000  947.000000  947.000000   \n",
       "mean     0.507998   -0.031113   -0.051520   -0.052956    0.012699    0.027809   \n",
       "std      2.405911    1.033128    1.121001    0.561392    0.676192    0.466909   \n",
       "min     -6.389132   -8.887017  -19.254328   -2.155730   -4.781606   -1.152671   \n",
       "25%     -0.123632   -0.514434   -0.239116   -0.399267   -0.347852   -0.284008   \n",
       "50%      0.158336    0.034758   -0.035808    0.003339    0.040871   -0.033355   \n",
       "75%      0.636858    0.533711    0.190993    0.360319    0.390568    0.322238   \n",
       "max     27.202839    2.941475    5.303607    1.236718    2.339487    2.745261   \n",
       "\n",
       "              V27         V28       Amount       Class  \n",
       "count  947.000000  947.000000   947.000000  947.000000  \n",
       "mean     0.176058    0.053549   108.110180    0.482577  \n",
       "std      0.717791    0.405891   232.194144    0.499960  \n",
       "min     -3.932741   -1.869290     0.000000    0.000000  \n",
       "25%     -0.051294   -0.051684     1.980000    0.000000  \n",
       "50%      0.060255    0.037612    19.730000    0.000000  \n",
       "75%      0.456129    0.218856    99.990000    1.000000  \n",
       "max      3.052358    3.522256  2125.870000    1.000000  \n",
       "\n",
       "[8 rows x 31 columns]"
      ]
     },
     "execution_count": 13,
     "metadata": {},
     "output_type": "execute_result"
    }
   ],
   "source": [
    "df.describe()"
   ]
  },
  {
   "cell_type": "markdown",
   "id": "3e5c0969",
   "metadata": {},
   "source": [
    "## Data normalization"
   ]
  },
  {
   "cell_type": "code",
   "execution_count": 14,
   "id": "07024a50",
   "metadata": {},
   "outputs": [],
   "source": [
    "def featureNormalization(X):\n",
    "    \"\"\"\n",
    "    Take in numpy array of X values and return normalize X values,\n",
    "    the mean and standard deviation of each feature\n",
    "    \"\"\"\n",
    "    mean= np.mean(X, axis=0)\n",
    "    std= np.std(X, axis=0)\n",
    "    \n",
    "    X_norm = (X - mean)/std\n",
    "    \n",
    "    return X_norm , mean , std"
   ]
  },
  {
   "cell_type": "code",
   "execution_count": 15,
   "id": "027ca25f",
   "metadata": {},
   "outputs": [],
   "source": [
    "X = df.drop(\"Class\", axis=1)\n",
    "y = df[\"Class\"]\n",
    "m, n = X.shape[0], X.shape[1]\n",
    "X = X.to_numpy()\n",
    "y = y.values\n",
    "\n",
    "# Normalize the data\n",
    "X, X_mean, X_std = featureNormalization(X)\n",
    "\n",
    "#After normalizing the features, add an extra column of 1's corresponding to x0 = 1.\n",
    "X = np.append(np.ones((m, 1)), X, axis=1)"
   ]
  },
  {
   "cell_type": "markdown",
   "id": "5f9a8121",
   "metadata": {},
   "source": [
    "### Splitting our dataset into training subset and testing subset"
   ]
  },
  {
   "cell_type": "code",
   "execution_count": 21,
   "id": "142b411e",
   "metadata": {},
   "outputs": [],
   "source": [
    "X_train, X_test, y_train, y_test = train_test_split(X, y, test_size=0.2, stratify=y, random_state=2)"
   ]
  },
  {
   "cell_type": "markdown",
   "id": "b7ac8f9a",
   "metadata": {},
   "source": [
    "# Models"
   ]
  },
  {
   "cell_type": "code",
   "execution_count": 28,
   "id": "b449ef2b",
   "metadata": {},
   "outputs": [],
   "source": [
    "# Some helper functions\n",
    "\n",
    "def train_and_analyze(model, X_train, y_train, X_test, y_test):\n",
    "    model.fit(X_train, y_train)\n",
    "    \n",
    "    print(f\"> Model: {model.__class__}\\n\")\n",
    "    \n",
    "    X_test_prediction = model.predict(X_test)\n",
    "    test_data_accuracy = accuracy_score(X_test_prediction, y_test)\n",
    "    f1 = f1_score(y_test, X_test_prediction)\n",
    "\n",
    "    print()\n",
    "    print(\"---- Model Analysis ----\")\n",
    "    print('Accuracy: ', test_data_accuracy)\n",
    "    print('F1 Score: ', f1)\n",
    "    \n",
    "    print()\n",
    "    \n",
    "    print(\"Confusion Matrix: \")\n",
    "    cm = confusion_matrix(y_test, model.predict(X_test))\n",
    "\n",
    "    fig, ax = plt.subplots(figsize=(8, 8))\n",
    "    ax.imshow(cm)\n",
    "    ax.grid(False)\n",
    "    ax.xaxis.set(ticks=(0, 1), ticklabels=('Predicted 0s', 'Predicted 1s'))\n",
    "    ax.yaxis.set(ticks=(0, 1), ticklabels=('Actual 0s', 'Actual 1s'))\n",
    "    ax.set_ylim(1.5, -0.5)\n",
    "    for i in range(2):\n",
    "        for j in range(2):\n",
    "            ax.text(j, i, cm[i, j], ha='center', va='center', color='red')\n",
    "    plt.show()\n",
    "    \n",
    "    print()\n",
    "    print(\"---- Classification Report ----\")\n",
    "    print(classification_report(y_test, model.predict(X_test)))\n",
    "    \n",
    "    \n",
    "def hyperparameters(model, params, X, y):\n",
    "    \"\"\"\n",
    "    Find hyperparameters for a model\n",
    "    \"\"\"\n",
    "    print(\"> Hyper Parameter Tuning\")\n",
    "    print(\"Finding Best Params for Model \", model.__class__)\n",
    "    model = GridSearchCV(model, params, scoring=\"accuracy\")\n",
    "    model.fit(X, y)\n",
    "    print(\" Best Params: \")\n",
    "    print(model.best_params_)\n",
    "    \n",
    "    return model.best_params_\n",
    "\n",
    "\n",
    "def kfold(model, k, X_train, y_train, X_test, y_test):\n",
    "    kf = KFold(n_splits=k, shuffle=True)\n",
    "    scores = cross_validate(model, X_train, y_train, scoring=\"accuracy\", cv=k, return_estimator=True)\n",
    "    return scores[\"estimator\"][np.argmax(scores[\"test_score\"])]\n"
   ]
  },
  {
   "cell_type": "markdown",
   "id": "677ae879",
   "metadata": {},
   "source": [
    "## Logistic Regression"
   ]
  },
  {
   "cell_type": "code",
   "execution_count": 37,
   "id": "490fba0a",
   "metadata": {
    "scrolled": false
   },
   "outputs": [
    {
     "name": "stdout",
     "output_type": "stream",
     "text": [
      "\n",
      "\n",
      "|-------------------------------------|\n",
      "|             Base Model              |\n",
      "|-------------------------------------|\n",
      "\n",
      "\n",
      "> Model: <class 'sklearn.linear_model._logistic.LogisticRegression'>\n",
      "\n",
      "\n",
      "---- Model Analysis ----\n",
      "Accuracy:  0.9210526315789473\n",
      "F1 Score:  0.9152542372881357\n",
      "\n",
      "Confusion Matrix: \n"
     ]
    },
    {
     "data": {
      "image/png": "[encoded data removed]",
      "text/plain": [
       "<Figure size 576x576 with 1 Axes>"
      ]
     },
     "metadata": {
      "needs_background": "light"
     },
     "output_type": "display_data"
    },
    {
     "name": "stdout",
     "output_type": "stream",
     "text": [
      "\n",
      "---- Classification Report ----\n",
      "              precision    recall  f1-score   support\n",
      "\n",
      "           0       0.90      0.96      0.93        98\n",
      "           1       0.95      0.88      0.92        92\n",
      "\n",
      "    accuracy                           0.92       190\n",
      "   macro avg       0.92      0.92      0.92       190\n",
      "weighted avg       0.92      0.92      0.92       190\n",
      "\n",
      "\n",
      "\n",
      "|-------------------------------------|\n",
      "|          Hypertuned Params          |\n",
      "|-------------------------------------|\n",
      "\n",
      "\n",
      "> Hyper Parameter Tuning\n",
      "Finding Best Params for Model  <class 'sklearn.linear_model._logistic.LogisticRegression'>\n",
      " Best Params: \n",
      "{'C': 1, 'class_weight': 'balanced', 'max_iter': 100, 'penalty': 'l2', 'solver': 'liblinear'}\n",
      "> Model: <class 'sklearn.linear_model._logistic.LogisticRegression'>\n",
      "\n",
      "\n",
      "---- Model Analysis ----\n",
      "Accuracy:  0.9210526315789473\n",
      "F1 Score:  0.9152542372881357\n",
      "\n",
      "Confusion Matrix: \n"
     ]
    },
    {
     "data": {
      "image/png": "[encoded data removed]",
      "text/plain": [
       "<Figure size 576x576 with 1 Axes>"
      ]
     },
     "metadata": {
      "needs_background": "light"
     },
     "output_type": "display_data"
    },
    {
     "name": "stdout",
     "output_type": "stream",
     "text": [
      "\n",
      "---- Classification Report ----\n",
      "              precision    recall  f1-score   support\n",
      "\n",
      "           0       0.90      0.96      0.93        98\n",
      "           1       0.95      0.88      0.92        92\n",
      "\n",
      "    accuracy                           0.92       190\n",
      "   macro avg       0.92      0.92      0.92       190\n",
      "weighted avg       0.92      0.92      0.92       190\n",
      "\n",
      "\n",
      "\n",
      "|-------------------------------------|\n",
      "|              K-Fold CV              |\n",
      "|-------------------------------------|\n",
      "\n",
      "\n",
      "> Model: <class 'sklearn.linear_model._logistic.LogisticRegression'>\n",
      "\n",
      "\n",
      "---- Model Analysis ----\n",
      "Accuracy:  0.9210526315789473\n",
      "F1 Score:  0.9152542372881357\n",
      "\n",
      "Confusion Matrix: \n"
     ]
    },
    {
     "data": {
      "image/png": "[encoded data removed]",
      "text/plain": [
       "<Figure size 576x576 with 1 Axes>"
      ]
     },
     "metadata": {
      "needs_background": "light"
     },
     "output_type": "display_data"
    },
    {
     "name": "stdout",
     "output_type": "stream",
     "text": [
      "\n",
      "---- Classification Report ----\n",
      "              precision    recall  f1-score   support\n",
      "\n",
      "           0       0.90      0.96      0.93        98\n",
      "           1       0.95      0.88      0.92        92\n",
      "\n",
      "    accuracy                           0.92       190\n",
      "   macro avg       0.92      0.92      0.92       190\n",
      "weighted avg       0.92      0.92      0.92       190\n",
      "\n"
     ]
    }
   ],
   "source": [
    "model = LogisticRegression()\n",
    "hypertuned_model = LogisticRegression()\n",
    "\n",
    "print()\n",
    "print(\"\"\"\n",
    "|-------------------------------------|\n",
    "|             Base Model              |\n",
    "|-------------------------------------|\n",
    "\"\"\")\n",
    "print()\n",
    "train_and_analyze(model, X_train, y_train, X_test, y_test)\n",
    "\n",
    "\n",
    "print()\n",
    "print(\"\"\"\n",
    "|-------------------------------------|\n",
    "|          Hypertuned Params          |\n",
    "|-------------------------------------|\n",
    "\"\"\")\n",
    "print()\n",
    "# Hypertuned logreg\n",
    "logreg_params = [{'solver': ['liblinear'], 'max_iter': [100, 400, 800],\n",
    "                         'C': [0.1, 1, 10, 100, 1000], 'class_weight': ['balanced'],\n",
    "                         'penalty': ['l1', 'l2']}]\n",
    "best_logreg_params = hyperparameters(LogisticRegression(), logreg_params , X_train, y_train)\n",
    "\n",
    "hypertuned_model.set_params(**best_logreg_params)\n",
    "train_and_analyze(hypertuned_model, X_train, y_train, X_test, y_test)\n",
    "\n",
    "\n",
    "print()\n",
    "print(\"\"\"\n",
    "|-------------------------------------|\n",
    "|              K-Fold CV              |\n",
    "|-------------------------------------|\n",
    "\"\"\")\n",
    "print()\n",
    "\n",
    "kfmodel = kfold(hypertuned_model, 5, X_train, y_train, X_test, y_test)\n",
    "train_and_analyze(kfmodel, X_train, y_train, X_test, y_test)"
   ]
  },
  {
   "cell_type": "markdown",
   "id": "eef20f7b",
   "metadata": {},
   "source": [
    "## SVM"
   ]
  },
  {
   "cell_type": "code",
   "execution_count": 38,
   "id": "1b41ebfd",
   "metadata": {
    "scrolled": false
   },
   "outputs": [
    {
     "name": "stdout",
     "output_type": "stream",
     "text": [
      "\n",
      "\n",
      "|-------------------------------------|\n",
      "|             Base Model              |\n",
      "|-------------------------------------|\n",
      "\n",
      "\n",
      "> Model: <class 'sklearn.svm._classes.SVC'>\n",
      "\n",
      "\n",
      "---- Model Analysis ----\n",
      "Accuracy:  0.9315789473684211\n",
      "F1 Score:  0.9257142857142858\n",
      "\n",
      "Confusion Matrix: \n"
     ]
    },
    {
     "data": {
      "image/png": "[encoded data removed]",
      "text/plain": [
       "<Figure size 576x576 with 1 Axes>"
      ]
     },
     "metadata": {
      "needs_background": "light"
     },
     "output_type": "display_data"
    },
    {
     "name": "stdout",
     "output_type": "stream",
     "text": [
      "\n",
      "---- Classification Report ----\n",
      "              precision    recall  f1-score   support\n",
      "\n",
      "           0       0.90      0.98      0.94        98\n",
      "           1       0.98      0.88      0.93        92\n",
      "\n",
      "    accuracy                           0.93       190\n",
      "   macro avg       0.94      0.93      0.93       190\n",
      "weighted avg       0.94      0.93      0.93       190\n",
      "\n",
      "> Hyper Parameter Tuning\n",
      "Finding Best Params for Model  <class 'sklearn.svm._classes.SVC'>\n",
      " Best Params: \n",
      "{'C': 10, 'gamma': 0.01, 'kernel': 'rbf'}\n",
      "\n",
      "\n",
      "|-------------------------------------|\n",
      "|          Hypertuned Params          |\n",
      "|-------------------------------------|\n",
      "\n",
      "\n",
      "> Model: <class 'sklearn.svm._classes.SVC'>\n",
      "\n",
      "\n",
      "---- Model Analysis ----\n",
      "Accuracy:  0.9210526315789473\n",
      "F1 Score:  0.9142857142857143\n",
      "\n",
      "Confusion Matrix: \n"
     ]
    },
    {
     "data": {
      "image/png": "[encoded data removed]",
      "text/plain": [
       "<Figure size 576x576 with 1 Axes>"
      ]
     },
     "metadata": {
      "needs_background": "light"
     },
     "output_type": "display_data"
    },
    {
     "name": "stdout",
     "output_type": "stream",
     "text": [
      "\n",
      "---- Classification Report ----\n",
      "              precision    recall  f1-score   support\n",
      "\n",
      "           0       0.89      0.97      0.93        98\n",
      "           1       0.96      0.87      0.91        92\n",
      "\n",
      "    accuracy                           0.92       190\n",
      "   macro avg       0.93      0.92      0.92       190\n",
      "weighted avg       0.92      0.92      0.92       190\n",
      "\n",
      "\n",
      "\n",
      "|-------------------------------------|\n",
      "|              K-Fold CV              |\n",
      "|-------------------------------------|\n",
      "\n",
      "\n",
      "> Model: <class 'sklearn.svm._classes.SVC'>\n",
      "\n",
      "\n",
      "---- Model Analysis ----\n",
      "Accuracy:  0.9210526315789473\n",
      "F1 Score:  0.9142857142857143\n",
      "\n",
      "Confusion Matrix: \n"
     ]
    },
    {
     "data": {
      "image/png": "[encoded data removed]",
      "text/plain": [
       "<Figure size 576x576 with 1 Axes>"
      ]
     },
     "metadata": {
      "needs_background": "light"
     },
     "output_type": "display_data"
    },
    {
     "name": "stdout",
     "output_type": "stream",
     "text": [
      "\n",
      "---- Classification Report ----\n",
      "              precision    recall  f1-score   support\n",
      "\n",
      "           0       0.89      0.97      0.93        98\n",
      "           1       0.96      0.87      0.91        92\n",
      "\n",
      "    accuracy                           0.92       190\n",
      "   macro avg       0.93      0.92      0.92       190\n",
      "weighted avg       0.92      0.92      0.92       190\n",
      "\n"
     ]
    }
   ],
   "source": [
    "model = SVC()\n",
    "hypertuned_model = SVC()\n",
    "\n",
    "print()\n",
    "print(\"\"\"\n",
    "|-------------------------------------|\n",
    "|             Base Model              |\n",
    "|-------------------------------------|\n",
    "\"\"\")\n",
    "print()\n",
    "train_and_analyze(model, X_train, Y_train, X_test, y_test)\n",
    "\n",
    "svm_parameters = [{'C': [0.01, 0.1, 1, 10, 50, 100, 1000], \n",
    "              'gamma': [0.001, 0.01, 0.03, 0.1, 0.3, 1],\n",
    "              'kernel': ['rbf']}]\n",
    "best_svm_params = hyperparameters(SVC(), svm_parameters , X_train, y_train)\n",
    "\n",
    "print()\n",
    "print(\"\"\"\n",
    "|-------------------------------------|\n",
    "|          Hypertuned Params          |\n",
    "|-------------------------------------|\n",
    "\"\"\")\n",
    "print()\n",
    "hypertuned_model.set_params(**best_svm_params)\n",
    "train_and_analyze(hypertuned_model, X_train, y_train, X_test, y_test)\n",
    "\n",
    "print()\n",
    "print(\"\"\"\n",
    "|-------------------------------------|\n",
    "|              K-Fold CV              |\n",
    "|-------------------------------------|\n",
    "\"\"\")\n",
    "print()\n",
    "\n",
    "kfmodel = kfold(hypertuned_model, 5, X_train, y_train, X_test, y_test)\n",
    "train_and_analyze(kfmodel, X_train, y_train, X_test, y_test)"
   ]
  },
  {
   "cell_type": "markdown",
   "id": "6a73e812",
   "metadata": {},
   "source": [
    "## Gaussian NB"
   ]
  },
  {
   "cell_type": "code",
   "execution_count": 39,
   "id": "2d65e01e",
   "metadata": {
    "scrolled": false
   },
   "outputs": [
    {
     "name": "stdout",
     "output_type": "stream",
     "text": [
      "\n",
      "\n",
      "|-------------------------------------|\n",
      "|             Base Model              |\n",
      "|-------------------------------------|\n",
      "\n",
      "\n",
      "> Model: <class 'sklearn.naive_bayes.GaussianNB'>\n",
      "\n",
      "\n",
      "---- Model Analysis ----\n",
      "Accuracy:  0.8947368421052632\n",
      "F1 Score:  0.8837209302325583\n",
      "\n",
      "Confusion Matrix: \n"
     ]
    },
    {
     "data": {
      "image/png": "[encoded data removed]",
      "text/plain": [
       "<Figure size 576x576 with 1 Axes>"
      ]
     },
     "metadata": {
      "needs_background": "light"
     },
     "output_type": "display_data"
    },
    {
     "name": "stdout",
     "output_type": "stream",
     "text": [
      "\n",
      "---- Classification Report ----\n",
      "              precision    recall  f1-score   support\n",
      "\n",
      "           0       0.85      0.96      0.90        98\n",
      "           1       0.95      0.83      0.88        92\n",
      "\n",
      "    accuracy                           0.89       190\n",
      "   macro avg       0.90      0.89      0.89       190\n",
      "weighted avg       0.90      0.89      0.89       190\n",
      "\n",
      "> Hyper Parameter Tuning\n",
      "Finding Best Params for Model  <class 'sklearn.naive_bayes.GaussianNB'>\n",
      " Best Params: \n",
      "{'var_smoothing': 1e-09}\n",
      "\n",
      "\n",
      "|-------------------------------------|\n",
      "|          Hypertuned Params          |\n",
      "|-------------------------------------|\n",
      "\n",
      "\n",
      "> Model: <class 'sklearn.naive_bayes.GaussianNB'>\n",
      "\n",
      "\n",
      "---- Model Analysis ----\n",
      "Accuracy:  0.8947368421052632\n",
      "F1 Score:  0.8837209302325583\n",
      "\n",
      "Confusion Matrix: \n"
     ]
    },
    {
     "data": {
      "image/png": "[encoded data removed]",
      "text/plain": [
       "<Figure size 576x576 with 1 Axes>"
      ]
     },
     "metadata": {
      "needs_background": "light"
     },
     "output_type": "display_data"
    },
    {
     "name": "stdout",
     "output_type": "stream",
     "text": [
      "\n",
      "---- Classification Report ----\n",
      "              precision    recall  f1-score   support\n",
      "\n",
      "           0       0.85      0.96      0.90        98\n",
      "           1       0.95      0.83      0.88        92\n",
      "\n",
      "    accuracy                           0.89       190\n",
      "   macro avg       0.90      0.89      0.89       190\n",
      "weighted avg       0.90      0.89      0.89       190\n",
      "\n",
      "\n",
      "\n",
      "|-------------------------------------|\n",
      "|              K-Fold CV              |\n",
      "|-------------------------------------|\n",
      "\n",
      "\n",
      "> Model: <class 'sklearn.naive_bayes.GaussianNB'>\n",
      "\n",
      "\n",
      "---- Model Analysis ----\n",
      "Accuracy:  0.8947368421052632\n",
      "F1 Score:  0.8837209302325583\n",
      "\n",
      "Confusion Matrix: \n"
     ]
    },
    {
     "data": {
      "image/png": "[encoded data removed]",
      "text/plain": [
       "<Figure size 576x576 with 1 Axes>"
      ]
     },
     "metadata": {
      "needs_background": "light"
     },
     "output_type": "display_data"
    },
    {
     "name": "stdout",
     "output_type": "stream",
     "text": [
      "\n",
      "---- Classification Report ----\n",
      "              precision    recall  f1-score   support\n",
      "\n",
      "           0       0.85      0.96      0.90        98\n",
      "           1       0.95      0.83      0.88        92\n",
      "\n",
      "    accuracy                           0.89       190\n",
      "   macro avg       0.90      0.89      0.89       190\n",
      "weighted avg       0.90      0.89      0.89       190\n",
      "\n"
     ]
    }
   ],
   "source": [
    "model = GaussianNB()\n",
    "hypertuned_model = GaussianNB()\n",
    "\n",
    "print()\n",
    "print(\"\"\"\n",
    "|-------------------------------------|\n",
    "|             Base Model              |\n",
    "|-------------------------------------|\n",
    "\"\"\")\n",
    "print()\n",
    "train_and_analyze(model, X_train, y_train, X_test, y_test)\n",
    "\n",
    "g_nb_parameters = [{'var_smoothing': [1e-09, 1e-05, 1e-02, 1]}]\n",
    "best_g_nb_params = hyperparameters(GaussianNB(), g_nb_parameters , X_train, Y_train)\n",
    "\n",
    "print()\n",
    "print(\"\"\"\n",
    "|-------------------------------------|\n",
    "|          Hypertuned Params          |\n",
    "|-------------------------------------|\n",
    "\"\"\")\n",
    "print()\n",
    "hypertuned_model.set_params(**best_g_nb_params)\n",
    "train_and_analyze(hypertuned_model, X_train, y_train, X_test, y_test)\n",
    "\n",
    "print()\n",
    "print(\"\"\"\n",
    "|-------------------------------------|\n",
    "|              K-Fold CV              |\n",
    "|-------------------------------------|\n",
    "\"\"\")\n",
    "print()\n",
    "\n",
    "kfmodel = kfold(hypertuned_model, 5, X_train, y_train, X_test, y_test)\n",
    "train_and_analyze(kfmodel, X_train, y_train, X_test, y_test)"
   ]
  },
  {
   "cell_type": "markdown",
   "id": "510e28f2",
   "metadata": {},
   "source": [
    "## Neural Network"
   ]
  },
  {
   "cell_type": "code",
   "execution_count": 40,
   "id": "4a5f4b46",
   "metadata": {
    "scrolled": false
   },
   "outputs": [
    {
     "name": "stdout",
     "output_type": "stream",
     "text": [
      "\n",
      "\n",
      "|-------------------------------------|\n",
      "|             Base Model              |\n",
      "|-------------------------------------|\n",
      "\n",
      "\n",
      "> Model: <class 'sklearn.neural_network._multilayer_perceptron.MLPClassifier'>\n",
      "\n",
      "\n",
      "---- Model Analysis ----\n",
      "Accuracy:  0.9\n",
      "F1 Score:  0.8950276243093923\n",
      "\n",
      "Confusion Matrix: \n"
     ]
    },
    {
     "data": {
      "image/png": "[encoded data removed]",
      "text/plain": [
       "<Figure size 576x576 with 1 Axes>"
      ]
     },
     "metadata": {
      "needs_background": "light"
     },
     "output_type": "display_data"
    },
    {
     "name": "stdout",
     "output_type": "stream",
     "text": [
      "\n",
      "---- Classification Report ----\n",
      "              precision    recall  f1-score   support\n",
      "\n",
      "           0       0.89      0.92      0.90        98\n",
      "           1       0.91      0.88      0.90        92\n",
      "\n",
      "    accuracy                           0.90       190\n",
      "   macro avg       0.90      0.90      0.90       190\n",
      "weighted avg       0.90      0.90      0.90       190\n",
      "\n",
      "> Hyper Parameter Tuning\n",
      "Finding Best Params for Model  <class 'sklearn.neural_network._multilayer_perceptron.MLPClassifier'>\n",
      " Best Params: \n",
      "{'activation': 'relu', 'alpha': 0.0001, 'hidden_layer_sizes': (12, 12), 'learning_rate': 'invscaling', 'learning_rate_init': 0.001, 'max_iter': 1000, 'solver': 'adam'}\n",
      "\n",
      "\n",
      "|-------------------------------------|\n",
      "|          Hypertuned Params          |\n",
      "|-------------------------------------|\n",
      "\n",
      "\n",
      "> Model: <class 'sklearn.neural_network._multilayer_perceptron.MLPClassifier'>\n",
      "\n",
      "\n",
      "---- Model Analysis ----\n",
      "Accuracy:  0.9052631578947369\n",
      "F1 Score:  0.9010989010989011\n",
      "\n",
      "Confusion Matrix: \n"
     ]
    },
    {
     "data": {
      "image/png": "[encoded data removed]",
      "text/plain": [
       "<Figure size 576x576 with 1 Axes>"
      ]
     },
     "metadata": {
      "needs_background": "light"
     },
     "output_type": "display_data"
    },
    {
     "name": "stdout",
     "output_type": "stream",
     "text": [
      "\n",
      "---- Classification Report ----\n",
      "              precision    recall  f1-score   support\n",
      "\n",
      "           0       0.90      0.92      0.91        98\n",
      "           1       0.91      0.89      0.90        92\n",
      "\n",
      "    accuracy                           0.91       190\n",
      "   macro avg       0.91      0.90      0.91       190\n",
      "weighted avg       0.91      0.91      0.91       190\n",
      "\n",
      "\n",
      "\n",
      "|-------------------------------------|\n",
      "|              K-Fold CV              |\n",
      "|-------------------------------------|\n",
      "\n",
      "\n",
      "> Model: <class 'sklearn.neural_network._multilayer_perceptron.MLPClassifier'>\n",
      "\n",
      "\n",
      "---- Model Analysis ----\n",
      "Accuracy:  0.9105263157894737\n",
      "F1 Score:  0.9060773480662982\n",
      "\n",
      "Confusion Matrix: \n"
     ]
    },
    {
     "data": {
      "image/png": "[encoded data removed]",
      "text/plain": [
       "<Figure size 576x576 with 1 Axes>"
      ]
     },
     "metadata": {
      "needs_background": "light"
     },
     "output_type": "display_data"
    },
    {
     "name": "stdout",
     "output_type": "stream",
     "text": [
      "\n",
      "---- Classification Report ----\n",
      "              precision    recall  f1-score   support\n",
      "\n",
      "           0       0.90      0.93      0.91        98\n",
      "           1       0.92      0.89      0.91        92\n",
      "\n",
      "    accuracy                           0.91       190\n",
      "   macro avg       0.91      0.91      0.91       190\n",
      "weighted avg       0.91      0.91      0.91       190\n",
      "\n"
     ]
    }
   ],
   "source": [
    "model = MLPClassifier( max_iter=800)\n",
    "hypertuned_model = MLPClassifier()\n",
    "\n",
    "print()\n",
    "print(\"\"\"\n",
    "|-------------------------------------|\n",
    "|             Base Model              |\n",
    "|-------------------------------------|\n",
    "\"\"\")\n",
    "print()\n",
    "train_and_analyze(model, X_train, y_train, X_test, y_test)\n",
    "\n",
    "nn_parameters = [{'solver': ['adam'], 'max_iter': [1000],\n",
    "                     'hidden_layer_sizes': [(12,12), (12,12,12)], 'activation': ['tanh', 'relu'],\n",
    "                     'alpha': [1e-3,1e-4], 'learning_rate': ['constant', 'invscaling'], \n",
    "                     'learning_rate_init': [0.001, 0.01]}]\n",
    "\n",
    "best_nn_params = hyperparameters(MLPClassifier(), nn_parameters , X_train, Y_train)\n",
    "\n",
    "print()\n",
    "print(\"\"\"\n",
    "|-------------------------------------|\n",
    "|          Hypertuned Params          |\n",
    "|-------------------------------------|\n",
    "\"\"\")\n",
    "print()\n",
    "hypertuned_model.set_params(**best_nn_params)\n",
    "train_and_analyze(hypertuned_model, X_train, y_train, X_test, y_test)\n",
    "\n",
    "\n",
    "print()\n",
    "print(\"\"\"\n",
    "|-------------------------------------|\n",
    "|              K-Fold CV              |\n",
    "|-------------------------------------|\n",
    "\"\"\")\n",
    "print()\n",
    "\n",
    "kfmodel = kfold(hypertuned_model, 5, X_train, y_train, X_test, y_test)\n",
    "train_and_analyze(kfmodel, X_train, y_train, X_test, y_test)"
   ]
  },
  {
   "cell_type": "code",
   "execution_count": null,
   "id": "7596ee80",
   "metadata": {},
   "outputs": [],
   "source": []
  }
 ],
 "metadata": {
  "kernelspec": {
   "display_name": "Python 3 (ipykernel)",
   "language": "python",
   "name": "python3"
  },
  "language_info": {
   "codemirror_mode": {
    "name": "ipython",
    "version": 3
   },
   "file_extension": ".py",
   "mimetype": "text/x-python",
   "name": "python",
   "nbconvert_exporter": "python",
   "pygments_lexer": "ipython3",
   "version": "3.10.4"
  }
 },
 "nbformat": 4,
 "nbformat_minor": 5
}
