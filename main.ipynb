{
 "cells": [
  {
   "cell_type": "markdown",
   "id": "62b4ab75",
   "metadata": {},
   "source": [
    "## Dependencies and data import"
   ]
  },
  {
   "cell_type": "code",
   "execution_count": 1,
   "id": "13ba003b",
   "metadata": {},
   "outputs": [
    {
     "data": {
      "text/html": [
       "<div>\n",
       "<style scoped>\n",
       "    .dataframe tbody tr th:only-of-type {\n",
       "        vertical-align: middle;\n",
       "    }\n",
       "\n",
       "    .dataframe tbody tr th {\n",
       "        vertical-align: top;\n",
       "    }\n",
       "\n",
       "    .dataframe thead th {\n",
       "        text-align: right;\n",
       "    }\n",
       "</style>\n",
       "<table border=\"1\" class=\"dataframe\">\n",
       "  <thead>\n",
       "    <tr style=\"text-align: right;\">\n",
       "      <th></th>\n",
       "      <th>Time</th>\n",
       "      <th>V1</th>\n",
       "      <th>V2</th>\n",
       "      <th>V3</th>\n",
       "      <th>V4</th>\n",
       "      <th>V5</th>\n",
       "      <th>V6</th>\n",
       "      <th>V7</th>\n",
       "      <th>V8</th>\n",
       "      <th>V9</th>\n",
       "      <th>...</th>\n",
       "      <th>V21</th>\n",
       "      <th>V22</th>\n",
       "      <th>V23</th>\n",
       "      <th>V24</th>\n",
       "      <th>V25</th>\n",
       "      <th>V26</th>\n",
       "      <th>V27</th>\n",
       "      <th>V28</th>\n",
       "      <th>Amount</th>\n",
       "      <th>Class</th>\n",
       "    </tr>\n",
       "  </thead>\n",
       "  <tbody>\n",
       "    <tr>\n",
       "      <th>0</th>\n",
       "      <td>0.0</td>\n",
       "      <td>-1.359807</td>\n",
       "      <td>-0.072781</td>\n",
       "      <td>2.536347</td>\n",
       "      <td>1.378155</td>\n",
       "      <td>-0.338321</td>\n",
       "      <td>0.462388</td>\n",
       "      <td>0.239599</td>\n",
       "      <td>0.098698</td>\n",
       "      <td>0.363787</td>\n",
       "      <td>...</td>\n",
       "      <td>-0.018307</td>\n",
       "      <td>0.277838</td>\n",
       "      <td>-0.110474</td>\n",
       "      <td>0.066928</td>\n",
       "      <td>0.128539</td>\n",
       "      <td>-0.189115</td>\n",
       "      <td>0.133558</td>\n",
       "      <td>-0.021053</td>\n",
       "      <td>149.62</td>\n",
       "      <td>0</td>\n",
       "    </tr>\n",
       "    <tr>\n",
       "      <th>1</th>\n",
       "      <td>0.0</td>\n",
       "      <td>1.191857</td>\n",
       "      <td>0.266151</td>\n",
       "      <td>0.166480</td>\n",
       "      <td>0.448154</td>\n",
       "      <td>0.060018</td>\n",
       "      <td>-0.082361</td>\n",
       "      <td>-0.078803</td>\n",
       "      <td>0.085102</td>\n",
       "      <td>-0.255425</td>\n",
       "      <td>...</td>\n",
       "      <td>-0.225775</td>\n",
       "      <td>-0.638672</td>\n",
       "      <td>0.101288</td>\n",
       "      <td>-0.339846</td>\n",
       "      <td>0.167170</td>\n",
       "      <td>0.125895</td>\n",
       "      <td>-0.008983</td>\n",
       "      <td>0.014724</td>\n",
       "      <td>2.69</td>\n",
       "      <td>0</td>\n",
       "    </tr>\n",
       "    <tr>\n",
       "      <th>2</th>\n",
       "      <td>1.0</td>\n",
       "      <td>-1.358354</td>\n",
       "      <td>-1.340163</td>\n",
       "      <td>1.773209</td>\n",
       "      <td>0.379780</td>\n",
       "      <td>-0.503198</td>\n",
       "      <td>1.800499</td>\n",
       "      <td>0.791461</td>\n",
       "      <td>0.247676</td>\n",
       "      <td>-1.514654</td>\n",
       "      <td>...</td>\n",
       "      <td>0.247998</td>\n",
       "      <td>0.771679</td>\n",
       "      <td>0.909412</td>\n",
       "      <td>-0.689281</td>\n",
       "      <td>-0.327642</td>\n",
       "      <td>-0.139097</td>\n",
       "      <td>-0.055353</td>\n",
       "      <td>-0.059752</td>\n",
       "      <td>378.66</td>\n",
       "      <td>0</td>\n",
       "    </tr>\n",
       "    <tr>\n",
       "      <th>3</th>\n",
       "      <td>1.0</td>\n",
       "      <td>-0.966272</td>\n",
       "      <td>-0.185226</td>\n",
       "      <td>1.792993</td>\n",
       "      <td>-0.863291</td>\n",
       "      <td>-0.010309</td>\n",
       "      <td>1.247203</td>\n",
       "      <td>0.237609</td>\n",
       "      <td>0.377436</td>\n",
       "      <td>-1.387024</td>\n",
       "      <td>...</td>\n",
       "      <td>-0.108300</td>\n",
       "      <td>0.005274</td>\n",
       "      <td>-0.190321</td>\n",
       "      <td>-1.175575</td>\n",
       "      <td>0.647376</td>\n",
       "      <td>-0.221929</td>\n",
       "      <td>0.062723</td>\n",
       "      <td>0.061458</td>\n",
       "      <td>123.50</td>\n",
       "      <td>0</td>\n",
       "    </tr>\n",
       "    <tr>\n",
       "      <th>4</th>\n",
       "      <td>2.0</td>\n",
       "      <td>-1.158233</td>\n",
       "      <td>0.877737</td>\n",
       "      <td>1.548718</td>\n",
       "      <td>0.403034</td>\n",
       "      <td>-0.407193</td>\n",
       "      <td>0.095921</td>\n",
       "      <td>0.592941</td>\n",
       "      <td>-0.270533</td>\n",
       "      <td>0.817739</td>\n",
       "      <td>...</td>\n",
       "      <td>-0.009431</td>\n",
       "      <td>0.798278</td>\n",
       "      <td>-0.137458</td>\n",
       "      <td>0.141267</td>\n",
       "      <td>-0.206010</td>\n",
       "      <td>0.502292</td>\n",
       "      <td>0.219422</td>\n",
       "      <td>0.215153</td>\n",
       "      <td>69.99</td>\n",
       "      <td>0</td>\n",
       "    </tr>\n",
       "  </tbody>\n",
       "</table>\n",
       "<p>5 rows × 31 columns</p>\n",
       "</div>"
      ],
      "text/plain": [
       "   Time        V1        V2        V3        V4        V5        V6        V7  \\\n",
       "0   0.0 -1.359807 -0.072781  2.536347  1.378155 -0.338321  0.462388  0.239599   \n",
       "1   0.0  1.191857  0.266151  0.166480  0.448154  0.060018 -0.082361 -0.078803   \n",
       "2   1.0 -1.358354 -1.340163  1.773209  0.379780 -0.503198  1.800499  0.791461   \n",
       "3   1.0 -0.966272 -0.185226  1.792993 -0.863291 -0.010309  1.247203  0.237609   \n",
       "4   2.0 -1.158233  0.877737  1.548718  0.403034 -0.407193  0.095921  0.592941   \n",
       "\n",
       "         V8        V9  ...       V21       V22       V23       V24       V25  \\\n",
       "0  0.098698  0.363787  ... -0.018307  0.277838 -0.110474  0.066928  0.128539   \n",
       "1  0.085102 -0.255425  ... -0.225775 -0.638672  0.101288 -0.339846  0.167170   \n",
       "2  0.247676 -1.514654  ...  0.247998  0.771679  0.909412 -0.689281 -0.327642   \n",
       "3  0.377436 -1.387024  ... -0.108300  0.005274 -0.190321 -1.175575  0.647376   \n",
       "4 -0.270533  0.817739  ... -0.009431  0.798278 -0.137458  0.141267 -0.206010   \n",
       "\n",
       "        V26       V27       V28  Amount  Class  \n",
       "0 -0.189115  0.133558 -0.021053  149.62      0  \n",
       "1  0.125895 -0.008983  0.014724    2.69      0  \n",
       "2 -0.139097 -0.055353 -0.059752  378.66      0  \n",
       "3 -0.221929  0.062723  0.061458  123.50      0  \n",
       "4  0.502292  0.219422  0.215153   69.99      0  \n",
       "\n",
       "[5 rows x 31 columns]"
      ]
     },
     "execution_count": 1,
     "metadata": {},
     "output_type": "execute_result"
    }
   ],
   "source": [
    "import numpy as np # linear algebra\n",
    "import pandas as pd # data processing, CSV file I/O (e.g. pd.read_csv)\n",
    "from sklearn.model_selection import train_test_split\n",
    "from sklearn.model_selection import StratifiedKFold\n",
    "from sklearn.model_selection import train_test_split\n",
    "from sklearn.linear_model import LogisticRegression\n",
    "from sklearn.svm import SVC\n",
    "from sklearn.naive_bayes import GaussianNB\n",
    "from sklearn.metrics import accuracy_score, f1_score\n",
    "from sklearn.metrics import classification_report, confusion_matrix\n",
    "from sklearn.model_selection import GridSearchCV, KFold, validation_curve, cross_validate\n",
    "from sklearn.neural_network import MLPClassifier\n",
    "from scipy.stats import norm\n",
    "import seaborn as sns\n",
    "import matplotlib.pyplot as plt\n",
    "\n",
    "\n",
    "df = pd.read_csv('./dataset/creditcard.csv')\n",
    "df.head()"
   ]
  },
  {
   "cell_type": "markdown",
   "id": "5a6998d5",
   "metadata": {},
   "source": [
    "## Data Preparation\n",
    "\n",
    "#### Problem\n",
    "\n",
    "This dataset is not balanced. Using the original dataset will cause some Overfitting and Wrong Correlation issues - We want our model to be certain when a fraud occurs but with it being unbalanced it would assume that in most cases there are no frauds. This means that we need to do some pre processing in order to be able to make conclusions."
   ]
  },
  {
   "cell_type": "code",
   "execution_count": 2,
   "id": "00433dda",
   "metadata": {
    "scrolled": false
   },
   "outputs": [
    {
     "name": "stdout",
     "output_type": "stream",
     "text": [
      "No Frauds: 99.83 % \n",
      "Frauds: 0.17 % \n"
     ]
    },
    {
     "data": {
      "text/plain": [
       "Text(0.5, 1.0, 'Class Distributions \\n (0: No Fraud || 1: Fraud)')"
      ]
     },
     "execution_count": 2,
     "metadata": {},
     "output_type": "execute_result"
    },
    {
     "data": {
      "image/png": "[encoded data removed]",
      "text/plain": [
       "<Figure size 432x288 with 1 Axes>"
      ]
     },
     "metadata": {
      "needs_background": "light"
     },
     "output_type": "display_data"
    }
   ],
   "source": [
    "print('No Frauds:', round(df['Class'].value_counts()[0]/len(df) * 100,2), '% ')\n",
    "print('Frauds:', round(df['Class'].value_counts()[1]/len(df) * 100,2),'% ')\n",
    "\n",
    "sns.countplot(x='Class', data=df)\n",
    "plt.title('Class Distributions \\n (0: No Fraud || 1: Fraud)', fontsize=14)"
   ]
  },
  {
   "cell_type": "markdown",
   "id": "f3465c6a",
   "metadata": {},
   "source": [
    "An inbalanced dataset would raise a lot of overfitting problems, since our algorithm would assume that most transactions are not frauds. By normalizing the data (having a good proportion between frauds and not frauds), we can develop a model to find the patterns that form an actual fraud."
   ]
  },
  {
   "cell_type": "markdown",
   "id": "d59e0734",
   "metadata": {},
   "source": [
    "## Scaling and Distribution\n",
    "\n",
    "We need to create a sub sample of the dataset that offers an equal amount of Fraud and Non-Fraud cases. This will help our algorithm to better understand patterns that determines whether a transaction is a fraud or not. We will create a subsample with a 50/50 ratio of fraud and non-fraud transactions.\n",
    "\n",
    "There are 492 cases of fraud in our dataset. We will need to choose 492 non-fraud cases which can be done randomly from the over thousands of cases present in the data given to create this new subsample with a balanced 50/50 ratio."
   ]
  },
  {
   "cell_type": "markdown",
   "id": "0c013ab1",
   "metadata": {},
   "source": [
    "### Random Under-Sampling\n",
    "In this phase we will remove data to better balance the dataset and avoid overfitting by our model. For this we have to determine how imbalanced is our class and how many instances are considered fraud transactions. We want to have an equal number of fraud and non-fraud transactions in our dataset so for that to happen we can use the 492 fraud causes and randomnly choose another 492 non-fraud transactions to create a new balanced dataset. Lastly, we will shuffle the data to check if our models can maintain a certain accuracy everytime we run this script. Bringing 284,315 non-fraud causes to only 492 makes us lose a lot of data so there is a risk that our classification models will not perform as accurate as we would like to."
   ]
  },
  {
   "cell_type": "code",
   "execution_count": 3,
   "id": "ae94b083",
   "metadata": {},
   "outputs": [
    {
     "name": "stdout",
     "output_type": "stream",
     "text": [
      "Distribution of the Classes in the subsample dataset\n",
      "0    0.5\n",
      "1    0.5\n",
      "Name: Class, dtype: float64\n"
     ]
    },
    {
     "data": {
      "image/png": "[encoded data removed]",
      "text/plain": [
       "<Figure size 432x288 with 1 Axes>"
      ]
     },
     "metadata": {
      "needs_background": "light"
     },
     "output_type": "display_data"
    }
   ],
   "source": [
    "# Since our classes are highly skewed we should make them equivalent in order to have a normal distribution of the classes.\n",
    "\n",
    "# Lets shuffle the data before creating the subsamples\n",
    "\n",
    "df = df.sample(frac=1)\n",
    "\n",
    "# amount of fraud classes 492 rows.\n",
    "fraud_df = df.loc[df['Class'] == 1]\n",
    "non_fraud_df = df.loc[df['Class'] == 0][:492]\n",
    "\n",
    "normal_distributed_df = pd.concat([fraud_df, non_fraud_df])\n",
    "\n",
    "# Shuffle dataframe rows\n",
    "new_df = normal_distributed_df.sample(frac=1, random_state=42)\n",
    "\n",
    "new_df.head()\n",
    "\n",
    "print('Distribution of the Classes in the subsample dataset')\n",
    "print(new_df['Class'].value_counts()/len(new_df))\n",
    "\n",
    "\n",
    "\n",
    "sns.countplot(x='Class', data=new_df)\n",
    "plt.title('Equally Distributed Classes', fontsize=14)\n",
    "plt.show()"
   ]
  },
  {
   "cell_type": "markdown",
   "id": "39191923",
   "metadata": {},
   "source": [
    "## Correlation Matrices\n",
    "Correlation matrices are essential to understand our data. We want to learn if there are features that will heavily influence the decision if a transaction is or is not a fraud. For that, we need to use the subsample we generated above to understand which features have a high positive or negative correlation to fraud transactions."
   ]
  },
  {
   "cell_type": "code",
   "execution_count": 4,
   "id": "26f36324",
   "metadata": {},
   "outputs": [
    {
     "data": {
      "image/png": "[encoded data removed]",
      "text/plain": [
       "<Figure size 1728x1440 with 4 Axes>"
      ]
     },
     "metadata": {
      "needs_background": "light"
     },
     "output_type": "display_data"
    }
   ],
   "source": [
    "# Make sure we use the subsample in our correlation\n",
    "\n",
    "f, (ax1, ax2) = plt.subplots(2, 1, figsize=(24,20))\n",
    "\n",
    "# Entire DataFrame\n",
    "corr = df.corr()\n",
    "sns.heatmap(corr, cmap='coolwarm_r', annot_kws={'size':20}, ax=ax1)\n",
    "ax1.set_title(\"Imbalanced Correlation Matrix\", fontsize=14)\n",
    "\n",
    "\n",
    "sub_sample_corr = new_df.corr()\n",
    "sns.heatmap(sub_sample_corr, cmap='coolwarm_r', annot_kws={'size':20}, ax=ax2)\n",
    "ax2.set_title('SubSample Correlation Matrix', fontsize=14)\n",
    "plt.show()"
   ]
  },
  {
   "cell_type": "code",
   "execution_count": 5,
   "id": "2da4dcaa",
   "metadata": {},
   "outputs": [
    {
     "data": {
      "image/png": "[encoded data removed]",
      "text/plain": [
       "<Figure size 1440x288 with 4 Axes>"
      ]
     },
     "metadata": {
      "needs_background": "light"
     },
     "output_type": "display_data"
    }
   ],
   "source": [
    "f, axes = plt.subplots(ncols=4, figsize=(20,4))\n",
    "\n",
    "# Negative Correlations with our Class (The lower our feature value the more likely it will be a fraud transaction)\n",
    "sns.boxplot(x=\"Class\", y=\"V17\", data=new_df, ax=axes[0])\n",
    "axes[0].set_title('V17 vs Class Negative Correlation')\n",
    "\n",
    "sns.boxplot(x=\"Class\", y=\"V14\", data=new_df, ax=axes[1])\n",
    "axes[1].set_title('V14 vs Class Negative Correlation')\n",
    "\n",
    "\n",
    "sns.boxplot(x=\"Class\", y=\"V12\", data=new_df, ax=axes[2])\n",
    "axes[2].set_title('V12 vs Class Negative Correlation')\n",
    "\n",
    "\n",
    "sns.boxplot(x=\"Class\", y=\"V10\", data=new_df, ax=axes[3])\n",
    "axes[3].set_title('V10 vs Class Negative Correlation')\n",
    "\n",
    "plt.show()"
   ]
  },
  {
   "cell_type": "code",
   "execution_count": 6,
   "id": "3ce46514",
   "metadata": {},
   "outputs": [
    {
     "data": {
      "image/png": "[encoded data removed]",
      "text/plain": [
       "<Figure size 1440x288 with 4 Axes>"
      ]
     },
     "metadata": {
      "needs_background": "light"
     },
     "output_type": "display_data"
    }
   ],
   "source": [
    "f, axes = plt.subplots(ncols=4, figsize=(20,4))\n",
    "\n",
    "# Positive correlations (The higher the feature the probability increases that it will be a fraud transaction)\n",
    "sns.boxplot(x=\"Class\", y=\"V11\", data=new_df, ax=axes[0])\n",
    "axes[0].set_title('V11 vs Class Positive Correlation')\n",
    "\n",
    "sns.boxplot(x=\"Class\", y=\"V4\", data=new_df, ax=axes[1])\n",
    "axes[1].set_title('V4 vs Class Positive Correlation')\n",
    "\n",
    "\n",
    "sns.boxplot(x=\"Class\", y=\"V2\", data=new_df, ax=axes[2])\n",
    "axes[2].set_title('V2 vs Class Positive Correlation')\n",
    "\n",
    "\n",
    "sns.boxplot(x=\"Class\", y=\"V19\", data=new_df, ax=axes[3])\n",
    "axes[3].set_title('V19 vs Class Positive Correlation')\n",
    "\n",
    "plt.show()"
   ]
  },
  {
   "cell_type": "markdown",
   "id": "4d934fbf",
   "metadata": {},
   "source": [
    "### Anomaly Detection\n",
    "There can be some extreme outliers that have to be removed from features. This will positively impact the accuracy of our models.\n",
    "\n",
    "We will use the Interquartile Range Method: We calculate this with the difference between the 75th percentile and 25th percentile. Then we create a threshold beyond the 75th & 25th percentile that will remove outliers that pass this threshold.\n",
    "\n",
    "Since we want to focus on extreme outlier we have to be careful to how far do we want the threshold for removing these outliers."
   ]
  },
  {
   "cell_type": "code",
   "execution_count": 7,
   "id": "d8fd311f",
   "metadata": {
    "scrolled": true
   },
   "outputs": [
    {
     "name": "stderr",
     "output_type": "stream",
     "text": [
      "/home/sousa/.local/lib/python3.8/site-packages/seaborn/distributions.py:2619: FutureWarning: `distplot` is a deprecated function and will be removed in a future version. Please adapt your code to use either `displot` (a figure-level function with similar flexibility) or `histplot` (an axes-level function for histograms).\n",
      "  warnings.warn(msg, FutureWarning)\n",
      "/home/sousa/.local/lib/python3.8/site-packages/seaborn/distributions.py:2619: FutureWarning: `distplot` is a deprecated function and will be removed in a future version. Please adapt your code to use either `displot` (a figure-level function with similar flexibility) or `histplot` (an axes-level function for histograms).\n",
      "  warnings.warn(msg, FutureWarning)\n",
      "/home/sousa/.local/lib/python3.8/site-packages/seaborn/distributions.py:2619: FutureWarning: `distplot` is a deprecated function and will be removed in a future version. Please adapt your code to use either `displot` (a figure-level function with similar flexibility) or `histplot` (an axes-level function for histograms).\n",
      "  warnings.warn(msg, FutureWarning)\n"
     ]
    },
    {
     "data": {
      "image/png": "[encoded data removed]",
      "text/plain": [
       "<Figure size 1440x432 with 3 Axes>"
      ]
     },
     "metadata": {
      "needs_background": "light"
     },
     "output_type": "display_data"
    }
   ],
   "source": [
    "f, (ax1, ax2, ax3) = plt.subplots(1,3, figsize=(20, 6))\n",
    "\n",
    "v14_fraud_dist = new_df['V14'].loc[new_df['Class'] == 1].values\n",
    "sns.distplot(v14_fraud_dist,ax=ax1, fit=norm, color='#FB8861')\n",
    "ax1.set_title('V14 Distribution \\n (Fraud Transactions)', fontsize=14)\n",
    "\n",
    "v12_fraud_dist = new_df['V12'].loc[new_df['Class'] == 1].values\n",
    "sns.distplot(v12_fraud_dist,ax=ax2, fit=norm, color='#56F9BB')\n",
    "ax2.set_title('V12 Distribution \\n (Fraud Transactions)', fontsize=14)\n",
    "\n",
    "\n",
    "v10_fraud_dist = new_df['V10'].loc[new_df['Class'] == 1].values\n",
    "sns.distplot(v10_fraud_dist,ax=ax3, fit=norm, color='#C5B3F9')\n",
    "ax3.set_title('V10 Distribution \\n (Fraud Transactions)', fontsize=14)\n",
    "\n",
    "plt.show()"
   ]
  },
  {
   "cell_type": "code",
   "execution_count": 8,
   "id": "067ea25f",
   "metadata": {},
   "outputs": [
    {
     "name": "stdout",
     "output_type": "stream",
     "text": [
      "Quartile 25: -9.692722964972386 | Quartile 75: -4.282820849486865\n",
      "iqr: 5.409902115485521\n",
      "Cut Off: 8.114853173228282\n",
      "V14 Lower: -17.807576138200666\n",
      "V14 Upper: 3.8320323237414167\n",
      "Feature V14 Outliers for Fraud Cases: 4\n",
      "V10 outliers:[-18.8220867423816, -18.4937733551053, -18.0499976898594, -19.2143254902614]\n",
      "\n",
      "\n",
      "V12 Lower: -17.3430371579634\n",
      "V12 Upper: 5.776973384895937\n",
      "V12 outliers: [-18.4311310279993, -18.0475965708216, -18.6837146333443, -18.5536970096458]\n",
      "Feature V12 Outliers for Fraud Cases: 4\n",
      "Number of Instances after outliers removal: 975\n",
      "\n",
      "\n",
      "V10 Lower: -14.89885463232024\n",
      "V10 Upper: 4.92033495834214\n",
      "V10 outliers: [-22.1870885620007, -23.2282548357516, -22.1870885620007, -24.4031849699728, -19.836148851696, -15.2318333653018, -20.9491915543611, -17.1415136412892, -22.1870885620007, -15.1241628144947, -16.6011969664137, -15.2399619587112, -24.5882624372475, -15.3460988468775, -22.1870885620007, -16.2556117491401, -16.7460441053944, -18.9132433348732, -15.5637913387301, -16.3035376590131, -15.5637913387301, -18.2711681738888, -15.2399619587112, -14.9246547735487, -14.9246547735487, -15.1237521803455, -16.6496281595399]\n",
      "Feature V10 Outliers for Fraud Cases: 27\n",
      "Number of Instances after outliers removal: 945\n"
     ]
    }
   ],
   "source": [
    "# # -----> V14 Removing Outliers (Highest Negative Correlated with Labels)\n",
    "v14_fraud = new_df['V14'].loc[new_df['Class'] == 1].values\n",
    "q25, q75 = np.percentile(v14_fraud, 25), np.percentile(v14_fraud, 75)\n",
    "print('Quartile 25: {} | Quartile 75: {}'.format(q25, q75))\n",
    "v14_iqr = q75 - q25\n",
    "print('iqr: {}'.format(v14_iqr))\n",
    "\n",
    "v14_cut_off = v14_iqr * 1.5\n",
    "v14_lower, v14_upper = q25 - v14_cut_off, q75 + v14_cut_off\n",
    "print('Cut Off: {}'.format(v14_cut_off))\n",
    "print('V14 Lower: {}'.format(v14_lower))\n",
    "print('V14 Upper: {}'.format(v14_upper))\n",
    "\n",
    "outliers = [x for x in v14_fraud if x < v14_lower or x > v14_upper]\n",
    "print('Feature V14 Outliers for Fraud Cases: {}'.format(len(outliers)))\n",
    "print('V10 outliers:{}'.format(outliers))\n",
    "\n",
    "new_df = new_df.drop(new_df[(new_df['V14'] > v14_upper) | (new_df['V14'] < v14_lower)].index)\n",
    "print('\\n')\n",
    "\n",
    "# -----> V12 removing outliers from fraud transactions\n",
    "v12_fraud = new_df['V12'].loc[new_df['Class'] == 1].values\n",
    "q25, q75 = np.percentile(v12_fraud, 25), np.percentile(v12_fraud, 75)\n",
    "v12_iqr = q75 - q25\n",
    "\n",
    "v12_cut_off = v12_iqr * 1.5\n",
    "v12_lower, v12_upper = q25 - v12_cut_off, q75 + v12_cut_off\n",
    "print('V12 Lower: {}'.format(v12_lower))\n",
    "print('V12 Upper: {}'.format(v12_upper))\n",
    "outliers = [x for x in v12_fraud if x < v12_lower or x > v12_upper]\n",
    "print('V12 outliers: {}'.format(outliers))\n",
    "print('Feature V12 Outliers for Fraud Cases: {}'.format(len(outliers)))\n",
    "new_df = new_df.drop(new_df[(new_df['V12'] > v12_upper) | (new_df['V12'] < v12_lower)].index)\n",
    "print('Number of Instances after outliers removal: {}'.format(len(new_df)))\n",
    "print('\\n')\n",
    "\n",
    "\n",
    "# Removing outliers V10 Feature\n",
    "v10_fraud = new_df['V10'].loc[new_df['Class'] == 1].values\n",
    "q25, q75 = np.percentile(v10_fraud, 25), np.percentile(v10_fraud, 75)\n",
    "v10_iqr = q75 - q25\n",
    "\n",
    "v10_cut_off = v10_iqr * 1.5\n",
    "v10_lower, v10_upper = q25 - v10_cut_off, q75 + v10_cut_off\n",
    "print('V10 Lower: {}'.format(v10_lower))\n",
    "print('V10 Upper: {}'.format(v10_upper))\n",
    "outliers = [x for x in v10_fraud if x < v10_lower or x > v10_upper]\n",
    "print('V10 outliers: {}'.format(outliers))\n",
    "print('Feature V10 Outliers for Fraud Cases: {}'.format(len(outliers)))\n",
    "new_df = new_df.drop(new_df[(new_df['V10'] > v10_upper) | (new_df['V10'] < v10_lower)].index)\n",
    "print('Number of Instances after outliers removal: {}'.format(len(new_df)))"
   ]
  },
  {
   "cell_type": "markdown",
   "id": "0f1096ef",
   "metadata": {},
   "source": [
    "# Dataset analysis"
   ]
  },
  {
   "cell_type": "code",
   "execution_count": 9,
   "id": "dc8c731d",
   "metadata": {},
   "outputs": [
    {
     "name": "stdout",
     "output_type": "stream",
     "text": [
      "-----CREDIT CARD FRAUD DETECTION NORMALIZED DATASET-----\n",
      "\n",
      "-> Number of instances: 945\n",
      "\n",
      "-> Number of Features: 30\n",
      "\t - Time\n",
      "\t - V1\n",
      "\t - V2\n",
      "\t - V3\n",
      "\t - V4\n",
      "\t - V5\n",
      "\t - V6\n",
      "\t - V7\n",
      "\t - V8\n",
      "\t - V9\n",
      "\t - V10\n",
      "\t - V11\n",
      "\t - V12\n",
      "\t - V13\n",
      "\t - V14\n",
      "\t - V15\n",
      "\t - V16\n",
      "\t - V17\n",
      "\t - V18\n",
      "\t - V19\n",
      "\t - V20\n",
      "\t - V21\n",
      "\t - V22\n",
      "\t - V23\n",
      "\t - V24\n",
      "\t - V25\n",
      "\t - V26\n",
      "\t - V27\n",
      "\t - V28\n",
      "\t - Amount\n",
      "\n",
      "\tDue to privacy reasons, features have no description.\n",
      "\n",
      "-> Target label (Fraud or Non Fraud): Class\n"
     ]
    }
   ],
   "source": [
    "df = new_df\n",
    "\n",
    "print(\"-----CREDIT CARD FRAUD DETECTION NORMALIZED DATASET-----\\n\")\n",
    "print(f\"-> Number of instances: {len(df)}\\n\")\n",
    "\n",
    "features = df.columns[:-1]\n",
    "target = df.columns[-1]\n",
    "\n",
    "print(f\"-> Number of Features: {len(features)}\")\n",
    "\n",
    "for label in features:\n",
    "    print(f\"\\t - {label}\")\n",
    "\n",
    "print(\"\\n\\tDue to privacy reasons, features have no description.\\n\")\n",
    "print(f\"-> Target label (Fraud or Non Fraud): {target}\")"
   ]
  },
  {
   "cell_type": "code",
   "execution_count": 10,
   "id": "b4189f16",
   "metadata": {},
   "outputs": [
    {
     "name": "stdout",
     "output_type": "stream",
     "text": [
      "(945, 31)\n"
     ]
    }
   ],
   "source": [
    "print(df.shape)"
   ]
  },
  {
   "cell_type": "code",
   "execution_count": 11,
   "id": "f3c67190",
   "metadata": {
    "scrolled": true
   },
   "outputs": [
    {
     "name": "stdout",
     "output_type": "stream",
     "text": [
      "<bound method DataFrame.info of             Time         V1         V2         V3        V4         V5  \\\n",
      "99978    67366.0  -0.465920  -0.392274   2.188728 -2.398992  -1.116925   \n",
      "15736    27163.0 -23.914101  13.765942 -25.733734  6.290918 -17.784824   \n",
      "84678    60414.0  -0.337693   1.221347   1.322267  0.050125   0.140019   \n",
      "20198    30852.0  -2.830984   0.885657   1.199930  2.861292   0.321669   \n",
      "251891  155548.0   1.878230   1.325630  -2.333469  4.233151   1.355184   \n",
      "...          ...        ...        ...        ...       ...        ...   \n",
      "27362    34521.0   1.081234   0.416414   0.862919  2.520863  -0.005021   \n",
      "280143  169347.0   1.378559   1.289381  -5.004247  1.411850   0.442581   \n",
      "164820  117016.0   2.053168  -0.322310  -2.791582 -0.773791   2.495496   \n",
      "10690    18088.0 -12.224021   3.854150 -12.466766  9.648311  -2.726961   \n",
      "102442   68207.0 -13.192671  12.785971  -9.906650  3.320337  -4.801176   \n",
      "\n",
      "              V6         V7         V8        V9  ...        V21       V22  \\\n",
      "99978  -1.124248  -0.084014  -0.268789 -2.035140  ...  -0.347432 -0.509150   \n",
      "15736  -4.572498 -17.390764  15.794136 -3.819832  ...   1.773399 -1.748426   \n",
      "84678  -0.960969   0.783073  -0.139124 -0.571672  ...  -0.251448 -0.593003   \n",
      "20198   0.289966   1.767760  -2.451050  0.069736  ...   0.546589  0.334971   \n",
      "251891 -0.853508   0.716025  -0.164910 -1.502345  ...  -0.152131 -0.360736   \n",
      "...          ...        ...        ...       ...  ...        ...       ...   \n",
      "27362   0.563341  -0.123372   0.223122 -0.673598  ...  -0.159387 -0.305154   \n",
      "280143 -1.326536  -1.413170   0.248525 -1.127396  ...   0.370612  0.028234   \n",
      "164820  3.165052  -0.394308   0.714755  0.447928  ...   0.244671  0.743083   \n",
      "10690  -4.445610 -21.922811   0.320792 -4.433162  ...  -1.159830 -1.504119   \n",
      "102442  5.760059 -18.750889 -37.353443 -0.391540  ...  27.202839 -8.887017   \n",
      "\n",
      "              V23       V24       V25       V26       V27       V28   Amount  \\\n",
      "99978    0.062138  0.640247 -0.244336 -0.594596  0.178681 -0.040515    27.00   \n",
      "15736   -1.093104  0.147807  1.663792 -0.221024  1.458076  0.430315    99.99   \n",
      "84678   -0.033838  0.366626 -0.121867  0.067995  0.254040  0.100681     0.99   \n",
      "20198    0.172106  0.623590 -0.527114 -0.079215 -2.532445  0.311177   104.81   \n",
      "251891   0.043414 -0.242380  0.171098 -0.002601 -0.026667  0.005238     7.06   \n",
      "...           ...       ...       ...       ...       ...       ...      ...   \n",
      "27362    0.053620  0.011761  0.375146 -0.106299  0.021008  0.010559     1.52   \n",
      "280143  -0.145640 -0.081049  0.521875  0.739467  0.389152  0.186637     0.76   \n",
      "164820   0.036371  0.737612  0.302328 -0.088038 -0.001463 -0.064659     5.49   \n",
      "10690  -19.254328  0.544867 -4.781606 -0.007772  3.052358 -0.775036  1218.89   \n",
      "102442   5.303607 -0.639435  0.263203 -0.108877  1.269566  0.939407     1.00   \n",
      "\n",
      "        Class  \n",
      "99978       0  \n",
      "15736       1  \n",
      "84678       0  \n",
      "20198       1  \n",
      "251891      1  \n",
      "...       ...  \n",
      "27362       1  \n",
      "280143      1  \n",
      "164820      0  \n",
      "10690       1  \n",
      "102442      1  \n",
      "\n",
      "[945 rows x 31 columns]>\n"
     ]
    }
   ],
   "source": [
    "print(df.info)"
   ]
  },
  {
   "cell_type": "code",
   "execution_count": 12,
   "id": "09991768",
   "metadata": {},
   "outputs": [
    {
     "data": {
      "text/html": [
       "<div>\n",
       "<style scoped>\n",
       "    .dataframe tbody tr th:only-of-type {\n",
       "        vertical-align: middle;\n",
       "    }\n",
       "\n",
       "    .dataframe tbody tr th {\n",
       "        vertical-align: top;\n",
       "    }\n",
       "\n",
       "    .dataframe thead th {\n",
       "        text-align: right;\n",
       "    }\n",
       "</style>\n",
       "<table border=\"1\" class=\"dataframe\">\n",
       "  <thead>\n",
       "    <tr style=\"text-align: right;\">\n",
       "      <th></th>\n",
       "      <th>Time</th>\n",
       "      <th>V1</th>\n",
       "      <th>V2</th>\n",
       "      <th>V3</th>\n",
       "      <th>V4</th>\n",
       "      <th>V5</th>\n",
       "      <th>V6</th>\n",
       "      <th>V7</th>\n",
       "      <th>V8</th>\n",
       "      <th>V9</th>\n",
       "      <th>...</th>\n",
       "      <th>V21</th>\n",
       "      <th>V22</th>\n",
       "      <th>V23</th>\n",
       "      <th>V24</th>\n",
       "      <th>V25</th>\n",
       "      <th>V26</th>\n",
       "      <th>V27</th>\n",
       "      <th>V28</th>\n",
       "      <th>Amount</th>\n",
       "      <th>Class</th>\n",
       "    </tr>\n",
       "  </thead>\n",
       "  <tbody>\n",
       "    <tr>\n",
       "      <th>count</th>\n",
       "      <td>945.000000</td>\n",
       "      <td>945.000000</td>\n",
       "      <td>945.000000</td>\n",
       "      <td>945.000000</td>\n",
       "      <td>945.000000</td>\n",
       "      <td>945.000000</td>\n",
       "      <td>945.000000</td>\n",
       "      <td>945.000000</td>\n",
       "      <td>945.000000</td>\n",
       "      <td>945.000000</td>\n",
       "      <td>...</td>\n",
       "      <td>945.000000</td>\n",
       "      <td>945.000000</td>\n",
       "      <td>945.000000</td>\n",
       "      <td>945.000000</td>\n",
       "      <td>945.000000</td>\n",
       "      <td>945.000000</td>\n",
       "      <td>945.000000</td>\n",
       "      <td>945.000000</td>\n",
       "      <td>945.000000</td>\n",
       "      <td>945.000000</td>\n",
       "    </tr>\n",
       "    <tr>\n",
       "      <th>mean</th>\n",
       "      <td>88201.938624</td>\n",
       "      <td>-1.966466</td>\n",
       "      <td>1.460583</td>\n",
       "      <td>-2.890927</td>\n",
       "      <td>1.998336</td>\n",
       "      <td>-1.217277</td>\n",
       "      <td>-0.680909</td>\n",
       "      <td>-2.171431</td>\n",
       "      <td>0.431821</td>\n",
       "      <td>-1.085353</td>\n",
       "      <td>...</td>\n",
       "      <td>0.504853</td>\n",
       "      <td>-0.040118</td>\n",
       "      <td>-0.047664</td>\n",
       "      <td>-0.069876</td>\n",
       "      <td>0.041690</td>\n",
       "      <td>0.019990</td>\n",
       "      <td>0.172045</td>\n",
       "      <td>0.052436</td>\n",
       "      <td>106.422011</td>\n",
       "      <td>0.483598</td>\n",
       "    </tr>\n",
       "    <tr>\n",
       "      <th>std</th>\n",
       "      <td>49308.417401</td>\n",
       "      <td>4.765240</td>\n",
       "      <td>3.222904</td>\n",
       "      <td>5.450842</td>\n",
       "      <td>3.011594</td>\n",
       "      <td>3.682065</td>\n",
       "      <td>1.659478</td>\n",
       "      <td>4.467196</td>\n",
       "      <td>4.270508</td>\n",
       "      <td>1.987183</td>\n",
       "      <td>...</td>\n",
       "      <td>2.422357</td>\n",
       "      <td>1.056371</td>\n",
       "      <td>1.126125</td>\n",
       "      <td>0.558076</td>\n",
       "      <td>0.656208</td>\n",
       "      <td>0.469587</td>\n",
       "      <td>0.706841</td>\n",
       "      <td>0.395041</td>\n",
       "      <td>263.655310</td>\n",
       "      <td>0.499996</td>\n",
       "    </tr>\n",
       "    <tr>\n",
       "      <th>min</th>\n",
       "      <td>269.000000</td>\n",
       "      <td>-30.552380</td>\n",
       "      <td>-13.665820</td>\n",
       "      <td>-31.103685</td>\n",
       "      <td>-3.806075</td>\n",
       "      <td>-22.105532</td>\n",
       "      <td>-6.406267</td>\n",
       "      <td>-21.922811</td>\n",
       "      <td>-37.353443</td>\n",
       "      <td>-9.283925</td>\n",
       "      <td>...</td>\n",
       "      <td>-6.389132</td>\n",
       "      <td>-8.887017</td>\n",
       "      <td>-19.254328</td>\n",
       "      <td>-2.028024</td>\n",
       "      <td>-4.781606</td>\n",
       "      <td>-1.178550</td>\n",
       "      <td>-3.908080</td>\n",
       "      <td>-2.260319</td>\n",
       "      <td>0.000000</td>\n",
       "      <td>0.000000</td>\n",
       "    </tr>\n",
       "    <tr>\n",
       "      <th>25%</th>\n",
       "      <td>44224.000000</td>\n",
       "      <td>-2.600377</td>\n",
       "      <td>-0.171029</td>\n",
       "      <td>-4.602878</td>\n",
       "      <td>-0.267565</td>\n",
       "      <td>-1.549878</td>\n",
       "      <td>-1.442584</td>\n",
       "      <td>-2.792489</td>\n",
       "      <td>-0.207918</td>\n",
       "      <td>-2.032638</td>\n",
       "      <td>...</td>\n",
       "      <td>-0.152131</td>\n",
       "      <td>-0.521934</td>\n",
       "      <td>-0.240048</td>\n",
       "      <td>-0.414548</td>\n",
       "      <td>-0.288689</td>\n",
       "      <td>-0.286834</td>\n",
       "      <td>-0.053844</td>\n",
       "      <td>-0.050117</td>\n",
       "      <td>1.790000</td>\n",
       "      <td>0.000000</td>\n",
       "    </tr>\n",
       "    <tr>\n",
       "      <th>50%</th>\n",
       "      <td>78435.000000</td>\n",
       "      <td>-0.741754</td>\n",
       "      <td>0.889516</td>\n",
       "      <td>-1.138135</td>\n",
       "      <td>1.209196</td>\n",
       "      <td>-0.398549</td>\n",
       "      <td>-0.654659</td>\n",
       "      <td>-0.585011</td>\n",
       "      <td>0.150383</td>\n",
       "      <td>-0.672014</td>\n",
       "      <td>...</td>\n",
       "      <td>0.160728</td>\n",
       "      <td>0.037675</td>\n",
       "      <td>-0.039712</td>\n",
       "      <td>-0.018820</td>\n",
       "      <td>0.068951</td>\n",
       "      <td>-0.013146</td>\n",
       "      <td>0.047055</td>\n",
       "      <td>0.033766</td>\n",
       "      <td>19.730000</td>\n",
       "      <td>0.000000</td>\n",
       "    </tr>\n",
       "    <tr>\n",
       "      <th>75%</th>\n",
       "      <td>135844.000000</td>\n",
       "      <td>1.025536</td>\n",
       "      <td>2.506719</td>\n",
       "      <td>0.422711</td>\n",
       "      <td>3.880960</td>\n",
       "      <td>0.472469</td>\n",
       "      <td>0.094039</td>\n",
       "      <td>0.303653</td>\n",
       "      <td>0.805472</td>\n",
       "      <td>0.171860</td>\n",
       "      <td>...</td>\n",
       "      <td>0.632505</td>\n",
       "      <td>0.569043</td>\n",
       "      <td>0.176753</td>\n",
       "      <td>0.353739</td>\n",
       "      <td>0.400300</td>\n",
       "      <td>0.319476</td>\n",
       "      <td>0.455179</td>\n",
       "      <td>0.220952</td>\n",
       "      <td>99.990000</td>\n",
       "      <td>1.000000</td>\n",
       "    </tr>\n",
       "    <tr>\n",
       "      <th>max</th>\n",
       "      <td>171447.000000</td>\n",
       "      <td>2.348318</td>\n",
       "      <td>16.713389</td>\n",
       "      <td>3.211679</td>\n",
       "      <td>11.927512</td>\n",
       "      <td>11.095089</td>\n",
       "      <td>5.760059</td>\n",
       "      <td>5.802537</td>\n",
       "      <td>20.007208</td>\n",
       "      <td>4.728716</td>\n",
       "      <td>...</td>\n",
       "      <td>27.202839</td>\n",
       "      <td>2.941475</td>\n",
       "      <td>5.303607</td>\n",
       "      <td>1.143267</td>\n",
       "      <td>2.208209</td>\n",
       "      <td>2.745261</td>\n",
       "      <td>3.052358</td>\n",
       "      <td>1.779364</td>\n",
       "      <td>4276.820000</td>\n",
       "      <td>1.000000</td>\n",
       "    </tr>\n",
       "  </tbody>\n",
       "</table>\n",
       "<p>8 rows × 31 columns</p>\n",
       "</div>"
      ],
      "text/plain": [
       "                Time          V1          V2          V3          V4  \\\n",
       "count     945.000000  945.000000  945.000000  945.000000  945.000000   \n",
       "mean    88201.938624   -1.966466    1.460583   -2.890927    1.998336   \n",
       "std     49308.417401    4.765240    3.222904    5.450842    3.011594   \n",
       "min       269.000000  -30.552380  -13.665820  -31.103685   -3.806075   \n",
       "25%     44224.000000   -2.600377   -0.171029   -4.602878   -0.267565   \n",
       "50%     78435.000000   -0.741754    0.889516   -1.138135    1.209196   \n",
       "75%    135844.000000    1.025536    2.506719    0.422711    3.880960   \n",
       "max    171447.000000    2.348318   16.713389    3.211679   11.927512   \n",
       "\n",
       "               V5          V6          V7          V8          V9  ...  \\\n",
       "count  945.000000  945.000000  945.000000  945.000000  945.000000  ...   \n",
       "mean    -1.217277   -0.680909   -2.171431    0.431821   -1.085353  ...   \n",
       "std      3.682065    1.659478    4.467196    4.270508    1.987183  ...   \n",
       "min    -22.105532   -6.406267  -21.922811  -37.353443   -9.283925  ...   \n",
       "25%     -1.549878   -1.442584   -2.792489   -0.207918   -2.032638  ...   \n",
       "50%     -0.398549   -0.654659   -0.585011    0.150383   -0.672014  ...   \n",
       "75%      0.472469    0.094039    0.303653    0.805472    0.171860  ...   \n",
       "max     11.095089    5.760059    5.802537   20.007208    4.728716  ...   \n",
       "\n",
       "              V21         V22         V23         V24         V25         V26  \\\n",
       "count  945.000000  945.000000  945.000000  945.000000  945.000000  945.000000   \n",
       "mean     0.504853   -0.040118   -0.047664   -0.069876    0.041690    0.019990   \n",
       "std      2.422357    1.056371    1.126125    0.558076    0.656208    0.469587   \n",
       "min     -6.389132   -8.887017  -19.254328   -2.028024   -4.781606   -1.178550   \n",
       "25%     -0.152131   -0.521934   -0.240048   -0.414548   -0.288689   -0.286834   \n",
       "50%      0.160728    0.037675   -0.039712   -0.018820    0.068951   -0.013146   \n",
       "75%      0.632505    0.569043    0.176753    0.353739    0.400300    0.319476   \n",
       "max     27.202839    2.941475    5.303607    1.143267    2.208209    2.745261   \n",
       "\n",
       "              V27         V28       Amount       Class  \n",
       "count  945.000000  945.000000   945.000000  945.000000  \n",
       "mean     0.172045    0.052436   106.422011    0.483598  \n",
       "std      0.706841    0.395041   263.655310    0.499996  \n",
       "min     -3.908080   -2.260319     0.000000    0.000000  \n",
       "25%     -0.053844   -0.050117     1.790000    0.000000  \n",
       "50%      0.047055    0.033766    19.730000    0.000000  \n",
       "75%      0.455179    0.220952    99.990000    1.000000  \n",
       "max      3.052358    1.779364  4276.820000    1.000000  \n",
       "\n",
       "[8 rows x 31 columns]"
      ]
     },
     "execution_count": 12,
     "metadata": {},
     "output_type": "execute_result"
    }
   ],
   "source": [
    "df.describe()"
   ]
  },
  {
   "cell_type": "markdown",
   "id": "3e5c0969",
   "metadata": {},
   "source": [
    "## Data normalization"
   ]
  },
  {
   "cell_type": "code",
   "execution_count": 13,
   "id": "07024a50",
   "metadata": {},
   "outputs": [],
   "source": [
    "def featureNormalization(X):\n",
    "    \"\"\"\n",
    "    Take in numpy array of X values and return normalize X values,\n",
    "    the mean and standard deviation of each feature\n",
    "    \"\"\"\n",
    "    mean= np.mean(X, axis=0)\n",
    "    std= np.std(X, axis=0)\n",
    "    \n",
    "    X_norm = (X - mean)/std\n",
    "    \n",
    "    return X_norm , mean , std"
   ]
  },
  {
   "cell_type": "code",
   "execution_count": 14,
   "id": "027ca25f",
   "metadata": {},
   "outputs": [],
   "source": [
    "X = df.drop(\"Class\", axis=1)\n",
    "y = df[\"Class\"]\n",
    "m, n = X.shape[0], X.shape[1]\n",
    "X = X.to_numpy()\n",
    "y = y.values\n",
    "\n",
    "# Normalize the data\n",
    "X, X_mean, X_std = featureNormalization(X)\n",
    "\n",
    "#After normalizing the features, add an extra column of 1's corresponding to x0 = 1.\n",
    "X = np.append(np.ones((m, 1)), X, axis=1)"
   ]
  },
  {
   "cell_type": "markdown",
   "id": "5f9a8121",
   "metadata": {},
   "source": [
    "### Splitting our dataset into training subset and testing subset"
   ]
  },
  {
   "cell_type": "code",
   "execution_count": 15,
   "id": "142b411e",
   "metadata": {},
   "outputs": [],
   "source": [
    "X_train, X_test, y_train, y_test = train_test_split(X, y, test_size=0.2, stratify=y, random_state=2)"
   ]
  },
  {
   "cell_type": "markdown",
   "id": "b7ac8f9a",
   "metadata": {},
   "source": [
    "# Models"
   ]
  },
  {
   "cell_type": "code",
   "execution_count": 16,
   "id": "b449ef2b",
   "metadata": {},
   "outputs": [],
   "source": [
    "# Some helper functions\n",
    "\n",
    "def train_and_analyze(model, X_train, y_train, X_test, y_test):\n",
    "    model.fit(X_train, y_train)\n",
    "    \n",
    "    print(f\"> Model: {model.__class__}\\n\")\n",
    "    \n",
    "    X_test_prediction = model.predict(X_test)\n",
    "    test_data_accuracy = accuracy_score(X_test_prediction, y_test)\n",
    "    f1 = f1_score(y_test, X_test_prediction)\n",
    "\n",
    "    print()\n",
    "    print(\"---- Model Analysis ----\")\n",
    "    print('Accuracy: ', test_data_accuracy)\n",
    "    print('F1 Score: ', f1)\n",
    "    \n",
    "    print()\n",
    "    \n",
    "    print(\"Confusion Matrix: \")\n",
    "    cm = confusion_matrix(y_test, model.predict(X_test))\n",
    "\n",
    "    fig, ax = plt.subplots(figsize=(8, 8))\n",
    "    ax.imshow(cm)\n",
    "    ax.grid(False)\n",
    "    ax.xaxis.set(ticks=(0, 1), ticklabels=('Predicted 0s', 'Predicted 1s'))\n",
    "    ax.yaxis.set(ticks=(0, 1), ticklabels=('Actual 0s', 'Actual 1s'))\n",
    "    ax.set_ylim(1.5, -0.5)\n",
    "    for i in range(2):\n",
    "        for j in range(2):\n",
    "            ax.text(j, i, cm[i, j], ha='center', va='center', color='red')\n",
    "    plt.show()\n",
    "    \n",
    "    print()\n",
    "    print(\"---- Classification Report ----\")\n",
    "    print(classification_report(y_test, model.predict(X_test)))\n",
    "    \n",
    "def hyperparameters(model, params, X, y):\n",
    "    \"\"\"\n",
    "    Find hyperparameters for a model\n",
    "    \"\"\"\n",
    "    print(\"> Hyper Parameter Tuning\")\n",
    "    print(\"Finding Best Params for Model \", model.__class__)\n",
    "    model = GridSearchCV(model, params, scoring=\"accuracy\")\n",
    "    model.fit(X, y)\n",
    "    print(\" Best Params: \")\n",
    "    print(model.best_params_)\n",
    "    \n",
    "    return model.best_params_\n",
    "\n",
    "\n",
    "def kfold(model, k, X_train, y_train, X_test, y_test):\n",
    "    kf = KFold(n_splits=k, shuffle=True)\n",
    "    scores = cross_validate(model, X_train, y_train, scoring=\"accuracy\", cv=k, return_estimator=True)\n",
    "    return scores[\"estimator\"][np.argmax(scores[\"test_score\"])]\n"
   ]
  },
  {
   "cell_type": "markdown",
   "id": "677ae879",
   "metadata": {},
   "source": [
    "## Logistic Regression"
   ]
  },
  {
   "cell_type": "code",
   "execution_count": 17,
   "id": "490fba0a",
   "metadata": {
    "scrolled": false
   },
   "outputs": [
    {
     "name": "stdout",
     "output_type": "stream",
     "text": [
      "\n",
      "\n",
      "|-------------------------------------|\n",
      "|             Base Model              |\n",
      "|-------------------------------------|\n",
      "\n",
      "\n",
      "> Model: <class 'sklearn.linear_model._logistic.LogisticRegression'>\n",
      "\n",
      "\n",
      "---- Model Analysis ----\n",
      "Accuracy:  0.9365079365079365\n",
      "F1 Score:  0.9310344827586207\n",
      "\n",
      "Confusion Matrix: \n"
     ]
    },
    {
     "data": {
      "image/png": "[encoded data removed]",
      "text/plain": [
       "<Figure size 576x576 with 1 Axes>"
      ]
     },
     "metadata": {
      "needs_background": "light"
     },
     "output_type": "display_data"
    },
    {
     "name": "stdout",
     "output_type": "stream",
     "text": [
      "\n",
      "---- Classification Report ----\n",
      "              precision    recall  f1-score   support\n",
      "\n",
      "           0       0.91      0.98      0.94        98\n",
      "           1       0.98      0.89      0.93        91\n",
      "\n",
      "    accuracy                           0.94       189\n",
      "   macro avg       0.94      0.93      0.94       189\n",
      "weighted avg       0.94      0.94      0.94       189\n",
      "\n",
      "\n",
      "\n",
      "|-------------------------------------|\n",
      "|          Hypertuned Params          |\n",
      "|-------------------------------------|\n",
      "\n",
      "\n",
      "> Hyper Parameter Tuning\n",
      "Finding Best Params for Model  <class 'sklearn.linear_model._logistic.LogisticRegression'>\n",
      " Best Params: \n",
      "{'C': 10, 'class_weight': 'balanced', 'max_iter': 100, 'penalty': 'l1', 'solver': 'liblinear'}\n",
      "> Model: <class 'sklearn.linear_model._logistic.LogisticRegression'>\n",
      "\n",
      "\n",
      "---- Model Analysis ----\n",
      "Accuracy:  0.9365079365079365\n",
      "F1 Score:  0.9318181818181819\n",
      "\n",
      "Confusion Matrix: \n"
     ]
    },
    {
     "data": {
      "image/png": "[encoded data removed]",
      "text/plain": [
       "<Figure size 576x576 with 1 Axes>"
      ]
     },
     "metadata": {
      "needs_background": "light"
     },
     "output_type": "display_data"
    },
    {
     "name": "stdout",
     "output_type": "stream",
     "text": [
      "\n",
      "---- Classification Report ----\n",
      "              precision    recall  f1-score   support\n",
      "\n",
      "           0       0.91      0.97      0.94        98\n",
      "           1       0.96      0.90      0.93        91\n",
      "\n",
      "    accuracy                           0.94       189\n",
      "   macro avg       0.94      0.94      0.94       189\n",
      "weighted avg       0.94      0.94      0.94       189\n",
      "\n",
      "\n",
      "\n",
      "|-------------------------------------|\n",
      "|              K-Fold CV              |\n",
      "|-------------------------------------|\n",
      "\n",
      "\n",
      "> Model: <class 'sklearn.linear_model._logistic.LogisticRegression'>\n",
      "\n",
      "\n",
      "---- Model Analysis ----\n",
      "Accuracy:  0.9365079365079365\n",
      "F1 Score:  0.9318181818181819\n",
      "\n",
      "Confusion Matrix: \n"
     ]
    },
    {
     "data": {
      "image/png": "[encoded data removed]",
      "text/plain": [
       "<Figure size 576x576 with 1 Axes>"
      ]
     },
     "metadata": {
      "needs_background": "light"
     },
     "output_type": "display_data"
    },
    {
     "name": "stdout",
     "output_type": "stream",
     "text": [
      "\n",
      "---- Classification Report ----\n",
      "              precision    recall  f1-score   support\n",
      "\n",
      "           0       0.91      0.97      0.94        98\n",
      "           1       0.96      0.90      0.93        91\n",
      "\n",
      "    accuracy                           0.94       189\n",
      "   macro avg       0.94      0.94      0.94       189\n",
      "weighted avg       0.94      0.94      0.94       189\n",
      "\n"
     ]
    }
   ],
   "source": [
    "model = LogisticRegression()\n",
    "hypertuned_model = LogisticRegression()\n",
    "\n",
    "print()\n",
    "print(\"\"\"\n",
    "|-------------------------------------|\n",
    "|             Base Model              |\n",
    "|-------------------------------------|\n",
    "\"\"\")\n",
    "print()\n",
    "train_and_analyze(model, X_train, y_train, X_test, y_test)\n",
    "\n",
    "\n",
    "print()\n",
    "print(\"\"\"\n",
    "|-------------------------------------|\n",
    "|          Hypertuned Params          |\n",
    "|-------------------------------------|\n",
    "\"\"\")\n",
    "print()\n",
    "# Hypertuned logreg\n",
    "logreg_params = [{'solver': ['liblinear'], 'max_iter': [100, 400, 800],\n",
    "                         'C': [0.1, 1, 10, 100, 1000], 'class_weight': ['balanced'],\n",
    "                         'penalty': ['l1', 'l2']}]\n",
    "best_logreg_params = hyperparameters(LogisticRegression(), logreg_params , X_train, y_train)\n",
    "\n",
    "hypertuned_model.set_params(**best_logreg_params)\n",
    "train_and_analyze(hypertuned_model, X_train, y_train, X_test, y_test)\n",
    "\n",
    "\n",
    "print()\n",
    "print(\"\"\"\n",
    "|-------------------------------------|\n",
    "|              K-Fold CV              |\n",
    "|-------------------------------------|\n",
    "\"\"\")\n",
    "print()\n",
    "\n",
    "kfmodel = kfold(hypertuned_model, 5, X_train, y_train, X_test, y_test)\n",
    "train_and_analyze(kfmodel, X_train, y_train, X_test, y_test)"
   ]
  },
  {
   "cell_type": "markdown",
   "id": "eef20f7b",
   "metadata": {},
   "source": [
    "## SVM"
   ]
  },
  {
   "cell_type": "code",
   "execution_count": 18,
   "id": "1b41ebfd",
   "metadata": {
    "scrolled": false
   },
   "outputs": [
    {
     "name": "stdout",
     "output_type": "stream",
     "text": [
      "\n",
      "\n",
      "|-------------------------------------|\n",
      "|             Base Model              |\n",
      "|-------------------------------------|\n",
      "\n",
      "\n",
      "> Model: <class 'sklearn.svm._classes.SVC'>\n",
      "\n",
      "\n",
      "---- Model Analysis ----\n",
      "Accuracy:  0.91005291005291\n",
      "F1 Score:  0.9017341040462428\n",
      "\n",
      "Confusion Matrix: \n"
     ]
    },
    {
     "data": {
      "image/png": "[encoded data removed]",
      "text/plain": [
       "<Figure size 576x576 with 1 Axes>"
      ]
     },
     "metadata": {
      "needs_background": "light"
     },
     "output_type": "display_data"
    },
    {
     "name": "stdout",
     "output_type": "stream",
     "text": [
      "\n",
      "---- Classification Report ----\n",
      "              precision    recall  f1-score   support\n",
      "\n",
      "           0       0.88      0.96      0.92        98\n",
      "           1       0.95      0.86      0.90        91\n",
      "\n",
      "    accuracy                           0.91       189\n",
      "   macro avg       0.91      0.91      0.91       189\n",
      "weighted avg       0.91      0.91      0.91       189\n",
      "\n",
      "> Hyper Parameter Tuning\n",
      "Finding Best Params for Model  <class 'sklearn.svm._classes.SVC'>\n",
      " Best Params: \n",
      "{'C': 10, 'gamma': 0.01, 'kernel': 'rbf'}\n",
      "\n",
      "\n",
      "|-------------------------------------|\n",
      "|          Hypertuned Params          |\n",
      "|-------------------------------------|\n",
      "\n",
      "\n",
      "> Model: <class 'sklearn.svm._classes.SVC'>\n",
      "\n",
      "\n",
      "---- Model Analysis ----\n",
      "Accuracy:  0.9206349206349206\n",
      "F1 Score:  0.9142857142857143\n",
      "\n",
      "Confusion Matrix: \n"
     ]
    },
    {
     "data": {
      "image/png": "[encoded data removed]",
      "text/plain": [
       "<Figure size 576x576 with 1 Axes>"
      ]
     },
     "metadata": {
      "needs_background": "light"
     },
     "output_type": "display_data"
    },
    {
     "name": "stdout",
     "output_type": "stream",
     "text": [
      "\n",
      "---- Classification Report ----\n",
      "              precision    recall  f1-score   support\n",
      "\n",
      "           0       0.90      0.96      0.93        98\n",
      "           1       0.95      0.88      0.91        91\n",
      "\n",
      "    accuracy                           0.92       189\n",
      "   macro avg       0.92      0.92      0.92       189\n",
      "weighted avg       0.92      0.92      0.92       189\n",
      "\n",
      "\n",
      "\n",
      "|-------------------------------------|\n",
      "|              K-Fold CV              |\n",
      "|-------------------------------------|\n",
      "\n",
      "\n",
      "> Model: <class 'sklearn.svm._classes.SVC'>\n",
      "\n",
      "\n",
      "---- Model Analysis ----\n",
      "Accuracy:  0.9206349206349206\n",
      "F1 Score:  0.9142857142857143\n",
      "\n",
      "Confusion Matrix: \n"
     ]
    },
    {
     "data": {
      "image/png": "[encoded data removed]",
      "text/plain": [
       "<Figure size 576x576 with 1 Axes>"
      ]
     },
     "metadata": {
      "needs_background": "light"
     },
     "output_type": "display_data"
    },
    {
     "name": "stdout",
     "output_type": "stream",
     "text": [
      "\n",
      "---- Classification Report ----\n",
      "              precision    recall  f1-score   support\n",
      "\n",
      "           0       0.90      0.96      0.93        98\n",
      "           1       0.95      0.88      0.91        91\n",
      "\n",
      "    accuracy                           0.92       189\n",
      "   macro avg       0.92      0.92      0.92       189\n",
      "weighted avg       0.92      0.92      0.92       189\n",
      "\n"
     ]
    }
   ],
   "source": [
    "model = SVC()\n",
    "hypertuned_model = SVC()\n",
    "\n",
    "print()\n",
    "print(\"\"\"\n",
    "|-------------------------------------|\n",
    "|             Base Model              |\n",
    "|-------------------------------------|\n",
    "\"\"\")\n",
    "print()\n",
    "train_and_analyze(model, X_train, y_train, X_test, y_test)\n",
    "\n",
    "svm_parameters = [{'C': [0.01, 0.1, 1, 10, 50, 100, 1000], \n",
    "              'gamma': [0.001, 0.01, 0.03, 0.1, 0.3, 1],\n",
    "              'kernel': ['rbf']}]\n",
    "best_svm_params = hyperparameters(SVC(), svm_parameters , X_train, y_train)\n",
    "\n",
    "print()\n",
    "print(\"\"\"\n",
    "|-------------------------------------|\n",
    "|          Hypertuned Params          |\n",
    "|-------------------------------------|\n",
    "\"\"\")\n",
    "print()\n",
    "hypertuned_model.set_params(**best_svm_params)\n",
    "train_and_analyze(hypertuned_model, X_train, y_train, X_test, y_test)\n",
    "\n",
    "print()\n",
    "print(\"\"\"\n",
    "|-------------------------------------|\n",
    "|              K-Fold CV              |\n",
    "|-------------------------------------|\n",
    "\"\"\")\n",
    "print()\n",
    "\n",
    "kfmodel = kfold(hypertuned_model, 5, X_train, y_train, X_test, y_test)\n",
    "train_and_analyze(kfmodel, X_train, y_train, X_test, y_test)"
   ]
  },
  {
   "cell_type": "markdown",
   "id": "6a73e812",
   "metadata": {},
   "source": [
    "## Gaussian NB"
   ]
  },
  {
   "cell_type": "code",
   "execution_count": 19,
   "id": "2d65e01e",
   "metadata": {
    "scrolled": false
   },
   "outputs": [
    {
     "name": "stdout",
     "output_type": "stream",
     "text": [
      "\n",
      "\n",
      "|-------------------------------------|\n",
      "|             Base Model              |\n",
      "|-------------------------------------|\n",
      "\n",
      "\n",
      "> Model: <class 'sklearn.naive_bayes.GaussianNB'>\n",
      "\n",
      "\n",
      "---- Model Analysis ----\n",
      "Accuracy:  0.873015873015873\n",
      "F1 Score:  0.8620689655172414\n",
      "\n",
      "Confusion Matrix: \n"
     ]
    },
    {
     "data": {
      "image/png": "[encoded data removed]",
      "text/plain": [
       "<Figure size 576x576 with 1 Axes>"
      ]
     },
     "metadata": {
      "needs_background": "light"
     },
     "output_type": "display_data"
    },
    {
     "name": "stdout",
     "output_type": "stream",
     "text": [
      "\n",
      "---- Classification Report ----\n",
      "              precision    recall  f1-score   support\n",
      "\n",
      "           0       0.85      0.92      0.88        98\n",
      "           1       0.90      0.82      0.86        91\n",
      "\n",
      "    accuracy                           0.87       189\n",
      "   macro avg       0.88      0.87      0.87       189\n",
      "weighted avg       0.88      0.87      0.87       189\n",
      "\n",
      "> Hyper Parameter Tuning\n",
      "Finding Best Params for Model  <class 'sklearn.naive_bayes.GaussianNB'>\n",
      " Best Params: \n",
      "{'var_smoothing': 1e-09}\n",
      "\n",
      "\n",
      "|-------------------------------------|\n",
      "|          Hypertuned Params          |\n",
      "|-------------------------------------|\n",
      "\n",
      "\n",
      "> Model: <class 'sklearn.naive_bayes.GaussianNB'>\n",
      "\n",
      "\n",
      "---- Model Analysis ----\n",
      "Accuracy:  0.873015873015873\n",
      "F1 Score:  0.8620689655172414\n",
      "\n",
      "Confusion Matrix: \n"
     ]
    },
    {
     "data": {
      "image/png": "[encoded data removed]",
      "text/plain": [
       "<Figure size 576x576 with 1 Axes>"
      ]
     },
     "metadata": {
      "needs_background": "light"
     },
     "output_type": "display_data"
    },
    {
     "name": "stdout",
     "output_type": "stream",
     "text": [
      "\n",
      "---- Classification Report ----\n",
      "              precision    recall  f1-score   support\n",
      "\n",
      "           0       0.85      0.92      0.88        98\n",
      "           1       0.90      0.82      0.86        91\n",
      "\n",
      "    accuracy                           0.87       189\n",
      "   macro avg       0.88      0.87      0.87       189\n",
      "weighted avg       0.88      0.87      0.87       189\n",
      "\n",
      "\n",
      "\n",
      "|-------------------------------------|\n",
      "|              K-Fold CV              |\n",
      "|-------------------------------------|\n",
      "\n",
      "\n",
      "> Model: <class 'sklearn.naive_bayes.GaussianNB'>\n",
      "\n",
      "\n",
      "---- Model Analysis ----\n",
      "Accuracy:  0.873015873015873\n",
      "F1 Score:  0.8620689655172414\n",
      "\n",
      "Confusion Matrix: \n"
     ]
    },
    {
     "data": {
      "image/png": "[encoded data removed]",
      "text/plain": [
       "<Figure size 576x576 with 1 Axes>"
      ]
     },
     "metadata": {
      "needs_background": "light"
     },
     "output_type": "display_data"
    },
    {
     "name": "stdout",
     "output_type": "stream",
     "text": [
      "\n",
      "---- Classification Report ----\n",
      "              precision    recall  f1-score   support\n",
      "\n",
      "           0       0.85      0.92      0.88        98\n",
      "           1       0.90      0.82      0.86        91\n",
      "\n",
      "    accuracy                           0.87       189\n",
      "   macro avg       0.88      0.87      0.87       189\n",
      "weighted avg       0.88      0.87      0.87       189\n",
      "\n"
     ]
    }
   ],
   "source": [
    "model = GaussianNB()\n",
    "hypertuned_model = GaussianNB()\n",
    "\n",
    "print()\n",
    "print(\"\"\"\n",
    "|-------------------------------------|\n",
    "|             Base Model              |\n",
    "|-------------------------------------|\n",
    "\"\"\")\n",
    "print()\n",
    "train_and_analyze(model, X_train, y_train, X_test, y_test)\n",
    "\n",
    "g_nb_parameters = [{'var_smoothing': [1e-09, 1e-05, 1e-02, 1]}]\n",
    "best_g_nb_params = hyperparameters(GaussianNB(), g_nb_parameters , X_train, y_train)\n",
    "\n",
    "print()\n",
    "print(\"\"\"\n",
    "|-------------------------------------|\n",
    "|          Hypertuned Params          |\n",
    "|-------------------------------------|\n",
    "\"\"\")\n",
    "print()\n",
    "hypertuned_model.set_params(**best_g_nb_params)\n",
    "train_and_analyze(hypertuned_model, X_train, y_train, X_test, y_test)\n",
    "\n",
    "print()\n",
    "print(\"\"\"\n",
    "|-------------------------------------|\n",
    "|              K-Fold CV              |\n",
    "|-------------------------------------|\n",
    "\"\"\")\n",
    "print()\n",
    "\n",
    "kfmodel = kfold(hypertuned_model, 5, X_train, y_train, X_test, y_test)\n",
    "train_and_analyze(kfmodel, X_train, y_train, X_test, y_test)"
   ]
  },
  {
   "cell_type": "markdown",
   "id": "510e28f2",
   "metadata": {},
   "source": [
    "## Neural Network"
   ]
  },
  {
   "cell_type": "code",
   "execution_count": 20,
   "id": "4a5f4b46",
   "metadata": {
    "scrolled": false
   },
   "outputs": [
    {
     "name": "stdout",
     "output_type": "stream",
     "text": [
      "\n",
      "\n",
      "|-------------------------------------|\n",
      "|             Base Model              |\n",
      "|-------------------------------------|\n",
      "\n",
      "\n",
      "> Model: <class 'sklearn.neural_network._multilayer_perceptron.MLPClassifier'>\n",
      "\n",
      "\n",
      "---- Model Analysis ----\n",
      "Accuracy:  0.9470899470899471\n",
      "F1 Score:  0.9438202247191013\n",
      "\n",
      "Confusion Matrix: \n"
     ]
    },
    {
     "data": {
      "image/png": "[encoded data removed]",
      "text/plain": [
       "<Figure size 576x576 with 1 Axes>"
      ]
     },
     "metadata": {
      "needs_background": "light"
     },
     "output_type": "display_data"
    },
    {
     "name": "stdout",
     "output_type": "stream",
     "text": [
      "\n",
      "---- Classification Report ----\n",
      "              precision    recall  f1-score   support\n",
      "\n",
      "           0       0.93      0.97      0.95        98\n",
      "           1       0.97      0.92      0.94        91\n",
      "\n",
      "    accuracy                           0.95       189\n",
      "   macro avg       0.95      0.95      0.95       189\n",
      "weighted avg       0.95      0.95      0.95       189\n",
      "\n",
      "> Hyper Parameter Tuning\n",
      "Finding Best Params for Model  <class 'sklearn.neural_network._multilayer_perceptron.MLPClassifier'>\n"
     ]
    }
   ],
   "source": [
    "model = MLPClassifier( max_iter=800)\n",
    "hypertuned_model = MLPClassifier()\n",
    "\n",
    "print()\n",
    "print(\"\"\"\n",
    "|-------------------------------------|\n",
    "|             Base Model              |\n",
    "|-------------------------------------|\n",
    "\"\"\")\n",
    "print()\n",
    "train_and_analyze(model, X_train, y_train, X_test, y_test)\n",
    "\n",
    "nn_parameters = [{'solver': ['adam'], 'max_iter': [1000],\n",
    "                     'hidden_layer_sizes': [(12,12), (12,12,12)], 'activation': ['tanh', 'relu'],\n",
    "                     'alpha': [1e-3,1e-4], 'learning_rate': ['constant', 'invscaling'], \n",
    "                     'learning_rate_init': [0.001, 0.01]}]\n",
    "\n",
    "best_nn_params = hyperparameters(MLPClassifier(), nn_parameters , X_train, y_train)\n",
    "\n",
    "print()\n",
    "print(\"\"\"\n",
    "|-------------------------------------|\n",
    "|          Hypertuned Params          |\n",
    "|-------------------------------------|\n",
    "\"\"\")\n",
    "print()\n",
    "hypertuned_model.set_params(**best_nn_params)\n",
    "train_and_analyze(hypertuned_model, X_train, y_train, X_test, y_test)\n",
    "\n",
    "\n",
    "print()\n",
    "print(\"\"\"\n",
    "|-------------------------------------|\n",
    "|              K-Fold CV              |\n",
    "|-------------------------------------|\n",
    "\"\"\")\n",
    "print()\n",
    "\n",
    "kfmodel = kfold(hypertuned_model, 5, X_train, y_train, X_test, y_test)\n",
    "train_and_analyze(kfmodel, X_train, y_train, X_test, y_test)"
   ]
  },
  {
   "cell_type": "code",
   "execution_count": null,
   "id": "7596ee80",
   "metadata": {},
   "outputs": [],
   "source": []
  }
 ],
 "metadata": {
  "interpreter": {
   "hash": "916dbcbb3f70747c44a77c7bcd40155683ae19c65e1c03b4aa3499c5328201f1"
  },
  "kernelspec": {
   "display_name": "Python 3.8.10 64-bit",
   "language": "python",
   "name": "python3"
  },
  "language_info": {
   "codemirror_mode": {
    "name": "ipython",
    "version": 3
   },
   "file_extension": ".py",
   "mimetype": "text/x-python",
   "name": "python",
   "nbconvert_exporter": "python",
   "pygments_lexer": "ipython3",
   "version": "3.8.10"
  }
 },
 "nbformat": 4,
 "nbformat_minor": 5
}
